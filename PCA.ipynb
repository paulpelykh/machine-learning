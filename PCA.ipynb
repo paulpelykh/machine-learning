{
  "cells": [
    {
      "cell_type": "markdown",
      "metadata": {
        "id": "-KWUY94XUCoN"
      },
      "source": [
        "# Principal Component Analysis"
      ]
    },
    {
      "cell_type": "markdown",
      "metadata": {
        "id": "8nHanps7UCoR"
      },
      "source": [
        "PCA is a dimensionality reduction technique; it lets you distill multi-dimensional data down to fewer dimensions, selecting new dimensions that preserve variance in the data as best it can.\n",
        "\n",
        "We're not talking about Star Trek stuff here; let's make it real - a black & white image for example, contains three dimensions of data: X position, Y position, and brightness at each point. Distilling that down to two dimensions can be useful for things like image compression and facial recognition, because it distills out the information that contributes most to the variance in the data set.\n",
        "\n",
        "Let's do this with a simpler example: the Iris data set that comes with scikit-learn. It's just a small collection of data that has four dimensions of data for three different kinds of Iris flowers: The length and width of both the petals and sepals of many individual flowers from each species. Let's load it up and have a look:"
      ]
    },
    {
      "cell_type": "code",
      "execution_count": 1,
      "metadata": {
        "id": "YjfqRj5JUCoS",
        "outputId": "071fdf19-6641-48ea-97e9-8a6928d82cd2",
        "colab": {
          "base_uri": "https://localhost:8080/"
        }
      },
      "outputs": [
        {
          "output_type": "stream",
          "name": "stdout",
          "text": [
            "150\n",
            "4\n",
            "['setosa', 'versicolor', 'virginica']\n"
          ]
        }
      ],
      "source": [
        "from sklearn.datasets import load_iris\n",
        "from sklearn.decomposition import PCA\n",
        "import pylab as pl\n",
        "from itertools import cycle\n",
        "\n",
        "iris = load_iris()\n",
        "\n",
        "numSamples, numFeatures = iris.data.shape\n",
        "print(numSamples)\n",
        "print(numFeatures)\n",
        "print(list(iris.target_names))"
      ]
    },
    {
      "cell_type": "markdown",
      "metadata": {
        "id": "Y3ehvWXQUCoT"
      },
      "source": [
        "So, this tells us our data set has 150 samples (individual flowers) in it. It has 4 dimensions - called features here, and three distinct Iris species that each flower is classified into.\n",
        "\n",
        "While we can visualize 2 or even 3 dimensions of data pretty easily, visualizing 4D data isn't something our brains can do. So let's distill this down to 2 dimensions, and see how well it works:"
      ]
    },
    {
      "cell_type": "code",
      "execution_count": 2,
      "metadata": {
        "id": "ZhpM2-oIUCoU"
      },
      "outputs": [],
      "source": [
        "X = iris.data\n",
        "pca = PCA(n_components=2, whiten=True).fit(X)\n",
        "X_pca = pca.transform(X)"
      ]
    },
    {
      "cell_type": "markdown",
      "metadata": {
        "id": "v7-Xph6FUCoU"
      },
      "source": [
        "What we have done is distill our 4D data set down to 2D, by projecting it down to two orthogonal 4D vectors that make up the basis of our new 2D projection. We can see what those 4D vectors are, although it's not something you can really wrap your head around:"
      ]
    },
    {
      "cell_type": "code",
      "execution_count": 3,
      "metadata": {
        "id": "DrKKn95iUCoU",
        "outputId": "e1867144-531d-4201-a773-46a48bdd99cd",
        "colab": {
          "base_uri": "https://localhost:8080/"
        }
      },
      "outputs": [
        {
          "output_type": "stream",
          "name": "stdout",
          "text": [
            "[[ 0.36138659 -0.08452251  0.85667061  0.3582892 ]\n",
            " [ 0.65658877  0.73016143 -0.17337266 -0.07548102]]\n"
          ]
        }
      ],
      "source": [
        "print(pca.components_)"
      ]
    },
    {
      "cell_type": "markdown",
      "metadata": {
        "id": "QaydAmQvUCoU"
      },
      "source": [
        "Let's see how much information we've managed to preserve:"
      ]
    },
    {
      "cell_type": "code",
      "execution_count": 4,
      "metadata": {
        "id": "jGVcd-RUUCoV",
        "outputId": "38bbe9a1-449e-4c29-8f1c-856652642471",
        "colab": {
          "base_uri": "https://localhost:8080/"
        }
      },
      "outputs": [
        {
          "output_type": "stream",
          "name": "stdout",
          "text": [
            "[0.92461872 0.05306648]\n",
            "0.9776852063187977\n"
          ]
        }
      ],
      "source": [
        "print(pca.explained_variance_ratio_)\n",
        "print(sum(pca.explained_variance_ratio_))"
      ]
    },
    {
      "cell_type": "markdown",
      "metadata": {
        "id": "iQGf3SlCUCoV"
      },
      "source": [
        "That's pretty cool. Although we have thrown away two of our four dimensions, PCA has chosen the remaining two dimensions well enough that we've captured 92% of the variance in our data in a single dimension alone! The second dimension just gives us an additional 5%; altogether we've only really lost less than 3% of the variance in our data by projecting it down to two dimensions.\n",
        "\n",
        "As promised, now that we have a 2D representation of our data, we can plot it:"
      ]
    },
    {
      "cell_type": "code",
      "execution_count": 5,
      "metadata": {
        "id": "yGuXlKANUCoV",
        "outputId": "411aa023-1962-4a5f-f3d2-756bdd56412f",
        "colab": {
          "base_uri": "https://localhost:8080/",
          "height": 432
        }
      },
      "outputs": [
        {
          "output_type": "display_data",
          "data": {
            "text/plain": [
              "<Figure size 640x480 with 1 Axes>"
            ],
            "image/png": "[encoded data removed]"
          },
          "metadata": {}
        }
      ],
      "source": [
        "%matplotlib inline\n",
        "from pylab import *\n",
        "\n",
        "colors = cycle('rgb')\n",
        "target_ids = range(len(iris.target_names))\n",
        "pl.figure()\n",
        "for i, c, label in zip(target_ids, colors, iris.target_names):\n",
        "    pl.scatter(X_pca[iris.target == i, 0], X_pca[iris.target == i, 1],\n",
        "        c=c, label=label)\n",
        "pl.legend()\n",
        "pl.show()\n"
      ]
    },
    {
      "cell_type": "markdown",
      "metadata": {
        "id": "Lsn2bl8aUCoV"
      },
      "source": [
        "You can see the three different types of Iris are still clustered pretty well. If you think about it, this probably works well because the overall size of an individual flower probably makes both the petal and sepal sizes increase by a similar amount. Although the actual numbers on this graph have no intuitive meaning, what we're probably seeing is measure of the ratio of width to height for petals and sepals - and PCA distilled our data down to that on its own."
      ]
    },
    {
      "cell_type": "markdown",
      "metadata": {
        "id": "O9gR27lBUCoV"
      },
      "source": [
        "## Activity"
      ]
    },
    {
      "cell_type": "markdown",
      "metadata": {
        "id": "_RS355ynUCoW"
      },
      "source": [
        "Our results suggest we could actually distill this data down to a single dimension and still preserve most of its variance. Try it! Do a PCA down to one component, and measure the results."
      ]
    },
    {
      "cell_type": "markdown",
      "source": [
        "### 3D"
      ],
      "metadata": {
        "id": "gLaj2kCtWJOH"
      }
    },
    {
      "cell_type": "code",
      "execution_count": 21,
      "metadata": {
        "id": "ZeB4oJ0TVW1W"
      },
      "outputs": [],
      "source": [
        "X = iris.data\n",
        "pca = PCA(n_components=3, whiten=True).fit(X)\n",
        "X_pca = pca.transform(X)"
      ]
    },
    {
      "cell_type": "code",
      "source": [
        "print(pca.components_)"
      ],
      "metadata": {
        "colab": {
          "base_uri": "https://localhost:8080/",
          "height": 69
        },
        "id": "uHt_ZI5gVZYs",
        "outputId": "f55be040-56c9-485c-c0b4-fb978ff4fc87"
      },
      "execution_count": 22,
      "outputs": [
        {
          "output_type": "stream",
          "name": "stdout",
          "text": [
            "[[ 0.36138659 -0.08452251  0.85667061  0.3582892 ]\n",
            " [ 0.65658877  0.73016143 -0.17337266 -0.07548102]\n",
            " [-0.58202985  0.59791083  0.07623608  0.54583143]]\n"
          ]
        }
      ]
    },
    {
      "cell_type": "code",
      "source": [
        "print(pca.explained_variance_ratio_)\n",
        "print(sum(pca.explained_variance_ratio_))"
      ],
      "metadata": {
        "colab": {
          "base_uri": "https://localhost:8080/",
          "height": 52
        },
        "id": "Ow-ZiuBkVdSm",
        "outputId": "ef3ff710-ba06-4204-abde-98aaf2ff9cc3"
      },
      "execution_count": 23,
      "outputs": [
        {
          "output_type": "stream",
          "name": "stdout",
          "text": [
            "[0.92461872 0.05306648 0.01710261]\n",
            "0.9947878161267252\n"
          ]
        }
      ]
    },
    {
      "cell_type": "code",
      "source": [
        "import plotly.express as px\n",
        "import pandas as pd\n",
        "\n",
        "# Example data - assuming X_pca and iris are already defined\n",
        "# Create a DataFrame from the PCA data and iris targets for easier plotting\n",
        "df = pd.DataFrame(X_pca, columns=['PC1', 'PC2', 'PC3'])\n",
        "df['target'] = iris.target\n",
        "df['target_name'] = [iris.target_names[i] for i in iris.target]\n",
        "\n",
        "# Create an interactive 3D scatter plot using Plotly\n",
        "fig = px.scatter_3d(df, x='PC1', y='PC2', z='PC3', color='target_name', labels={'target_name': 'Species'})\n",
        "\n",
        "# Show the interactive plot in Colab\n",
        "fig.show()"
      ],
      "metadata": {
        "colab": {
          "base_uri": "https://localhost:8080/",
          "height": 542
        },
        "id": "68P8HYDfWAFr",
        "outputId": "3b9284e3-6278-4856-96ac-d03e22fd6c28"
      },
      "execution_count": 29,
      "outputs": [
        {
          "output_type": "display_data",
          "data": {
            "text/html": [
              "<html>\n",
              "<head><meta charset=\"utf-8\" /></head>\n",
              "<body>\n",
              "    <div>            <script src=\"https://cdnjs.cloudflare.com/ajax/libs/mathjax/2.7.5/MathJax.js?config=TeX-AMS-MML_SVG\"></script><script type=\"text/javascript\">if (window.MathJax && window.MathJax.Hub && window.MathJax.Hub.Config) {window.MathJax.Hub.Config({SVG: {font: \"STIX-Web\"}});}</script>                <script type=\"text/javascript\">window.PlotlyConfig = {MathJaxConfig: 'local'};</script>\n",
              "        <script charset=\"utf-8\" src=\"https://cdn.plot.ly/plotly-2.35.2.min.js\"></script>                <div id=\"c09ad5a6-32ef-4bf7-8e5f-bcdcba9f2a12\" class=\"plotly-graph-div\" style=\"height:525px; width:100%;\"></div>            <script type=\"text/javascript\">                                    window.PLOTLYENV=window.PLOTLYENV || {};                                    if (document.getElementById(\"c09ad5a6-32ef-4bf7-8e5f-bcdcba9f2a12\")) {                    Plotly.newPlot(                        \"c09ad5a6-32ef-4bf7-8e5f-bcdcba9f2a12\",                        [{\"hovertemplate\":\"Species=setosa\\u003cbr\\u003ePC1=%{x}\\u003cbr\\u003ePC2=%{y}\\u003cbr\\u003ePC3=%{z}\\u003cextra\\u003e\\u003c\\u002fextra\\u003e\",\"legendgroup\":\"setosa\",\"marker\":{\"color\":\"#636efa\",\"symbol\":\"circle\"},\"mode\":\"markers\",\"name\":\"setosa\",\"scene\":\"scene\",\"showlegend\":true,\"x\":[-1.3053378633198613,-1.3199352059240557,-1.4049673160155915,-1.3351088870771328,-1.3270232134328905,-1.1092224636819394,-1.3716774972612766,-1.2771408442468803,-1.4036990785276036,-1.299808514380977,-1.2191728014166276,-1.2706291752869283,-1.3549343150389512,-1.5677928968991983,-1.2861889881828086,-1.160373070355938,-1.2758681031438504,-1.2879136246577287,-1.0698116113255174,-1.25858365377305,-1.1235185427048735,-1.2370489354506509,-1.5639683347058526,-1.1198599584164979,-1.145644945690495,-1.2190375157403375,-1.2006309570571372,-1.2461015830016209,-1.2836525132068324,-1.2799830864191584,-1.2582977363061294,-1.1719928851115637,-1.2881886996253513,-1.2638117391306742,-1.2823842757188442,-1.3939041145227808,-1.276699791374288,-1.362022322547786,-1.4494709680533475,-1.2595659737941174,-1.3471499049759692,-1.3856985013165881,-1.45769192737388,-1.169892959393138,-1.0745137756490064,-1.320085837714686,-1.2343464825697048,-1.3808807766028768,-1.2367476718693906,-1.3146917744520918],\"y\":[0.6483693157802357,-0.3593085551442222,-0.2942441151846477,-0.6461398574898026,0.6633044030430381,1.5048843443862587,-0.18160462338266772,0.3316678389090505,-1.173960014930262,-0.2309591918513194,1.3094755353079035,0.029901449300669496,-0.47727213785456346,-1.0381196519886908,2.392866028008664,2.716236808265861,1.6456614061221355,0.633046836403374,1.7718438606747329,1.0425160190194311,0.7944235563899409,0.8789723902925587,0.270937216430087,0.2003767826477236,-0.07568134700123777,-0.29641102392495144,0.2658286147213574,0.7464611124334726,0.6334342285174333,-0.39982691148655497,-0.4147619987493574,0.8341671285041533,1.651110487910388,2.2190616095791245,-0.24628167122818292,0.14080833651093982,1.2167078295630316,0.545340820332695,-0.9905446001462834,0.46495390099625705,0.5349550397501371,-1.9101290628860013,-0.6941023014462674,0.38340480531764115,0.8864164779066925,-0.5079170966082887,1.0226442329623249,-0.46272444270582397,1.176189473220697,0.21864095499301123],\"z\":[-0.09981715675505735,-0.7525729901078024,0.06400729810760855,0.11284923513133642,0.3221031419832418,0.6031534386732381,0.9221644627407182,-0.07823552899252156,0.07423156287283339,-0.7066902572432747,-0.2693202931163811,0.3652663975083142,-0.7396292480031191,0.21919386731241958,-0.5421859850238101,0.993267844883777,0.4941122016284742,0.09535990976008375,-0.43018554381984764,0.7640186893767066,-0.8561981449494315,0.7453962657733714,1.0455451394177673,0.13989599033698522,0.4470473252918872,-0.9061731802052403,0.3393789132989519,-0.2806776561136913,-0.5217374554933593,0.1457882258911816,-0.27613207284711755,-0.520364630441531,0.8069422180820308,0.5642960395949929,-0.5115131907281333,-0.5876154370130489,-0.9595607004955395,0.3350468840879203,0.26077074373012005,-0.2863563376123432,0.27622040911871454,-1.2487694292039018,0.6883697239670749,0.9435325364477118,1.0682369929366125,-0.3492751149728365,0.5961019321227563,0.29938841598862265,-0.061199484496557904,-0.3192953283721903],\"type\":\"scatter3d\"},{\"hovertemplate\":\"Species=versicolor\\u003cbr\\u003ePC1=%{x}\\u003cbr\\u003ePC2=%{y}\\u003cbr\\u003ePC3=%{z}\\u003cextra\\u003e\\u003c\\u002fextra\\u003e\",\"legendgroup\":\"versicolor\",\"marker\":{\"color\":\"#EF553B\",\"symbol\":\"circle\"},\"mode\":\"markers\",\"name\":\"versicolor\",\"scene\":\"scene\",\"showlegend\":true,\"x\":[0.6248335037697882,0.4534856999843887,0.7121161713703802,0.0891506562002656,0.529163898943694,0.31205504813184853,0.5325474082644475,-0.3643116312213202,0.5077798124119253,-0.004253045002432946,-0.24697202239653657,0.248848077444674,0.1288627721379477,0.4789911086757218,-0.08458299077047991,0.45123514247533303,0.3211076956828185,0.11482204279656816,0.4594407556815254,0.021994680142752986,0.5428682933034056,0.1740474806155111,0.6313298266154006,0.44825311101172294,0.34764584190996667,0.4377707516828364,0.6477870913708054,0.7575867973148634,0.39551765715413595,-0.1486108071887945,-0.03313112051522157,-0.09221676904283217,0.06634770038987838,0.6711313143296674,0.28595795477729297,0.3923894975149375,0.5936436107338987,0.39639525928427916,0.11961357889664223,0.08092969687973282,0.22604061801924522,0.43321921914997746,0.11211958991562274,-0.3426262811082908,0.17360642774291896,0.1614256205527501,0.18296033887514915,0.3124961010044407,-0.44083236091036104,0.14540940866993757],\"y\":[1.3908605355438075,0.6462102145116423,1.0236423138617927,-1.6807384024997254,0.15141741376484513,-0.8490318587451142,0.5754342915296436,-2.0399063295045865,0.46356958395578585,-1.4678402053042048,-2.5698933956853534,-0.2110795983225011,-1.1165618032831128,-0.25337747129108007,-0.51734838257659,0.9483639962340844,-0.716520580886028,-0.6772224461414527,-1.1025734031628585,-1.185170817524808,-0.17177033035688644,-0.1399162832264413,-0.6654009547615003,-0.37095366188736384,0.30258025608328004,0.6668567847968688,0.4962095485353871,0.543009816149674,-0.3315974818872108,-0.7475640649748537,-1.431483763528052,-1.3809670187172223,-0.6374788740272403,-0.8545278525679049,-0.9830927050604411,0.3941857854859705,0.8274587205553154,-0.7552269675379482,-0.5450985603964259,-1.3842961037997075,-1.3615295368087137,-0.06996205650710144,-0.820894288811219,-2.0548414167673887,-1.0249562738804223,-0.4316842843663273,-0.595227913093198,0.03600813190886692,-1.5348527390551188,-0.7082547970092372],\"z\":[-1.4537959870861163,-0.06441468737442173,-1.209776983547247,-0.6421785001985545,-1.1004731472069624,0.1468788794601426,0.6072032964014015,0.04399247726509452,-1.4851485987385893,1.0052986433887723,-0.964805673306253,0.46680944770416116,-2.482113232961568,-0.22210717986314513,0.3234563948477238,-1.1250139791286982,1.1729528013472026,-0.9696138558683446,-1.7861679713195506,-0.840314770872895,1.6435014830536865,-0.8219059013251007,-1.243849072539176,-0.8262608030119056,-1.1506879092825186,-1.1306926606273524,-1.8654920210591892,-0.5897204141346054,0.12667007674943626,-1.1388543929341466,-0.8732537616327417,-1.095691137409074,-0.6337803413604437,0.05781001859476961,1.5891944185868458,1.3908445938569638,-0.8480559848299839,-2.1981037321123678,0.6735574312721555,-0.21457951996159946,-0.08691585931349956,-0.0355679990058593,-0.8203195222177303,-0.37792782147320303,0.05941927017791568,0.2975198653983815,0.27889744179504666,-0.7344462920428738,-0.045053511124501566,0.03783764241537829],\"type\":\"scatter3d\"},{\"hovertemplate\":\"Species=virginica\\u003cbr\\u003ePC1=%{x}\\u003cbr\\u003ePC2=%{y}\\u003cbr\\u003ePC3=%{z}\\u003cextra\\u003e\\u003c\\u002fextra\\u003e\",\"legendgroup\":\"virginica\",\"marker\":{\"color\":\"#00cc96\",\"symbol\":\"circle\"},\"mode\":\"markers\",\"name\":\"virginica\",\"scene\":\"scene\",\"showlegend\":true,\"x\":[1.2309638844748523,0.6882542894105399,1.2725359225637445,0.9587904930190774,1.1428495286438232,1.6520401438859027,0.2534844781390753,1.426169066605049,1.1288547132021491,1.4184676894343957,0.808150222940681,0.8770263318580723,1.0531656717435451,0.6546632070749647,0.7712650030609367,0.9261708882052714,0.948168344398859,1.6958168255841464,1.8458896399004294,0.6325980641033888,1.180690879930997,0.5830954877759255,1.7020731448625432,0.6753815832812662,1.1065821820409392,1.2712785275750544,0.6120348233027588,0.6279004033949415,1.0327485591185044,1.161328189840367,1.3819558356492552,1.5711338595689732,1.050172797780637,0.7023212073655569,0.86627523644582,1.496156442335542,1.0427835266905416,0.9264829942858301,0.568664123076701,1.0249686526705646,1.125414447482392,0.9348329003983964,0.6882542894105399,1.246438829209189,1.1762791366894698,0.9454550490186148,0.7426881911294088,0.8580325921266913,0.9244615978446911,0.676073482220371],\"y\":[-0.01999347350371586,-1.167067414872905,0.698115758085328,-0.3648436535298392,-0.08172882838080513,1.1181862104835802,-2.4212737210002437,0.7216571093044457,-0.49497253344898456,1.5890502678972003,0.4917182871107222,-0.437739573217605,0.4390346335595853,-1.5769239896030232,-1.0954586624072098,0.24207625602498936,0.08514388542855254,2.3867247225600234,0.5223599201151184,-1.5451168545071166,0.7677295047251488,-1.230352338206235,0.9351581878136608,-0.4149260941920729,0.680023488654468,1.1386172915691732,-0.3647967414953026,-0.23683477031645914,-0.4257461789232285,0.9432084824908181,0.7617880735327192,2.789524601790069,-0.441068658300092,-0.2911260375794128,-1.0147893082468287,1.3967986409869062,0.28432721695902996,0.10007897269135495,-0.3349265669696978,0.7557361104307723,0.3728080172578293,0.8306739479789543,-1.167067414872905,0.564054911770001,0.6187335711470177,0.3806864090205608,-0.7618851377029204,0.1600817229767346,0.23675216511662628,-0.5737954253588098],\"z\":[2.718180915433157,1.0595828353798387,-0.39615259920260876,0.38770225230849475,1.020489009770275,-1.2459344774733847,1.951155144123854,-1.5026836690613938,-1.2454583241223216,1.5137524174713806,0.8669116921486099,-0.13462139781671417,0.11916858961209341,1.0080214210166558,2.2492676580740225,1.7150843188362372,0.15799981592613574,0.4787780106309431,-1.8371181857532608,-1.2336248077739502,0.7835215127818902,1.8302803907307192,-2.0495710235841127,-0.23071889275679638,1.0232084871097293,-0.7349453178697103,0.16394109672031107,0.8269211948382792,0.5513131531156173,-1.6074190496593297,-1.7839475198069348,-0.40959866742255924,0.7464902196307591,-0.5479299836613617,-0.6181628668678582,-1.2000026993688806,2.627762101991729,0.5799201146644347,1.00778169419691,0.09758696184955683,1.1538803971570075,0.40616016709626684,1.0595828353798387,1.0461629399240953,1.8039167531702949,0.6358626034786249,-0.4358804972174186,0.46657302117284577,2.586185225574027,1.297683430600305],\"type\":\"scatter3d\"}],                        {\"template\":{\"data\":{\"histogram2dcontour\":[{\"type\":\"histogram2dcontour\",\"colorbar\":{\"outlinewidth\":0,\"ticks\":\"\"},\"colorscale\":[[0.0,\"#0d0887\"],[0.1111111111111111,\"#46039f\"],[0.2222222222222222,\"#7201a8\"],[0.3333333333333333,\"#9c179e\"],[0.4444444444444444,\"#bd3786\"],[0.5555555555555556,\"#d8576b\"],[0.6666666666666666,\"#ed7953\"],[0.7777777777777778,\"#fb9f3a\"],[0.8888888888888888,\"#fdca26\"],[1.0,\"#f0f921\"]]}],\"choropleth\":[{\"type\":\"choropleth\",\"colorbar\":{\"outlinewidth\":0,\"ticks\":\"\"}}],\"histogram2d\":[{\"type\":\"histogram2d\",\"colorbar\":{\"outlinewidth\":0,\"ticks\":\"\"},\"colorscale\":[[0.0,\"#0d0887\"],[0.1111111111111111,\"#46039f\"],[0.2222222222222222,\"#7201a8\"],[0.3333333333333333,\"#9c179e\"],[0.4444444444444444,\"#bd3786\"],[0.5555555555555556,\"#d8576b\"],[0.6666666666666666,\"#ed7953\"],[0.7777777777777778,\"#fb9f3a\"],[0.8888888888888888,\"#fdca26\"],[1.0,\"#f0f921\"]]}],\"heatmap\":[{\"type\":\"heatmap\",\"colorbar\":{\"outlinewidth\":0,\"ticks\":\"\"},\"colorscale\":[[0.0,\"#0d0887\"],[0.1111111111111111,\"#46039f\"],[0.2222222222222222,\"#7201a8\"],[0.3333333333333333,\"#9c179e\"],[0.4444444444444444,\"#bd3786\"],[0.5555555555555556,\"#d8576b\"],[0.6666666666666666,\"#ed7953\"],[0.7777777777777778,\"#fb9f3a\"],[0.8888888888888888,\"#fdca26\"],[1.0,\"#f0f921\"]]}],\"heatmapgl\":[{\"type\":\"heatmapgl\",\"colorbar\":{\"outlinewidth\":0,\"ticks\":\"\"},\"colorscale\":[[0.0,\"#0d0887\"],[0.1111111111111111,\"#46039f\"],[0.2222222222222222,\"#7201a8\"],[0.3333333333333333,\"#9c179e\"],[0.4444444444444444,\"#bd3786\"],[0.5555555555555556,\"#d8576b\"],[0.6666666666666666,\"#ed7953\"],[0.7777777777777778,\"#fb9f3a\"],[0.8888888888888888,\"#fdca26\"],[1.0,\"#f0f921\"]]}],\"contourcarpet\":[{\"type\":\"contourcarpet\",\"colorbar\":{\"outlinewidth\":0,\"ticks\":\"\"}}],\"contour\":[{\"type\":\"contour\",\"colorbar\":{\"outlinewidth\":0,\"ticks\":\"\"},\"colorscale\":[[0.0,\"#0d0887\"],[0.1111111111111111,\"#46039f\"],[0.2222222222222222,\"#7201a8\"],[0.3333333333333333,\"#9c179e\"],[0.4444444444444444,\"#bd3786\"],[0.5555555555555556,\"#d8576b\"],[0.6666666666666666,\"#ed7953\"],[0.7777777777777778,\"#fb9f3a\"],[0.8888888888888888,\"#fdca26\"],[1.0,\"#f0f921\"]]}],\"surface\":[{\"type\":\"surface\",\"colorbar\":{\"outlinewidth\":0,\"ticks\":\"\"},\"colorscale\":[[0.0,\"#0d0887\"],[0.1111111111111111,\"#46039f\"],[0.2222222222222222,\"#7201a8\"],[0.3333333333333333,\"#9c179e\"],[0.4444444444444444,\"#bd3786\"],[0.5555555555555556,\"#d8576b\"],[0.6666666666666666,\"#ed7953\"],[0.7777777777777778,\"#fb9f3a\"],[0.8888888888888888,\"#fdca26\"],[1.0,\"#f0f921\"]]}],\"mesh3d\":[{\"type\":\"mesh3d\",\"colorbar\":{\"outlinewidth\":0,\"ticks\":\"\"}}],\"scatter\":[{\"fillpattern\":{\"fillmode\":\"overlay\",\"size\":10,\"solidity\":0.2},\"type\":\"scatter\"}],\"parcoords\":[{\"type\":\"parcoords\",\"line\":{\"colorbar\":{\"outlinewidth\":0,\"ticks\":\"\"}}}],\"scatterpolargl\":[{\"type\":\"scatterpolargl\",\"marker\":{\"colorbar\":{\"outlinewidth\":0,\"ticks\":\"\"}}}],\"bar\":[{\"error_x\":{\"color\":\"#2a3f5f\"},\"error_y\":{\"color\":\"#2a3f5f\"},\"marker\":{\"line\":{\"color\":\"#E5ECF6\",\"width\":0.5},\"pattern\":{\"fillmode\":\"overlay\",\"size\":10,\"solidity\":0.2}},\"type\":\"bar\"}],\"scattergeo\":[{\"type\":\"scattergeo\",\"marker\":{\"colorbar\":{\"outlinewidth\":0,\"ticks\":\"\"}}}],\"scatterpolar\":[{\"type\":\"scatterpolar\",\"marker\":{\"colorbar\":{\"outlinewidth\":0,\"ticks\":\"\"}}}],\"histogram\":[{\"marker\":{\"pattern\":{\"fillmode\":\"overlay\",\"size\":10,\"solidity\":0.2}},\"type\":\"histogram\"}],\"scattergl\":[{\"type\":\"scattergl\",\"marker\":{\"colorbar\":{\"outlinewidth\":0,\"ticks\":\"\"}}}],\"scatter3d\":[{\"type\":\"scatter3d\",\"line\":{\"colorbar\":{\"outlinewidth\":0,\"ticks\":\"\"}},\"marker\":{\"colorbar\":{\"outlinewidth\":0,\"ticks\":\"\"}}}],\"scattermapbox\":[{\"type\":\"scattermapbox\",\"marker\":{\"colorbar\":{\"outlinewidth\":0,\"ticks\":\"\"}}}],\"scatterternary\":[{\"type\":\"scatterternary\",\"marker\":{\"colorbar\":{\"outlinewidth\":0,\"ticks\":\"\"}}}],\"scattercarpet\":[{\"type\":\"scattercarpet\",\"marker\":{\"colorbar\":{\"outlinewidth\":0,\"ticks\":\"\"}}}],\"carpet\":[{\"aaxis\":{\"endlinecolor\":\"#2a3f5f\",\"gridcolor\":\"white\",\"linecolor\":\"white\",\"minorgridcolor\":\"white\",\"startlinecolor\":\"#2a3f5f\"},\"baxis\":{\"endlinecolor\":\"#2a3f5f\",\"gridcolor\":\"white\",\"linecolor\":\"white\",\"minorgridcolor\":\"white\",\"startlinecolor\":\"#2a3f5f\"},\"type\":\"carpet\"}],\"table\":[{\"cells\":{\"fill\":{\"color\":\"#EBF0F8\"},\"line\":{\"color\":\"white\"}},\"header\":{\"fill\":{\"color\":\"#C8D4E3\"},\"line\":{\"color\":\"white\"}},\"type\":\"table\"}],\"barpolar\":[{\"marker\":{\"line\":{\"color\":\"#E5ECF6\",\"width\":0.5},\"pattern\":{\"fillmode\":\"overlay\",\"size\":10,\"solidity\":0.2}},\"type\":\"barpolar\"}],\"pie\":[{\"automargin\":true,\"type\":\"pie\"}]},\"layout\":{\"autotypenumbers\":\"strict\",\"colorway\":[\"#636efa\",\"#EF553B\",\"#00cc96\",\"#ab63fa\",\"#FFA15A\",\"#19d3f3\",\"#FF6692\",\"#B6E880\",\"#FF97FF\",\"#FECB52\"],\"font\":{\"color\":\"#2a3f5f\"},\"hovermode\":\"closest\",\"hoverlabel\":{\"align\":\"left\"},\"paper_bgcolor\":\"white\",\"plot_bgcolor\":\"#E5ECF6\",\"polar\":{\"bgcolor\":\"#E5ECF6\",\"angularaxis\":{\"gridcolor\":\"white\",\"linecolor\":\"white\",\"ticks\":\"\"},\"radialaxis\":{\"gridcolor\":\"white\",\"linecolor\":\"white\",\"ticks\":\"\"}},\"ternary\":{\"bgcolor\":\"#E5ECF6\",\"aaxis\":{\"gridcolor\":\"white\",\"linecolor\":\"white\",\"ticks\":\"\"},\"baxis\":{\"gridcolor\":\"white\",\"linecolor\":\"white\",\"ticks\":\"\"},\"caxis\":{\"gridcolor\":\"white\",\"linecolor\":\"white\",\"ticks\":\"\"}},\"coloraxis\":{\"colorbar\":{\"outlinewidth\":0,\"ticks\":\"\"}},\"colorscale\":{\"sequential\":[[0.0,\"#0d0887\"],[0.1111111111111111,\"#46039f\"],[0.2222222222222222,\"#7201a8\"],[0.3333333333333333,\"#9c179e\"],[0.4444444444444444,\"#bd3786\"],[0.5555555555555556,\"#d8576b\"],[0.6666666666666666,\"#ed7953\"],[0.7777777777777778,\"#fb9f3a\"],[0.8888888888888888,\"#fdca26\"],[1.0,\"#f0f921\"]],\"sequentialminus\":[[0.0,\"#0d0887\"],[0.1111111111111111,\"#46039f\"],[0.2222222222222222,\"#7201a8\"],[0.3333333333333333,\"#9c179e\"],[0.4444444444444444,\"#bd3786\"],[0.5555555555555556,\"#d8576b\"],[0.6666666666666666,\"#ed7953\"],[0.7777777777777778,\"#fb9f3a\"],[0.8888888888888888,\"#fdca26\"],[1.0,\"#f0f921\"]],\"diverging\":[[0,\"#8e0152\"],[0.1,\"#c51b7d\"],[0.2,\"#de77ae\"],[0.3,\"#f1b6da\"],[0.4,\"#fde0ef\"],[0.5,\"#f7f7f7\"],[0.6,\"#e6f5d0\"],[0.7,\"#b8e186\"],[0.8,\"#7fbc41\"],[0.9,\"#4d9221\"],[1,\"#276419\"]]},\"xaxis\":{\"gridcolor\":\"white\",\"linecolor\":\"white\",\"ticks\":\"\",\"title\":{\"standoff\":15},\"zerolinecolor\":\"white\",\"automargin\":true,\"zerolinewidth\":2},\"yaxis\":{\"gridcolor\":\"white\",\"linecolor\":\"white\",\"ticks\":\"\",\"title\":{\"standoff\":15},\"zerolinecolor\":\"white\",\"automargin\":true,\"zerolinewidth\":2},\"scene\":{\"xaxis\":{\"backgroundcolor\":\"#E5ECF6\",\"gridcolor\":\"white\",\"linecolor\":\"white\",\"showbackground\":true,\"ticks\":\"\",\"zerolinecolor\":\"white\",\"gridwidth\":2},\"yaxis\":{\"backgroundcolor\":\"#E5ECF6\",\"gridcolor\":\"white\",\"linecolor\":\"white\",\"showbackground\":true,\"ticks\":\"\",\"zerolinecolor\":\"white\",\"gridwidth\":2},\"zaxis\":{\"backgroundcolor\":\"#E5ECF6\",\"gridcolor\":\"white\",\"linecolor\":\"white\",\"showbackground\":true,\"ticks\":\"\",\"zerolinecolor\":\"white\",\"gridwidth\":2}},\"shapedefaults\":{\"line\":{\"color\":\"#2a3f5f\"}},\"annotationdefaults\":{\"arrowcolor\":\"#2a3f5f\",\"arrowhead\":0,\"arrowwidth\":1},\"geo\":{\"bgcolor\":\"white\",\"landcolor\":\"#E5ECF6\",\"subunitcolor\":\"white\",\"showland\":true,\"showlakes\":true,\"lakecolor\":\"white\"},\"title\":{\"x\":0.05},\"mapbox\":{\"style\":\"light\"}}},\"scene\":{\"domain\":{\"x\":[0.0,1.0],\"y\":[0.0,1.0]},\"xaxis\":{\"title\":{\"text\":\"PC1\"}},\"yaxis\":{\"title\":{\"text\":\"PC2\"}},\"zaxis\":{\"title\":{\"text\":\"PC3\"}}},\"legend\":{\"title\":{\"text\":\"Species\"},\"tracegroupgap\":0},\"margin\":{\"t\":60}},                        {\"responsive\": true}                    ).then(function(){\n",
              "                            \n",
              "var gd = document.getElementById('c09ad5a6-32ef-4bf7-8e5f-bcdcba9f2a12');\n",
              "var x = new MutationObserver(function (mutations, observer) {{\n",
              "        var display = window.getComputedStyle(gd).display;\n",
              "        if (!display || display === 'none') {{\n",
              "            console.log([gd, 'removed!']);\n",
              "            Plotly.purge(gd);\n",
              "            observer.disconnect();\n",
              "        }}\n",
              "}});\n",
              "\n",
              "// Listen for the removal of the full notebook cells\n",
              "var notebookContainer = gd.closest('#notebook-container');\n",
              "if (notebookContainer) {{\n",
              "    x.observe(notebookContainer, {childList: true});\n",
              "}}\n",
              "\n",
              "// Listen for the clearing of the current output cell\n",
              "var outputEl = gd.closest('.output');\n",
              "if (outputEl) {{\n",
              "    x.observe(outputEl, {childList: true});\n",
              "}}\n",
              "\n",
              "                        })                };                            </script>        </div>\n",
              "</body>\n",
              "</html>"
            ]
          },
          "metadata": {}
        }
      ]
    },
    {
      "cell_type": "markdown",
      "source": [
        "### 1D"
      ],
      "metadata": {
        "id": "xn-QCqu5X0qi"
      }
    },
    {
      "cell_type": "code",
      "source": [
        "X = iris.data\n",
        "pca = PCA(n_components=1, whiten=True).fit(X)\n",
        "X_pca = pca.transform(X)"
      ],
      "metadata": {
        "id": "rX9IxXbZYnEL"
      },
      "execution_count": 45,
      "outputs": []
    },
    {
      "cell_type": "code",
      "source": [
        "print(pca.components_)"
      ],
      "metadata": {
        "colab": {
          "base_uri": "https://localhost:8080/"
        },
        "id": "psAMJasKYo1i",
        "outputId": "17558ee1-eb9c-421c-ac42-d875082479ad"
      },
      "execution_count": 46,
      "outputs": [
        {
          "output_type": "stream",
          "name": "stdout",
          "text": [
            "[[ 0.36138659 -0.08452251  0.85667061  0.3582892 ]]\n"
          ]
        }
      ]
    },
    {
      "cell_type": "code",
      "source": [
        "print(pca.explained_variance_ratio_)\n",
        "print(sum(pca.explained_variance_ratio_))"
      ],
      "metadata": {
        "colab": {
          "base_uri": "https://localhost:8080/"
        },
        "id": "fua1FX13YqnD",
        "outputId": "f9d704b0-4d08-4a9b-bc40-8cb99d48985d"
      },
      "execution_count": 47,
      "outputs": [
        {
          "output_type": "stream",
          "name": "stdout",
          "text": [
            "[0.92461872]\n",
            "0.924618723201734\n"
          ]
        }
      ]
    },
    {
      "cell_type": "code",
      "source": [
        "# Create a list of colors (red, green, blue) based on iris target\n",
        "colors = ['red' if target == 0 else 'green' if target == 1 else 'blue' for target in iris.target]\n",
        "\n",
        "# Plot the 1D reduced data\n",
        "plt.figure(figsize=(10, 6))\n",
        "plt.scatter(X_pca, [0] * len(X_pca), c=colors, edgecolor='k')\n",
        "\n",
        "# Add labels and title\n",
        "plt.xlabel('Principal Component 1')\n",
        "plt.title('1D PCA of Iris Dataset with Red, Green, Blue Colors')\n",
        "plt.yticks([])  # Remove y-axis ticks since it's 1D\n",
        "\n",
        "# Show the plot\n",
        "plt.show()"
      ],
      "metadata": {
        "colab": {
          "base_uri": "https://localhost:8080/",
          "height": 457
        },
        "id": "NI_s0-S9Yxiy",
        "outputId": "9b38c189-fd5b-4645-a746-6538459c6908"
      },
      "execution_count": 49,
      "outputs": [
        {
          "output_type": "display_data",
          "data": {
            "text/plain": [
              "<Figure size 1000x600 with 1 Axes>"
            ],
            "image/png": "[encoded data removed]"
          },
          "metadata": {}
        }
      ]
    }
  ],
  "metadata": {
    "kernelspec": {
      "display_name": "Python 3",
      "language": "python",
      "name": "python3"
    },
    "language_info": {
      "codemirror_mode": {
        "name": "ipython",
        "version": 3
      },
      "file_extension": ".py",
      "mimetype": "text/x-python",
      "name": "python",
      "nbconvert_exporter": "python",
      "pygments_lexer": "ipython3",
      "version": "3.7.3"
    },
    "colab": {
      "provenance": []
    }
  },
  "nbformat": 4,
  "nbformat_minor": 0
}