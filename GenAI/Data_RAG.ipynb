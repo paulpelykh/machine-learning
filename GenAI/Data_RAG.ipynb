{
  "nbformat": 4,
  "nbformat_minor": 0,
  "metadata": {
    "colab": {
      "provenance": [],
      "include_colab_link": true
    },
    "kernelspec": {
      "name": "python3",
      "display_name": "Python 3"
    },
    "language_info": {
      "name": "python"
    }
  },
  "cells": [
    {
      "cell_type": "markdown",
      "metadata": {
        "id": "view-in-github",
        "colab_type": "text"
      },
      "source": [
        "<a href=\"https://colab.research.google.com/github/paulpelykh/machine-learning/blob/main/GenAI/Data_RAG.ipynb\" target=\"_parent\"><img src=\"https://colab.research.google.com/assets/colab-badge.svg\" alt=\"Open In Colab\"/></a>"
      ]
    },
    {
      "cell_type": "markdown",
      "source": [
        "Instead of using fine-tuning, we'll use RAG to build our own \"Commander Data\" based on everything he ever said in the scripts.\n",
        "\n",
        "To summarize the high level approach:\n",
        "\n",
        "- We'll first parse all of the scripts to extract every line from Data, much as we did in the fine-tuning example.\n",
        "- Then we'll use the OpenAI embeddings API to compute embedding vectors for every one of his lines. This basically gives us similarity measures between every line.\n",
        "- RAG calls for use of a vector database to store these lines with the associated embedding vectors. To keep things simple, we'll use a local database called vectordb. There are plenty of cloud-based vector database services out there as well.\n",
        "- Then we'll make a little retrieval function that retrieves the N most-similar lines from the vector database for a given query\n",
        "- Those similar lines are then added as context to the prompt before it is handed off the the chat API.\n",
        "\n",
        "I'm intentionally not using langchain or some other higher-level framework, because this is actually pretty simple without it.\n",
        "\n",
        "First, let's install vectordb:"
      ],
      "metadata": {
        "id": "IOpw--87wvkW"
      }
    },
    {
      "cell_type": "code",
      "execution_count": null,
      "metadata": {
        "colab": {
          "base_uri": "https://localhost:8080/"
        },
        "id": "2J2I0mlbLWba",
        "outputId": "7c94ad51-76ee-42ed-8a8c-605b40b7f833"
      },
      "outputs": [
        {
          "output_type": "stream",
          "name": "stdout",
          "text": [
            "Requirement already satisfied: vectordb in /usr/local/lib/python3.10/dist-packages (0.0.20)\n",
            "Requirement already satisfied: jina>=3.20.0 in /usr/local/lib/python3.10/dist-packages (from vectordb) (3.23.2)\n",
            "Requirement already satisfied: docarray[hnswlib]>=0.34.0 in /usr/local/lib/python3.10/dist-packages (from vectordb) (0.40.0)\n",
            "Requirement already satisfied: numpy>=1.17.3 in /usr/local/lib/python3.10/dist-packages (from docarray[hnswlib]>=0.34.0->vectordb) (1.23.5)\n",
            "Requirement already satisfied: orjson>=3.8.2 in /usr/local/lib/python3.10/dist-packages (from docarray[hnswlib]>=0.34.0->vectordb) (3.9.13)\n",
            "Requirement already satisfied: pydantic>=1.10.8 in /usr/local/lib/python3.10/dist-packages (from docarray[hnswlib]>=0.34.0->vectordb) (1.10.14)\n",
            "Requirement already satisfied: rich>=13.1.0 in /usr/local/lib/python3.10/dist-packages (from docarray[hnswlib]>=0.34.0->vectordb) (13.7.0)\n",
            "Requirement already satisfied: types-requests>=2.28.11.6 in /usr/local/lib/python3.10/dist-packages (from docarray[hnswlib]>=0.34.0->vectordb) (2.31.0.6)\n",
            "Requirement already satisfied: typing-inspect>=0.8.0 in /usr/local/lib/python3.10/dist-packages (from docarray[hnswlib]>=0.34.0->vectordb) (0.9.0)\n",
            "Requirement already satisfied: hnswlib>=0.7.0 in /usr/local/lib/python3.10/dist-packages (from docarray[hnswlib]>=0.34.0->vectordb) (0.8.0)\n",
            "Requirement already satisfied: protobuf>=3.20.0 in /usr/local/lib/python3.10/dist-packages (from docarray[hnswlib]>=0.34.0->vectordb) (4.25.2)\n",
            "Requirement already satisfied: urllib3<2.0.0,>=1.25.9 in /usr/local/lib/python3.10/dist-packages (from jina>=3.20.0->vectordb) (1.26.18)\n",
            "Requirement already satisfied: opentelemetry-instrumentation-grpc>=0.35b0 in /usr/local/lib/python3.10/dist-packages (from jina>=3.20.0->vectordb) (0.40b0)\n",
            "Requirement already satisfied: grpcio<=1.57.0,>=1.46.0 in /usr/local/lib/python3.10/dist-packages (from jina>=3.20.0->vectordb) (1.57.0)\n",
            "Requirement already satisfied: opentelemetry-sdk<1.20.0,>=1.14.0 in /usr/local/lib/python3.10/dist-packages (from jina>=3.20.0->vectordb) (1.19.0)\n",
            "Requirement already satisfied: jcloud>=0.0.35 in /usr/local/lib/python3.10/dist-packages (from jina>=3.20.0->vectordb) (0.3)\n",
            "Requirement already satisfied: jina-hubble-sdk>=0.30.4 in /usr/local/lib/python3.10/dist-packages (from jina>=3.20.0->vectordb) (0.39.0)\n",
            "Requirement already satisfied: websockets in /usr/local/lib/python3.10/dist-packages (from jina>=3.20.0->vectordb) (12.0)\n",
            "Requirement already satisfied: filelock in /usr/local/lib/python3.10/dist-packages (from jina>=3.20.0->vectordb) (3.13.1)\n",
            "Requirement already satisfied: fastapi>=0.76.0 in /usr/local/lib/python3.10/dist-packages (from jina>=3.20.0->vectordb) (0.109.2)\n",
            "Requirement already satisfied: opentelemetry-api>=1.12.0 in /usr/local/lib/python3.10/dist-packages (from jina>=3.20.0->vectordb) (1.19.0)\n",
            "Requirement already satisfied: opentelemetry-instrumentation-aiohttp-client>=0.33b0 in /usr/local/lib/python3.10/dist-packages (from jina>=3.20.0->vectordb) (0.40b0)\n",
            "Requirement already satisfied: pyyaml>=5.3.1 in /usr/local/lib/python3.10/dist-packages (from jina>=3.20.0->vectordb) (6.0.1)\n",
            "Requirement already satisfied: requests in /usr/local/lib/python3.10/dist-packages (from jina>=3.20.0->vectordb) (2.31.0)\n",
            "Requirement already satisfied: opentelemetry-instrumentation-fastapi>=0.33b0 in /usr/local/lib/python3.10/dist-packages (from jina>=3.20.0->vectordb) (0.40b0)\n",
            "Requirement already satisfied: opentelemetry-exporter-prometheus>=0.33b0 in /usr/local/lib/python3.10/dist-packages (from jina>=3.20.0->vectordb) (0.41b0)\n",
            "Requirement already satisfied: python-multipart in /usr/local/lib/python3.10/dist-packages (from jina>=3.20.0->vectordb) (0.0.7)\n",
            "Requirement already satisfied: opentelemetry-exporter-otlp>=1.12.0 in /usr/local/lib/python3.10/dist-packages (from jina>=3.20.0->vectordb) (1.19.0)\n",
            "Requirement already satisfied: pathspec in /usr/local/lib/python3.10/dist-packages (from jina>=3.20.0->vectordb) (0.12.1)\n",
            "Requirement already satisfied: aiofiles in /usr/local/lib/python3.10/dist-packages (from jina>=3.20.0->vectordb) (23.2.1)\n",
            "Requirement already satisfied: grpcio-health-checking<=1.57.0,>=1.46.0 in /usr/local/lib/python3.10/dist-packages (from jina>=3.20.0->vectordb) (1.57.0)\n",
            "Requirement already satisfied: packaging>=20.0 in /usr/local/lib/python3.10/dist-packages (from jina>=3.20.0->vectordb) (23.2)\n",
            "Requirement already satisfied: uvicorn[standard]<=0.23.1 in /usr/local/lib/python3.10/dist-packages (from jina>=3.20.0->vectordb) (0.23.1)\n",
            "Requirement already satisfied: docker in /usr/local/lib/python3.10/dist-packages (from jina>=3.20.0->vectordb) (7.0.0)\n",
            "Requirement already satisfied: prometheus-client>=0.12.0 in /usr/local/lib/python3.10/dist-packages (from jina>=3.20.0->vectordb) (0.19.0)\n",
            "Requirement already satisfied: opentelemetry-exporter-otlp-proto-grpc>=1.13.0 in /usr/local/lib/python3.10/dist-packages (from jina>=3.20.0->vectordb) (1.19.0)\n",
            "Requirement already satisfied: grpcio-reflection<=1.57.0,>=1.46.0 in /usr/local/lib/python3.10/dist-packages (from jina>=3.20.0->vectordb) (1.57.0)\n",
            "Requirement already satisfied: aiohttp in /usr/local/lib/python3.10/dist-packages (from jina>=3.20.0->vectordb) (3.9.3)\n",
            "Requirement already satisfied: uvloop in /usr/local/lib/python3.10/dist-packages (from jina>=3.20.0->vectordb) (0.19.0)\n",
            "Requirement already satisfied: starlette<0.37.0,>=0.36.3 in /usr/local/lib/python3.10/dist-packages (from fastapi>=0.76.0->jina>=3.20.0->vectordb) (0.36.3)\n",
            "Requirement already satisfied: typing-extensions>=4.8.0 in /usr/local/lib/python3.10/dist-packages (from fastapi>=0.76.0->jina>=3.20.0->vectordb) (4.9.0)\n",
            "Requirement already satisfied: python-dotenv in /usr/local/lib/python3.10/dist-packages (from jcloud>=0.0.35->jina>=3.20.0->vectordb) (1.0.1)\n",
            "Requirement already satisfied: python-dateutil in /usr/local/lib/python3.10/dist-packages (from jcloud>=0.0.35->jina>=3.20.0->vectordb) (2.8.2)\n",
            "Requirement already satisfied: aiosignal>=1.1.2 in /usr/local/lib/python3.10/dist-packages (from aiohttp->jina>=3.20.0->vectordb) (1.3.1)\n",
            "Requirement already satisfied: attrs>=17.3.0 in /usr/local/lib/python3.10/dist-packages (from aiohttp->jina>=3.20.0->vectordb) (23.2.0)\n",
            "Requirement already satisfied: frozenlist>=1.1.1 in /usr/local/lib/python3.10/dist-packages (from aiohttp->jina>=3.20.0->vectordb) (1.4.1)\n",
            "Requirement already satisfied: multidict<7.0,>=4.5 in /usr/local/lib/python3.10/dist-packages (from aiohttp->jina>=3.20.0->vectordb) (6.0.4)\n",
            "Requirement already satisfied: yarl<2.0,>=1.0 in /usr/local/lib/python3.10/dist-packages (from aiohttp->jina>=3.20.0->vectordb) (1.9.4)\n",
            "Requirement already satisfied: async-timeout<5.0,>=4.0 in /usr/local/lib/python3.10/dist-packages (from aiohttp->jina>=3.20.0->vectordb) (4.0.3)\n",
            "Requirement already satisfied: importlib-metadata in /usr/local/lib/python3.10/dist-packages (from jina-hubble-sdk>=0.30.4->jina>=3.20.0->vectordb) (6.11.0)\n",
            "Requirement already satisfied: python-jose in /usr/local/lib/python3.10/dist-packages (from jina-hubble-sdk>=0.30.4->jina>=3.20.0->vectordb) (3.3.0)\n",
            "Requirement already satisfied: deprecated>=1.2.6 in /usr/local/lib/python3.10/dist-packages (from opentelemetry-api>=1.12.0->jina>=3.20.0->vectordb) (1.2.14)\n",
            "Requirement already satisfied: opentelemetry-exporter-otlp-proto-http==1.19.0 in /usr/local/lib/python3.10/dist-packages (from opentelemetry-exporter-otlp>=1.12.0->jina>=3.20.0->vectordb) (1.19.0)\n",
            "Requirement already satisfied: backoff<3.0.0,>=1.10.0 in /usr/local/lib/python3.10/dist-packages (from opentelemetry-exporter-otlp-proto-grpc>=1.13.0->jina>=3.20.0->vectordb) (2.2.1)\n",
            "Requirement already satisfied: googleapis-common-protos~=1.52 in /usr/local/lib/python3.10/dist-packages (from opentelemetry-exporter-otlp-proto-grpc>=1.13.0->jina>=3.20.0->vectordb) (1.62.0)\n",
            "Requirement already satisfied: opentelemetry-exporter-otlp-proto-common==1.19.0 in /usr/local/lib/python3.10/dist-packages (from opentelemetry-exporter-otlp-proto-grpc>=1.13.0->jina>=3.20.0->vectordb) (1.19.0)\n",
            "Requirement already satisfied: opentelemetry-proto==1.19.0 in /usr/local/lib/python3.10/dist-packages (from opentelemetry-exporter-otlp-proto-grpc>=1.13.0->jina>=3.20.0->vectordb) (1.19.0)\n",
            "Requirement already satisfied: opentelemetry-instrumentation==0.40b0 in /usr/local/lib/python3.10/dist-packages (from opentelemetry-instrumentation-aiohttp-client>=0.33b0->jina>=3.20.0->vectordb) (0.40b0)\n",
            "Requirement already satisfied: opentelemetry-semantic-conventions==0.40b0 in /usr/local/lib/python3.10/dist-packages (from opentelemetry-instrumentation-aiohttp-client>=0.33b0->jina>=3.20.0->vectordb) (0.40b0)\n",
            "Requirement already satisfied: opentelemetry-util-http==0.40b0 in /usr/local/lib/python3.10/dist-packages (from opentelemetry-instrumentation-aiohttp-client>=0.33b0->jina>=3.20.0->vectordb) (0.40b0)\n",
            "Requirement already satisfied: wrapt<2.0.0,>=1.0.0 in /usr/local/lib/python3.10/dist-packages (from opentelemetry-instrumentation-aiohttp-client>=0.33b0->jina>=3.20.0->vectordb) (1.14.1)\n",
            "Requirement already satisfied: setuptools>=16.0 in /usr/local/lib/python3.10/dist-packages (from opentelemetry-instrumentation==0.40b0->opentelemetry-instrumentation-aiohttp-client>=0.33b0->jina>=3.20.0->vectordb) (67.7.2)\n",
            "Requirement already satisfied: opentelemetry-instrumentation-asgi==0.40b0 in /usr/local/lib/python3.10/dist-packages (from opentelemetry-instrumentation-fastapi>=0.33b0->jina>=3.20.0->vectordb) (0.40b0)\n",
            "Requirement already satisfied: asgiref~=3.0 in /usr/local/lib/python3.10/dist-packages (from opentelemetry-instrumentation-asgi==0.40b0->opentelemetry-instrumentation-fastapi>=0.33b0->jina>=3.20.0->vectordb) (3.7.2)\n",
            "Requirement already satisfied: charset-normalizer<4,>=2 in /usr/local/lib/python3.10/dist-packages (from requests->jina>=3.20.0->vectordb) (3.3.2)\n",
            "Requirement already satisfied: idna<4,>=2.5 in /usr/local/lib/python3.10/dist-packages (from requests->jina>=3.20.0->vectordb) (3.6)\n",
            "Requirement already satisfied: certifi>=2017.4.17 in /usr/local/lib/python3.10/dist-packages (from requests->jina>=3.20.0->vectordb) (2023.11.17)\n",
            "Requirement already satisfied: markdown-it-py>=2.2.0 in /usr/local/lib/python3.10/dist-packages (from rich>=13.1.0->docarray[hnswlib]>=0.34.0->vectordb) (3.0.0)\n",
            "Requirement already satisfied: pygments<3.0.0,>=2.13.0 in /usr/local/lib/python3.10/dist-packages (from rich>=13.1.0->docarray[hnswlib]>=0.34.0->vectordb) (2.16.1)\n",
            "Requirement already satisfied: types-urllib3 in /usr/local/lib/python3.10/dist-packages (from types-requests>=2.28.11.6->docarray[hnswlib]>=0.34.0->vectordb) (1.26.25.14)\n",
            "Requirement already satisfied: mypy-extensions>=0.3.0 in /usr/local/lib/python3.10/dist-packages (from typing-inspect>=0.8.0->docarray[hnswlib]>=0.34.0->vectordb) (1.0.0)\n",
            "Requirement already satisfied: click>=7.0 in /usr/local/lib/python3.10/dist-packages (from uvicorn[standard]<=0.23.1->jina>=3.20.0->vectordb) (8.1.7)\n",
            "Requirement already satisfied: h11>=0.8 in /usr/local/lib/python3.10/dist-packages (from uvicorn[standard]<=0.23.1->jina>=3.20.0->vectordb) (0.14.0)\n",
            "Requirement already satisfied: httptools>=0.5.0 in /usr/local/lib/python3.10/dist-packages (from uvicorn[standard]<=0.23.1->jina>=3.20.0->vectordb) (0.6.1)\n",
            "Requirement already satisfied: watchfiles>=0.13 in /usr/local/lib/python3.10/dist-packages (from uvicorn[standard]<=0.23.1->jina>=3.20.0->vectordb) (0.21.0)\n",
            "Requirement already satisfied: zipp>=0.5 in /usr/local/lib/python3.10/dist-packages (from importlib-metadata->jina-hubble-sdk>=0.30.4->jina>=3.20.0->vectordb) (3.17.0)\n",
            "Requirement already satisfied: mdurl~=0.1 in /usr/local/lib/python3.10/dist-packages (from markdown-it-py>=2.2.0->rich>=13.1.0->docarray[hnswlib]>=0.34.0->vectordb) (0.1.2)\n",
            "Requirement already satisfied: anyio<5,>=3.4.0 in /usr/local/lib/python3.10/dist-packages (from starlette<0.37.0,>=0.36.3->fastapi>=0.76.0->jina>=3.20.0->vectordb) (3.7.1)\n",
            "Requirement already satisfied: six>=1.5 in /usr/local/lib/python3.10/dist-packages (from python-dateutil->jcloud>=0.0.35->jina>=3.20.0->vectordb) (1.16.0)\n",
            "Requirement already satisfied: ecdsa!=0.15 in /usr/local/lib/python3.10/dist-packages (from python-jose->jina-hubble-sdk>=0.30.4->jina>=3.20.0->vectordb) (0.18.0)\n",
            "Requirement already satisfied: rsa in /usr/local/lib/python3.10/dist-packages (from python-jose->jina-hubble-sdk>=0.30.4->jina>=3.20.0->vectordb) (4.9)\n",
            "Requirement already satisfied: pyasn1 in /usr/local/lib/python3.10/dist-packages (from python-jose->jina-hubble-sdk>=0.30.4->jina>=3.20.0->vectordb) (0.5.1)\n",
            "Requirement already satisfied: sniffio>=1.1 in /usr/local/lib/python3.10/dist-packages (from anyio<5,>=3.4.0->starlette<0.37.0,>=0.36.3->fastapi>=0.76.0->jina>=3.20.0->vectordb) (1.3.0)\n",
            "Requirement already satisfied: exceptiongroup in /usr/local/lib/python3.10/dist-packages (from anyio<5,>=3.4.0->starlette<0.37.0,>=0.36.3->fastapi>=0.76.0->jina>=3.20.0->vectordb) (1.2.0)\n"
          ]
        }
      ],
      "source": [
        "!pip install vectordb"
      ]
    },
    {
      "cell_type": "markdown",
      "source": [
        "Now we'll parse out all of the scripts and extract every line of dialog from \"DATA\". This is almost exactly the same code as from our fine tuning example's preprocessing script. Note you will need to upload all of the script files into a tng folder within your sample_data folder in your CoLab workspace first.\n",
        "\n",
        "An archive can be found at https://www.st-minutiae.com/resources/scripts/ (look for \"All TNG Epsiodes\"), but you could easily adapt this to read scripts from your favorite character from your favorite TV show or movie instead."
      ],
      "metadata": {
        "id": "L4_ysgbQx-jF"
      }
    },
    {
      "cell_type": "code",
      "source": [
        "import os\n",
        "import re\n",
        "import random\n",
        "\n",
        "dialogues = []\n",
        "\n",
        "def strip_parentheses(s):\n",
        "    return re.sub(r'\\(.*?\\)', '', s)\n",
        "\n",
        "def is_single_word_all_caps(s):\n",
        "    # First, we split the string into words\n",
        "    words = s.split()\n",
        "\n",
        "    # Check if the string contains only a single word\n",
        "    if len(words) != 1:\n",
        "        return False\n",
        "\n",
        "    # Make sure it isn't a line number\n",
        "    if bool(re.search(r'\\d', words[0])):\n",
        "        return False\n",
        "\n",
        "    # Check if the single word is in all caps\n",
        "    return words[0].isupper()\n",
        "\n",
        "def extract_character_lines(file_path, character_name):\n",
        "    lines = []\n",
        "    with open(file_path, 'r') as script_file:\n",
        "        try:\n",
        "          lines = script_file.readlines()\n",
        "        except UnicodeDecodeError:\n",
        "          pass\n",
        "\n",
        "    is_character_line = False\n",
        "    current_line = ''\n",
        "    current_character = ''\n",
        "    for line in lines:\n",
        "        strippedLine = line.strip()\n",
        "        if (is_single_word_all_caps(strippedLine)):\n",
        "            is_character_line = True\n",
        "            current_character = strippedLine\n",
        "        elif (line.strip() == '') and is_character_line:\n",
        "            is_character_line = False\n",
        "            dialog_line = strip_parentheses(current_line).strip()\n",
        "            dialog_line = dialog_line.replace('\"', \"'\")\n",
        "            if (current_character == 'DATA' and len(dialog_line)>0):\n",
        "                dialogues.append(dialog_line)\n",
        "            current_line = ''\n",
        "        elif is_character_line:\n",
        "            current_line += line.strip() + ' '\n",
        "\n",
        "def process_directory(directory_path, character_name):\n",
        "    for filename in os.listdir(directory_path):\n",
        "        file_path = os.path.join(directory_path, filename)\n",
        "        if os.path.isfile(file_path):  # Ignore directories\n",
        "            extract_character_lines(file_path, character_name)\n",
        "\n"
      ],
      "metadata": {
        "id": "dLjupJ8rLXr6"
      },
      "execution_count": 2,
      "outputs": []
    },
    {
      "cell_type": "code",
      "source": [
        "process_directory(\"./sample_data/tng\", 'DATA')"
      ],
      "metadata": {
        "id": "Yh3peBSuMiyx"
      },
      "execution_count": 3,
      "outputs": []
    },
    {
      "cell_type": "markdown",
      "source": [
        "Let's do a little sanity check to make sure the lines imported correctly, and print out the first one."
      ],
      "metadata": {
        "id": "jqjo_OdEyeNF"
      }
    },
    {
      "cell_type": "code",
      "source": [
        "print (dialogues[0])"
      ],
      "metadata": {
        "colab": {
          "base_uri": "https://localhost:8080/"
        },
        "id": "x5dPI-29Myxo",
        "outputId": "352137f8-ea08-4769-b9ed-3e5f96393113"
      },
      "execution_count": 4,
      "outputs": [
        {
          "output_type": "stream",
          "name": "stdout",
          "text": [
            "Barradas Three is the only M-class planet in this system, and it is listed as unpopulated. However, sensors have detected intermittent energy signals emanating from its surface.\n"
          ]
        }
      ]
    },
    {
      "cell_type": "markdown",
      "source": [
        "Now we'll set up what a document in our vector database looks like; it's just a string and its embedding vector. We're going with 128 dimensions in our embeddings to keep it simple, but you could go larger. The OpenAI model we're using has up to 1536 I believe."
      ],
      "metadata": {
        "id": "7x4s4hOnyqIr"
      }
    },
    {
      "cell_type": "code",
      "source": [
        "from docarray import BaseDoc\n",
        "from docarray.typing import NdArray\n",
        "\n",
        "embedding_dimensions = 128\n",
        "\n",
        "class DialogLine(BaseDoc):\n",
        "  text: str = ''\n",
        "  embedding: NdArray[embedding_dimensions]"
      ],
      "metadata": {
        "id": "S15N5wi2QMvn"
      },
      "execution_count": 5,
      "outputs": []
    },
    {
      "cell_type": "markdown",
      "source": [
        "It's time to start computing embeddings for each line in OpenAI, so let's make sure OpenAI is installed:"
      ],
      "metadata": {
        "id": "8W1jJUxty9kk"
      }
    },
    {
      "cell_type": "code",
      "source": [
        "!pip install openai --upgrade"
      ],
      "metadata": {
        "colab": {
          "base_uri": "https://localhost:8080/"
        },
        "id": "4Sqtgr4kQQG9",
        "outputId": "cbeb5bc3-6c67-4c49-e638-04e62bd0b7e4"
      },
      "execution_count": 6,
      "outputs": [
        {
          "output_type": "stream",
          "name": "stdout",
          "text": [
            "Requirement already satisfied: openai in /usr/local/lib/python3.10/dist-packages (1.57.4)\n",
            "Collecting openai\n",
            "  Downloading openai-1.59.3-py3-none-any.whl.metadata (27 kB)\n",
            "Requirement already satisfied: anyio<5,>=3.5.0 in /usr/local/lib/python3.10/dist-packages (from openai) (3.7.1)\n",
            "Requirement already satisfied: distro<2,>=1.7.0 in /usr/local/lib/python3.10/dist-packages (from openai) (1.9.0)\n",
            "Requirement already satisfied: httpx<1,>=0.23.0 in /usr/local/lib/python3.10/dist-packages (from openai) (0.28.1)\n",
            "Requirement already satisfied: jiter<1,>=0.4.0 in /usr/local/lib/python3.10/dist-packages (from openai) (0.8.2)\n",
            "Requirement already satisfied: pydantic<3,>=1.9.0 in /usr/local/lib/python3.10/dist-packages (from openai) (1.10.19)\n",
            "Requirement already satisfied: sniffio in /usr/local/lib/python3.10/dist-packages (from openai) (1.3.1)\n",
            "Requirement already satisfied: tqdm>4 in /usr/local/lib/python3.10/dist-packages (from openai) (4.67.1)\n",
            "Requirement already satisfied: typing-extensions<5,>=4.11 in /usr/local/lib/python3.10/dist-packages (from openai) (4.12.2)\n",
            "Requirement already satisfied: idna>=2.8 in /usr/local/lib/python3.10/dist-packages (from anyio<5,>=3.5.0->openai) (3.10)\n",
            "Requirement already satisfied: exceptiongroup in /usr/local/lib/python3.10/dist-packages (from anyio<5,>=3.5.0->openai) (1.2.2)\n",
            "Requirement already satisfied: certifi in /usr/local/lib/python3.10/dist-packages (from httpx<1,>=0.23.0->openai) (2024.12.14)\n",
            "Requirement already satisfied: httpcore==1.* in /usr/local/lib/python3.10/dist-packages (from httpx<1,>=0.23.0->openai) (1.0.7)\n",
            "Requirement already satisfied: h11<0.15,>=0.13 in /usr/local/lib/python3.10/dist-packages (from httpcore==1.*->httpx<1,>=0.23.0->openai) (0.14.0)\n",
            "Downloading openai-1.59.3-py3-none-any.whl (454 kB)\n",
            "\u001b[2K   \u001b[90m━━━━━━━━━━━━━━━━━━━━━━━━━━━━━━━━━━━━━━━━\u001b[0m \u001b[32m454.8/454.8 kB\u001b[0m \u001b[31m23.2 MB/s\u001b[0m eta \u001b[36m0:00:00\u001b[0m\n",
            "\u001b[?25hInstalling collected packages: openai\n",
            "  Attempting uninstall: openai\n",
            "    Found existing installation: openai 1.57.4\n",
            "    Uninstalling openai-1.57.4:\n",
            "      Successfully uninstalled openai-1.57.4\n",
            "Successfully installed openai-1.59.3\n"
          ]
        }
      ]
    },
    {
      "cell_type": "markdown",
      "source": [
        "Let's initialize the OpenAI client, and test creating an embedding for a single line of dialog just to make sure it works.\n",
        "\n",
        "You will need to provide your own OpenAI secret key here. To use this code as-is, click on the little key icon in CoLab and add a \"secret\" for OPENAI_API_KEY that points to your secret key."
      ],
      "metadata": {
        "id": "Y8oMwMzOzFLD"
      }
    },
    {
      "cell_type": "code",
      "source": [
        "from google.colab import userdata\n",
        "\n",
        "from openai import OpenAI\n",
        "client = OpenAI(api_key=userdata.get('openai'))\n",
        "\n",
        "embedding_model = \"text-embedding-3-small\"\n",
        "\n",
        "response = client.embeddings.create(\n",
        "    input=dialogues[1],\n",
        "    dimensions=embedding_dimensions,\n",
        "    model= embedding_model\n",
        ")\n",
        "\n",
        "print(response.data[0].embedding)"
      ],
      "metadata": {
        "colab": {
          "base_uri": "https://localhost:8080/"
        },
        "id": "4kJhWeYySMWL",
        "outputId": "0dbaf5c6-aadb-4896-b3cc-9a1430bcf2df"
      },
      "execution_count": 7,
      "outputs": [
        {
          "output_type": "stream",
          "name": "stdout",
          "text": [
            "[-0.10164032876491547, 0.14956441521644592, 0.018645962700247765, 0.08648552745580673, -0.04363948851823807, 0.17201891541481018, -0.00978913065046072, -0.04352046921849251, -0.06887104362249374, 0.0027770581655204296, -0.008380765095353127, -0.08497798442840576, 0.05220869556069374, -0.2594565749168396, 0.016840875148773193, 0.16162478923797607, -0.004954073578119278, -0.02943681739270687, -0.01612677425146103, 0.11028888821601868, 0.02592582255601883, 0.0036275323946028948, -0.12726861238479614, -0.0010599931702017784, 0.10148164629936218, 0.05998445674777031, 0.031975843012332916, -0.10592493414878845, 0.034911587834358215, -0.0211651511490345, 0.17328843474388123, -0.0938645675778389, 0.01535316463559866, 0.1734471172094345, -0.077995665371418, -0.02285122126340866, 0.1389322578907013, -0.007974124513566494, -0.06355496495962143, -0.0679982528090477, -0.0691884234547615, -0.024973688647150993, 0.03203535079956055, 0.06220610439777374, -0.14686670899391174, -0.01373651996254921, -0.09235702455043793, 0.1030685305595398, 0.06256315857172012, 0.15083393454551697, -0.02092711813747883, -0.023505814373493195, -0.04447260499000549, -0.033245354890823364, -0.15273819863796234, -0.08140747994184494, -0.008683266118168831, 0.005628501996397972, 0.02590598538517952, -0.06292020529508591, 0.10687707364559174, 0.08751700818538666, 0.16805168986320496, 0.04090210050344467, 0.0709340050816536, 0.009303145110607147, 0.00036386901047080755, 0.15432509779930115, -0.09402325749397278, 0.08696159720420837, 0.0034911588300019503, 0.03699438273906708, -0.0676015317440033, -0.14234407246112823, 0.0707356408238411, -0.1743992567062378, 0.039890456944704056, 0.04264767840504646, -0.08727897703647614, -0.07025957107543945, -0.09235702455043793, -0.005697928369045258, -0.1279827058315277, -0.04098144546151161, -0.08275633305311203, 0.06803792715072632, 0.07926517724990845, 0.05427165329456329, -0.10124360769987106, 0.04558342695236206, 0.07870976626873016, 0.026540743187069893, 0.0291987843811512, 0.11862006038427353, 0.05669166147708893, -0.020371705293655396, -0.07609139382839203, -0.06958514451980591, 0.09537211805582047, -0.15218278765678406, -0.06438808143138885, -0.16313233971595764, -0.13433027267456055, -0.04601982235908508, 0.011852087453007698, 0.020609740167856216, 0.20899346470832825, 0.039771441370248795, 0.05407329276204109, -0.09703835099935532, -0.1446450650691986, 0.025390246883034706, 0.023228108882904053, 0.11251053214073181, -0.08283568173646927, 0.09402325749397278, 0.002005928661674261, 0.048003435134887695, 0.12203187495470047, 0.1101301982998848, -0.06728415191173553, 0.08164551109075546, -0.10108491778373718, 0.1455971896648407, -0.031559284776449203, -0.05050278827548027, 0.013468732126057148, -0.062483809888362885]\n"
          ]
        }
      ]
    },
    {
      "cell_type": "markdown",
      "source": [
        "Let's double check that we do in fact have embeddings of 128 dimensions as we specified."
      ],
      "metadata": {
        "id": "NQVaAlcwzeCM"
      }
    },
    {
      "cell_type": "code",
      "source": [
        "print(len(response.data[0].embedding))"
      ],
      "metadata": {
        "colab": {
          "base_uri": "https://localhost:8080/"
        },
        "id": "PtXBxhTmShNs",
        "outputId": "34e1a174-68f3-4a06-ebb2-8d77c5834474"
      },
      "execution_count": 8,
      "outputs": [
        {
          "output_type": "stream",
          "name": "stdout",
          "text": [
            "128\n"
          ]
        }
      ]
    },
    {
      "cell_type": "markdown",
      "source": [
        "OK, now let's compute embeddings for every line Data ever said. The OpenAI API currently can't handle computing them all at once, so we're breaking it up into 128 lines at a time here."
      ],
      "metadata": {
        "id": "mRk4NnRVzjDz"
      }
    },
    {
      "cell_type": "code",
      "source": [
        "#Generate embeddings for everything Data ever said, 128 lines at a time.\n",
        "embeddings = []\n",
        "\n",
        "for i in range(0, len(dialogues), 128):\n",
        "  dialog_slice = dialogues[i:i+128]\n",
        "  slice_embeddings = client.embeddings.create(\n",
        "    input=dialog_slice,\n",
        "    dimensions=embedding_dimensions,\n",
        "    model=embedding_model\n",
        "  )\n",
        "\n",
        "  embeddings.extend(slice_embeddings.data)"
      ],
      "metadata": {
        "id": "TyFFTJmGcdlt"
      },
      "execution_count": 9,
      "outputs": []
    },
    {
      "cell_type": "markdown",
      "source": [
        "Let's check how many embeddings we actually got back in total."
      ],
      "metadata": {
        "id": "aA5XuIUZzs_b"
      }
    },
    {
      "cell_type": "code",
      "source": [
        "print (len(embeddings))"
      ],
      "metadata": {
        "colab": {
          "base_uri": "https://localhost:8080/"
        },
        "id": "kuBDo7PUsVJZ",
        "outputId": "8698772a-fbe5-4012-c359-eebb39f8491f"
      },
      "execution_count": 10,
      "outputs": [
        {
          "output_type": "stream",
          "name": "stdout",
          "text": [
            "6502\n"
          ]
        }
      ]
    },
    {
      "cell_type": "markdown",
      "source": [
        "Now let's insert every line and its embedding vector into our vector database. The syntax here will vary depending on which vector database you are using, but it's pretty simple.\n",
        "\n",
        "With vectordb, we need to set up a workspace folder for it to use, so be sure to create that within your CoLab drive first."
      ],
      "metadata": {
        "id": "sKrU5tvcz1Vq"
      }
    },
    {
      "cell_type": "code",
      "source": [
        "from docarray import DocList\n",
        "import numpy as np\n",
        "from vectordb import InMemoryExactNNVectorDB\n",
        "\n",
        "# Specify your workspace path\n",
        "db = InMemoryExactNNVectorDB[DialogLine](workspace='./sample_data/workspace')\n",
        "\n",
        "# Index our list of documents\n",
        "doc_list = [DialogLine(text=dialogues[i], embedding=embeddings[i].embedding) for i in range(len(embeddings))]\n",
        "db.index(inputs=DocList[DialogLine](doc_list))\n"
      ],
      "metadata": {
        "colab": {
          "base_uri": "https://localhost:8080/"
        },
        "id": "vVLSnCO7bRo1",
        "outputId": "1852cb5e-7791-4548-f773-1b85065a3ef5"
      },
      "execution_count": 11,
      "outputs": [
        {
          "output_type": "stream",
          "name": "stderr",
          "text": [
            "WARNING - docarray - Index file does not exist: /content/sample_data/workspace/InMemoryExactNNIndexer[DialogLine][DialogLineWithMatchesAndScores]/index.bin. Initializing empty InMemoryExactNNIndex.\n",
            "WARNING:docarray:Index file does not exist: /content/sample_data/workspace/InMemoryExactNNIndexer[DialogLine][DialogLineWithMatchesAndScores]/index.bin. Initializing empty InMemoryExactNNIndex.\n"
          ]
        },
        {
          "output_type": "execute_result",
          "data": {
            "text/plain": [
              "<DocList[DialogLine] (length=6502)>"
            ]
          },
          "metadata": {},
          "execution_count": 11
        }
      ]
    },
    {
      "cell_type": "markdown",
      "source": [
        "Let's try querying our vector database for lines similar to a query string.\n",
        "\n",
        "First we need to compute the embedding vector for our query string, then we'll query the vector database for the top 10 matches based on the similarities encoded by their embedding vectors."
      ],
      "metadata": {
        "id": "Fxormngx0IFz"
      }
    },
    {
      "cell_type": "code",
      "source": [
        "# Perform a search query\n",
        "queryText = 'Lal, my daughter'\n",
        "response = client.embeddings.create(\n",
        "    input=queryText,\n",
        "    dimensions=embedding_dimensions,\n",
        "    model=embedding_model\n",
        ")\n",
        "query = DialogLine(text=queryText, embedding=response.data[0].embedding)\n",
        "results = db.search(inputs=DocList[DialogLine]([query]), limit=10)\n",
        "\n",
        "# Print out the matches\n",
        "for m in results[0].matches:\n",
        "  print(m)"
      ],
      "metadata": {
        "colab": {
          "base_uri": "https://localhost:8080/",
          "height": 1000
        },
        "id": "woU_o_qS0FuD",
        "outputId": "cd1c4eed-9733-44fe-eab7-6004f783500c"
      },
      "execution_count": 12,
      "outputs": [
        {
          "output_type": "display_data",
          "data": {
            "text/plain": [],
            "text/html": [
              "<pre style=\"white-space:pre;overflow-x:auto;line-height:normal;font-family:Menlo,'DejaVu Sans Mono',consolas,'Courier New',monospace\"></pre>\n"
            ]
          },
          "metadata": {}
        },
        {
          "output_type": "stream",
          "name": "stdout",
          "text": [
            "\u001b[1;35mDialogLine\u001b[0m\u001b[1m(\u001b[0m\n",
            "    \u001b[33mid\u001b[0m=\u001b[32m'fac4f9c02df9cb65d0343507e57537ce'\u001b[0m,\n",
            "    \u001b[33mtext\u001b[0m=\u001b[32m'That is Lal, my daughter.'\u001b[0m,\n",
            "    \u001b[33membedding\u001b[0m=\u001b[1;35mNdArray\u001b[0m\u001b[1m(\u001b[0m\u001b[1m[\u001b[0m \u001b[1;36m0.12723547\u001b[0m, \u001b[1;36m-0.00209604\u001b[0m, \u001b[1;36m-0.0137311\u001b[0m ,  \u001b[1;36m0.01590443\u001b[0m,  \u001b[1;36m0.0545243\u001b[0m ,\n",
            "         \u001b[1;36m-0.02071487\u001b[0m,  \u001b[1;36m0.01575894\u001b[0m,  \u001b[1;36m0.08307771\u001b[0m, \u001b[1;36m-0.16222705\u001b[0m,  \u001b[1;36m0.01607721\u001b[0m,\n",
            "          \u001b[1;36m0.03722856\u001b[0m, \u001b[1;36m-0.11443191\u001b[0m, \u001b[1;36m-0.04844987\u001b[0m, \u001b[1;36m-0.24734169\u001b[0m,  \u001b[1;36m0.03902907\u001b[0m,\n",
            "          \u001b[1;36m0.04990482\u001b[0m,  \u001b[1;36m0.02977194\u001b[0m, \u001b[1;36m-0.13472848\u001b[0m, \u001b[1;36m-0.17663106\u001b[0m,  \u001b[1;36m0.13560145\u001b[0m,\n",
            "          \u001b[1;36m0.14520413\u001b[0m,  \u001b[1;36m0.03508251\u001b[0m,  \u001b[1;36m0.06638215\u001b[0m, \u001b[1;36m-0.07423888\u001b[0m,  \u001b[1;36m0.06958304\u001b[0m,\n",
            "         \u001b[1;36m-0.00225972\u001b[0m,  \u001b[1;36m0.19263554\u001b[0m, \u001b[1;36m-0.07922209\u001b[0m, \u001b[1;36m-0.0312087\u001b[0m , \u001b[1;36m-0.06281751\u001b[0m,\n",
            "          \u001b[1;36m0.07944033\u001b[0m, \u001b[1;36m-0.11275871\u001b[0m, \u001b[1;36m-0.03742862\u001b[0m, \u001b[1;36m-0.03837434\u001b[0m, \u001b[1;36m-0.08365969\u001b[0m,\n",
            "          \u001b[1;36m0.09275313\u001b[0m, \u001b[1;36m-0.00717927\u001b[0m, \u001b[1;36m-0.02091492\u001b[0m, \u001b[1;36m-0.04717679\u001b[0m, \u001b[1;36m-0.0876608\u001b[0m ,\n",
            "         \u001b[1;36m-0.18594275\u001b[0m, \u001b[1;36m-0.11574136\u001b[0m,  \u001b[1;36m0.05827079\u001b[0m,  \u001b[1;36m0.0637996\u001b[0m ,  \u001b[1;36m0.06972853\u001b[0m,\n",
            "          \u001b[1;36m0.09049796\u001b[0m, \u001b[1;36m-0.21518728\u001b[0m,  \u001b[1;36m0.11632334\u001b[0m, \u001b[1;36m-0.05907102\u001b[0m,  \u001b[1;36m0.03160881\u001b[0m,\n",
            "         \u001b[1;36m-0.03177249\u001b[0m,  \u001b[1;36m0.06834633\u001b[0m,  \u001b[1;36m0.09115269\u001b[0m,  \u001b[1;36m0.2143143\u001b[0m , \u001b[1;36m-0.09966415\u001b[0m,\n",
            "         \u001b[1;36m-0.00545607\u001b[0m,  \u001b[1;36m0.03137238\u001b[0m,  \u001b[1;36m0.18623374\u001b[0m,  \u001b[1;36m0.03346388\u001b[0m, \u001b[1;36m-0.03670114\u001b[0m,\n",
            "         \u001b[1;36m-0.14236698\u001b[0m,  \u001b[1;36m0.06721874\u001b[0m,  \u001b[1;36m0.05081417\u001b[0m, \u001b[1;36m-0.04172073\u001b[0m, \u001b[1;36m-0.09137093\u001b[0m,\n",
            "         \u001b[1;36m-0.00464675\u001b[0m, \u001b[1;36m-0.11137651\u001b[0m,  \u001b[1;36m0.04212084\u001b[0m, \u001b[1;36m-0.03129964\u001b[0m,  \u001b[1;36m0.07492998\u001b[0m,\n",
            "          \u001b[1;36m0.04204809\u001b[0m,  \u001b[1;36m0.08147726\u001b[0m, \u001b[1;36m-0.15320635\u001b[0m,  \u001b[1;36m0.03077222\u001b[0m, \u001b[1;36m-0.07180184\u001b[0m,\n",
            "         \u001b[1;36m-0.11399543\u001b[0m, \u001b[1;36m-0.13589244\u001b[0m, \u001b[1;36m-0.02527978\u001b[0m,  \u001b[1;36m0.14193049\u001b[0m, \u001b[1;36m-0.01933266\u001b[0m,\n",
            "          \u001b[1;36m0.00724293\u001b[0m, \u001b[1;36m-0.02244262\u001b[0m, \u001b[1;36m-0.01533155\u001b[0m,  \u001b[1;36m0.02435225\u001b[0m,  \u001b[1;36m0.03553718\u001b[0m,\n",
            "         \u001b[1;36m-0.10984881\u001b[0m, \u001b[1;36m-0.05456067\u001b[0m, \u001b[1;36m-0.0145586\u001b[0m , \u001b[1;36m-0.05183263\u001b[0m, \u001b[1;36m-0.00398293\u001b[0m,\n",
            "         \u001b[1;36m-0.05135978\u001b[0m,  \u001b[1;36m0.02471598\u001b[0m, \u001b[1;36m-0.11297695\u001b[0m, \u001b[1;36m-0.01725026\u001b[0m,  \u001b[1;36m0.06354499\u001b[0m,\n",
            "          \u001b[1;36m0.0715836\u001b[0m ,  \u001b[1;36m0.03588273\u001b[0m,  \u001b[1;36m0.03188162\u001b[0m, \u001b[1;36m-0.03255453\u001b[0m, \u001b[1;36m-0.01920536\u001b[0m,\n",
            "          \u001b[1;36m0.09129819\u001b[0m, \u001b[1;36m-0.07769439\u001b[0m, \u001b[1;36m-0.04670393\u001b[0m, \u001b[1;36m-0.12803569\u001b[0m, \u001b[1;36m-0.00316679\u001b[0m,\n",
            "          \u001b[1;36m0.13087286\u001b[0m,  \u001b[1;36m0.07594845\u001b[0m, \u001b[1;36m-0.02477054\u001b[0m, \u001b[1;36m-0.11384993\u001b[0m,  \u001b[1;36m0.0952993\u001b[0m ,\n",
            "         \u001b[1;36m-0.21315034\u001b[0m, \u001b[1;36m-0.07314767\u001b[0m, \u001b[1;36m-0.06307213\u001b[0m, \u001b[1;36m-0.00243477\u001b[0m,  \u001b[1;36m0.07936759\u001b[0m,\n",
            "         \u001b[1;36m-0.07696692\u001b[0m, \u001b[1;36m-0.00223244\u001b[0m, \u001b[1;36m-0.00555609\u001b[0m, \u001b[1;36m-0.03320926\u001b[0m, \u001b[1;36m-0.12963615\u001b[0m,\n",
            "          \u001b[1;36m0.07114711\u001b[0m,  \u001b[1;36m0.02757132\u001b[0m, \u001b[1;36m-0.02846248\u001b[0m, \u001b[1;36m-0.20776702\u001b[0m, \u001b[1;36m-0.09493556\u001b[0m,\n",
            "         \u001b[1;36m-0.01695927\u001b[0m, \u001b[1;36m-0.0002792\u001b[0m ,  \u001b[1;36m0.01645004\u001b[0m\u001b[1m]\u001b[0m\u001b[1m)\u001b[0m\n",
            "\u001b[1m)\u001b[0m\n"
          ]
        },
        {
          "output_type": "display_data",
          "data": {
            "text/plain": [],
            "text/html": [
              "<pre style=\"white-space:pre;overflow-x:auto;line-height:normal;font-family:Menlo,'DejaVu Sans Mono',consolas,'Courier New',monospace\"></pre>\n"
            ]
          },
          "metadata": {}
        },
        {
          "output_type": "stream",
          "name": "stdout",
          "text": [
            "\u001b[1;35mDialogLine\u001b[0m\u001b[1m(\u001b[0m\n",
            "    \u001b[33mid\u001b[0m=\u001b[32m'6951ea9bf0366617500885adb5e82a4c'\u001b[0m,\n",
            "    \u001b[33mtext\u001b[0m=\u001b[32m'Lal...'\u001b[0m,\n",
            "    \u001b[33membedding\u001b[0m=\u001b[1;35mNdArray\u001b[0m\u001b[1m(\u001b[0m\u001b[1m[\u001b[0m \u001b[1;36m0.12602141\u001b[0m, \u001b[1;36m-0.00787136\u001b[0m,  \u001b[1;36m0.07228519\u001b[0m, \u001b[1;36m-0.01194139\u001b[0m,  \u001b[1;36m0.08780899\u001b[0m,\n",
            "         \u001b[1;36m-0.0861372\u001b[0m ,  \u001b[1;36m0.07216577\u001b[0m,  \u001b[1;36m0.05365663\u001b[0m, \u001b[1;36m-0.12729517\u001b[0m,  \u001b[1;36m0.05286053\u001b[0m,\n",
            "          \u001b[1;36m0.01232948\u001b[0m, \u001b[1;36m-0.15460114\u001b[0m, \u001b[1;36m-0.00170165\u001b[0m, \u001b[1;36m-0.08239556\u001b[0m,  \u001b[1;36m0.09370007\u001b[0m,\n",
            "          \u001b[1;36m0.01691696\u001b[0m,  \u001b[1;36m0.02444004\u001b[0m, \u001b[1;36m-0.08008689\u001b[0m, \u001b[1;36m-0.08653524\u001b[0m,  \u001b[1;36m0.1749811\u001b[0m ,\n",
            "          \u001b[1;36m0.08995844\u001b[0m,  \u001b[1;36m0.09163023\u001b[0m, \u001b[1;36m-0.05389545\u001b[0m, \u001b[1;36m-0.01919578\u001b[0m,  \u001b[1;36m0.12530494\u001b[0m,\n",
            "          \u001b[1;36m0.01854895\u001b[0m,  \u001b[1;36m0.09521265\u001b[0m, \u001b[1;36m-0.01378235\u001b[0m,  \u001b[1;36m0.04026237\u001b[0m,  \u001b[1;36m0.0171956\u001b[0m ,\n",
            "         \u001b[1;36m-0.00565723\u001b[0m, \u001b[1;36m-0.10994036\u001b[0m, \u001b[1;36m-0.00869731\u001b[0m, \u001b[1;36m-0.10675599\u001b[0m, \u001b[1;36m-0.08422657\u001b[0m,\n",
            "          \u001b[1;36m0.17179674\u001b[0m,  \u001b[1;36m0.02748509\u001b[0m, \u001b[1;36m-0.11169176\u001b[0m, \u001b[1;36m-0.05998556\u001b[0m, \u001b[1;36m-0.08207712\u001b[0m,\n",
            "         \u001b[1;36m-0.19981918\u001b[0m, \u001b[1;36m-0.1276136\u001b[0m ,  \u001b[1;36m0.0654786\u001b[0m ,  \u001b[1;36m0.07288226\u001b[0m,  \u001b[1;36m0.10158139\u001b[0m,\n",
            "          \u001b[1;36m0.05636334\u001b[0m, \u001b[1;36m-0.23134445\u001b[0m,  \u001b[1;36m0.03984442\u001b[0m, \u001b[1;36m-0.01744437\u001b[0m,  \u001b[1;36m0.05799533\u001b[0m,\n",
            "         \u001b[1;36m-0.09608835\u001b[0m,  \u001b[1;36m0.07339972\u001b[0m,  \u001b[1;36m0.09250593\u001b[0m,  \u001b[1;36m0.20969073\u001b[0m, \u001b[1;36m-0.07634526\u001b[0m,\n",
            "         \u001b[1;36m-0.01803149\u001b[0m, \u001b[1;36m-0.01945451\u001b[0m,  \u001b[1;36m0.10731325\u001b[0m,  \u001b[1;36m0.0474073\u001b[0m , \u001b[1;36m-0.01596165\u001b[0m,\n",
            "         \u001b[1;36m-0.11622949\u001b[0m, \u001b[1;36m-0.03624211\u001b[0m,  \u001b[1;36m0.08000728\u001b[0m, \u001b[1;36m-0.09385929\u001b[0m, \u001b[1;36m-0.08629641\u001b[0m,\n",
            "         \u001b[1;36m-0.10866661\u001b[0m, \u001b[1;36m-0.15316817\u001b[0m,  \u001b[1;36m0.11829933\u001b[0m,  \u001b[1;36m0.02034016\u001b[0m,  \u001b[1;36m0.15348661\u001b[0m,\n",
            "         \u001b[1;36m-0.02718655\u001b[0m,  \u001b[1;36m0.01041886\u001b[0m, \u001b[1;36m-0.10389005\u001b[0m,  \u001b[1;36m0.06086126\u001b[0m,  \u001b[1;36m0.00918989\u001b[0m,\n",
            "         \u001b[1;36m-0.05055187\u001b[0m, \u001b[1;36m-0.03504797\u001b[0m,  \u001b[1;36m0.00815497\u001b[0m,  \u001b[1;36m0.13700749\u001b[0m, \u001b[1;36m-0.06647372\u001b[0m,\n",
            "         \u001b[1;36m-0.03064956\u001b[0m, \u001b[1;36m-0.09457577\u001b[0m, \u001b[1;36m-0.07531033\u001b[0m, \u001b[1;36m-0.0292962\u001b[0m ,  \u001b[1;36m0.12610103\u001b[0m,\n",
            "         \u001b[1;36m-0.15953691\u001b[0m, \u001b[1;36m-0.12442924\u001b[0m,  \u001b[1;36m0.01087661\u001b[0m, \u001b[1;36m-0.10404927\u001b[0m, \u001b[1;36m-0.05106933\u001b[0m,\n",
            "          \u001b[1;36m0.06838433\u001b[0m,  \u001b[1;36m0.01221007\u001b[0m, \u001b[1;36m-0.11686636\u001b[0m, \u001b[1;36m-0.03283881\u001b[0m,  \u001b[1;36m0.09322242\u001b[0m,\n",
            "          \u001b[1;36m0.04692965\u001b[0m,  \u001b[1;36m0.02925639\u001b[0m, \u001b[1;36m-0.01987245\u001b[0m,  \u001b[1;36m0.06368739\u001b[0m,  \u001b[1;36m0.00444817\u001b[0m,\n",
            "          \u001b[1;36m0.04661121\u001b[0m, \u001b[1;36m-0.04927812\u001b[0m, \u001b[1;36m-0.04183465\u001b[0m, \u001b[1;36m-0.11041801\u001b[0m,  \u001b[1;36m0.08924195\u001b[0m,\n",
            "          \u001b[1;36m0.04533746\u001b[0m, \u001b[1;36m-0.02290756\u001b[0m, \u001b[1;36m-0.01150353\u001b[0m, \u001b[1;36m-0.00630903\u001b[0m,  \u001b[1;36m0.05986615\u001b[0m,\n",
            "         \u001b[1;36m-0.08979922\u001b[0m, \u001b[1;36m-0.03041073\u001b[0m, \u001b[1;36m-0.04191426\u001b[0m, \u001b[1;36m-0.03256018\u001b[0m,  \u001b[1;36m0.06519996\u001b[0m,\n",
            "         \u001b[1;36m-0.06599606\u001b[0m,  \u001b[1;36m0.08096259\u001b[0m, \u001b[1;36m-0.127534\u001b[0m  ,  \u001b[1;36m0.01335445\u001b[0m, \u001b[1;36m-0.17163752\u001b[0m,\n",
            "          \u001b[1;36m0.02734577\u001b[0m, \u001b[1;36m-0.08900312\u001b[0m,  \u001b[1;36m0.02272844\u001b[0m, \u001b[1;36m-0.24376348\u001b[0m, \u001b[1;36m-0.15197404\u001b[0m,\n",
            "         \u001b[1;36m-0.11575183\u001b[0m,  \u001b[1;36m0.06348836\u001b[0m,  \u001b[1;36m0.06559801\u001b[0m\u001b[1m]\u001b[0m\u001b[1m)\u001b[0m\n",
            "\u001b[1m)\u001b[0m\n"
          ]
        },
        {
          "output_type": "display_data",
          "data": {
            "text/plain": [],
            "text/html": [
              "<pre style=\"white-space:pre;overflow-x:auto;line-height:normal;font-family:Menlo,'DejaVu Sans Mono',consolas,'Courier New',monospace\"></pre>\n"
            ]
          },
          "metadata": {}
        },
        {
          "output_type": "stream",
          "name": "stdout",
          "text": [
            "\u001b[1;35mDialogLine\u001b[0m\u001b[1m(\u001b[0m\n",
            "    \u001b[33mid\u001b[0m=\u001b[32m'0a3a275958ca31fceae0ba14e0cf1f10'\u001b[0m,\n",
            "    \u001b[33mtext\u001b[0m=\u001b[32m'What do you feel, Lal?'\u001b[0m,\n",
            "    \u001b[33membedding\u001b[0m=\u001b[1;35mNdArray\u001b[0m\u001b[1m(\u001b[0m\u001b[1m[\u001b[0m \u001b[1;36m0.12465294\u001b[0m, \u001b[1;36m-0.05501634\u001b[0m, \u001b[1;36m-0.01713312\u001b[0m,  \u001b[1;36m0.04995255\u001b[0m,  \u001b[1;36m0.13775025\u001b[0m,\n",
            "         \u001b[1;36m-0.00806208\u001b[0m,  \u001b[1;36m0.01483918\u001b[0m, \u001b[1;36m-0.00800973\u001b[0m, \u001b[1;36m-0.04306123\u001b[0m,  \u001b[1;36m0.10569229\u001b[0m,\n",
            "          \u001b[1;36m0.00161813\u001b[0m, \u001b[1;36m-0.10675836\u001b[0m, \u001b[1;36m-0.10995653\u001b[0m, \u001b[1;36m-0.13280068\u001b[0m,  \u001b[1;36m0.00802401\u001b[0m,\n",
            "          \u001b[1;36m0.00701982\u001b[0m,  \u001b[1;36m0.06765677\u001b[0m, \u001b[1;36m-0.1011996\u001b[0m , \u001b[1;36m-0.11102259\u001b[0m,  \u001b[1;36m0.0690655\u001b[0m ,\n",
            "          \u001b[1;36m0.11292627\u001b[0m,  \u001b[1;36m0.01652394\u001b[0m, \u001b[1;36m-0.07744168\u001b[0m, \u001b[1;36m-0.02025515\u001b[0m,  \u001b[1;36m0.11033727\u001b[0m,\n",
            "         \u001b[1;36m-0.15671091\u001b[0m,  \u001b[1;36m0.09960052\u001b[0m,  \u001b[1;36m0.03504674\u001b[0m, \u001b[1;36m-0.04945759\u001b[0m,  \u001b[1;36m0.03036369\u001b[0m,\n",
            "         \u001b[1;36m-0.02910726\u001b[0m, \u001b[1;36m-0.10500697\u001b[0m, \u001b[1;36m-0.02423384\u001b[0m, \u001b[1;36m-0.14848702\u001b[0m, \u001b[1;36m-0.09815372\u001b[0m,\n",
            "          \u001b[1;36m0.06209803\u001b[0m, \u001b[1;36m-0.0683421\u001b[0m , \u001b[1;36m-0.0249382\u001b[0m ,  \u001b[1;36m0.00796214\u001b[0m, \u001b[1;36m-0.11543913\u001b[0m,\n",
            "         \u001b[1;36m-0.21153688\u001b[0m, \u001b[1;36m-0.08063987\u001b[0m,  \u001b[1;36m0.05193238\u001b[0m,  \u001b[1;36m0.09145277\u001b[0m,  \u001b[1;36m0.08863533\u001b[0m,\n",
            "         \u001b[1;36m-0.0198173\u001b[0m , \u001b[1;36m-0.17072199\u001b[0m,  \u001b[1;36m0.05139935\u001b[0m, \u001b[1;36m-0.05947095\u001b[0m,  \u001b[1;36m0.0353894\u001b[0m ,\n",
            "         \u001b[1;36m-0.03557977\u001b[0m,  \u001b[1;36m0.01050831\u001b[0m,  \u001b[1;36m0.10531156\u001b[0m,  \u001b[1;36m0.2812877\u001b[0m , \u001b[1;36m-0.12061714\u001b[0m,\n",
            "         \u001b[1;36m-0.0105559\u001b[0m , \u001b[1;36m-0.07401507\u001b[0m,  \u001b[1;36m0.08482797\u001b[0m,  \u001b[1;36m0.06586731\u001b[0m,  \u001b[1;36m0.02851712\u001b[0m,\n",
            "         \u001b[1;36m-0.24686918\u001b[0m, \u001b[1;36m-0.03028754\u001b[0m,  \u001b[1;36m0.02712743\u001b[0m, \u001b[1;36m-0.14635488\u001b[0m, \u001b[1;36m-0.14551727\u001b[0m,\n",
            "         \u001b[1;36m-0.06533428\u001b[0m, \u001b[1;36m-0.14962922\u001b[0m,  \u001b[1;36m0.04675437\u001b[0m, \u001b[1;36m-0.01185041\u001b[0m,  \u001b[1;36m0.08399034\u001b[0m,\n",
            "         \u001b[1;36m-0.06251684\u001b[0m,  \u001b[1;36m0.10607303\u001b[0m,  \u001b[1;36m0.0197602\u001b[0m ,  \u001b[1;36m0.06518199\u001b[0m, \u001b[1;36m-0.03594147\u001b[0m,\n",
            "         \u001b[1;36m-0.14056771\u001b[0m, \u001b[1;36m-0.03801648\u001b[0m, \u001b[1;36m-0.1162006\u001b[0m ,  \u001b[1;36m0.07896463\u001b[0m, \u001b[1;36m-0.01218355\u001b[0m,\n",
            "         \u001b[1;36m-0.02724165\u001b[0m, \u001b[1;36m-0.05874755\u001b[0m, \u001b[1;36m-0.03997727\u001b[0m,  \u001b[1;36m0.09792528\u001b[0m,  \u001b[1;36m0.0987629\u001b[0m ,\n",
            "         \u001b[1;36m-0.11147948\u001b[0m, \u001b[1;36m-0.09899134\u001b[0m,  \u001b[1;36m0.09465095\u001b[0m, \u001b[1;36m-0.08947294\u001b[0m, \u001b[1;36m-0.01400156\u001b[0m,\n",
            "          \u001b[1;36m0.08185823\u001b[0m,  \u001b[1;36m0.04976219\u001b[0m, \u001b[1;36m-0.11224095\u001b[0m,  \u001b[1;36m0.03201989\u001b[0m,  \u001b[1;36m0.00365744\u001b[0m,\n",
            "          \u001b[1;36m0.03516096\u001b[0m,  \u001b[1;36m0.11536299\u001b[0m,  \u001b[1;36m0.01968405\u001b[0m, \u001b[1;36m-0.05155164\u001b[0m,  \u001b[1;36m0.02771758\u001b[0m,\n",
            "          \u001b[1;36m0.01958886\u001b[0m, \u001b[1;36m-0.02775565\u001b[0m,  \u001b[1;36m0.01875124\u001b[0m, \u001b[1;36m-0.07736554\u001b[0m,  \u001b[1;36m0.05178009\u001b[0m,\n",
            "          \u001b[1;36m0.1011996\u001b[0m ,  \u001b[1;36m0.02469072\u001b[0m,  \u001b[1;36m0.06061316\u001b[0m, \u001b[1;36m-0.0049686\u001b[0m ,  \u001b[1;36m0.06975082\u001b[0m,\n",
            "         \u001b[1;36m-0.20194234\u001b[0m, \u001b[1;36m-0.06506777\u001b[0m, \u001b[1;36m-0.10660606\u001b[0m,  \u001b[1;36m0.07199717\u001b[0m, \u001b[1;36m-0.00273178\u001b[0m,\n",
            "         \u001b[1;36m-0.07618526\u001b[0m, \u001b[1;36m-0.0505998\u001b[0m ,  \u001b[1;36m0.02337719\u001b[0m,  \u001b[1;36m0.01808496\u001b[0m, \u001b[1;36m-0.145898\u001b[0m  ,\n",
            "          \u001b[1;36m0.00625835\u001b[0m, \u001b[1;36m-0.05543515\u001b[0m, \u001b[1;36m-0.00068413\u001b[0m, \u001b[1;36m-0.21336441\u001b[0m, \u001b[1;36m-0.14772554\u001b[0m,\n",
            "          \u001b[1;36m0.01825629\u001b[0m,  \u001b[1;36m0.05398835\u001b[0m,  \u001b[1;36m0.00827625\u001b[0m\u001b[1m]\u001b[0m\u001b[1m)\u001b[0m\n",
            "\u001b[1m)\u001b[0m\n"
          ]
        },
        {
          "output_type": "display_data",
          "data": {
            "text/plain": [],
            "text/html": [
              "<pre style=\"white-space:pre;overflow-x:auto;line-height:normal;font-family:Menlo,'DejaVu Sans Mono',consolas,'Courier New',monospace\"></pre>\n"
            ]
          },
          "metadata": {}
        },
        {
          "output_type": "stream",
          "name": "stdout",
          "text": [
            "\u001b[1;35mDialogLine\u001b[0m\u001b[1m(\u001b[0m\n",
            "    \u001b[33mid\u001b[0m=\u001b[32m'63953486db2c0776c51843356ffbcbca'\u001b[0m,\n",
            "    \u001b[33mtext\u001b[0m=\u001b[32m'Yes, Lal. I am here.'\u001b[0m,\n",
            "    \u001b[33membedding\u001b[0m=\u001b[1;35mNdArray\u001b[0m\u001b[1m(\u001b[0m\u001b[1m[\u001b[0m \u001b[1;36m2.41448786e-02\u001b[0m,  \u001b[1;36m7.63952592e-03\u001b[0m, \u001b[1;36m-2.15928461e-02\u001b[0m,\n",
            "         \u001b[1;36m-8.02730247e-02\u001b[0m,  \u001b[1;36m1.41190365e-01\u001b[0m,  \u001b[1;36m1.71350762e-02\u001b[0m,\n",
            "         \u001b[1;36m-1.44898274e-03\u001b[0m,  \u001b[1;36m7.81518519e-02\u001b[0m, \u001b[1;36m-1.23160429e-01\u001b[0m,\n",
            "          \u001b[1;36m3.39221470e-02\u001b[0m, \u001b[1;36m-4.46439981e-02\u001b[0m, \u001b[1;36m-7.31803626e-02\u001b[0m,\n",
            "         \u001b[1;36m-2.85601855e-04\u001b[0m, \u001b[1;36m-9.63143706e-02\u001b[0m, \u001b[1;36m-3.35575715e-02\u001b[0m,\n",
            "          \u001b[1;36m8.86914134e-02\u001b[0m, \u001b[1;36m-3.30604203e-02\u001b[0m,  \u001b[1;36m6.73802868e-02\u001b[0m,\n",
            "         \u001b[1;36m-1.06323637e-01\u001b[0m,  \u001b[1;36m1.78841129e-01\u001b[0m,  \u001b[1;36m5.62772900e-02\u001b[0m,\n",
            "         \u001b[1;36m-6.80100098e-02\u001b[0m, \u001b[1;36m-3.36901434e-02\u001b[0m,  \u001b[1;36m6.74134269e-02\u001b[0m,\n",
            "          \u001b[1;36m8.64376724e-02\u001b[0m,  \u001b[1;36m2.83043608e-02\u001b[0m,  \u001b[1;36m8.20627585e-02\u001b[0m,\n",
            "         \u001b[1;36m-1.18901511e-03\u001b[0m, \u001b[1;36m-8.59736651e-02\u001b[0m, \u001b[1;36m-1.20890113e-02\u001b[0m,\n",
            "          \u001b[1;36m1.73173640e-02\u001b[0m, \u001b[1;36m-1.23226710e-01\u001b[0m, \u001b[1;36m-1.45432711e-01\u001b[0m,\n",
            "         \u001b[1;36m-2.26700027e-02\u001b[0m, \u001b[1;36m-6.13150671e-02\u001b[0m,  \u001b[1;36m9.00171474e-02\u001b[0m,\n",
            "          \u001b[1;36m5.38909733e-02\u001b[0m,  \u001b[1;36m4.75937501e-02\u001b[0m, \u001b[1;36m-5.05103581e-02\u001b[0m,\n",
            "         \u001b[1;36m-1.88518971e-01\u001b[0m, \u001b[1;36m-1.53652251e-01\u001b[0m, \u001b[1;36m-1.34495422e-01\u001b[0m,\n",
            "          \u001b[1;36m8.68353918e-02\u001b[0m,  \u001b[1;36m8.96857157e-02\u001b[0m, \u001b[1;36m-2.13442724e-02\u001b[0m,\n",
            "          \u001b[1;36m3.93079296e-02\u001b[0m, \u001b[1;36m-2.14768454e-01\u001b[0m,  \u001b[1;36m5.59789985e-02\u001b[0m,\n",
            "         \u001b[1;36m-6.97997436e-02\u001b[0m,  \u001b[1;36m8.12010318e-02\u001b[0m, \u001b[1;36m-5.52167036e-02\u001b[0m,\n",
            "         \u001b[1;36m-1.44173270e-02\u001b[0m,  \u001b[1;36m6.10499196e-02\u001b[0m,  \u001b[1;36m3.06774199e-01\u001b[0m,\n",
            "         \u001b[1;36m-1.92231014e-02\u001b[0m, \u001b[1;36m-2.53877528e-02\u001b[0m,  \u001b[1;36m3.94736454e-02\u001b[0m,\n",
            "          \u001b[1;36m1.66511834e-01\u001b[0m,  \u001b[1;36m7.38432258e-02\u001b[0m, \u001b[1;36m-7.86158592e-02\u001b[0m,\n",
            "         \u001b[1;36m-1.41057804e-01\u001b[0m, \u001b[1;36m-3.45932972e-03\u001b[0m,  \u001b[1;36m3.24638411e-02\u001b[0m,\n",
            "         \u001b[1;36m-1.00888140e-01\u001b[0m, \u001b[1;36m-1.45830423e-01\u001b[0m, \u001b[1;36m-6.98660314e-02\u001b[0m,\n",
            "         \u001b[1;36m-5.67412935e-02\u001b[0m,  \u001b[1;36m1.04865335e-01\u001b[0m, \u001b[1;36m-6.58556968e-02\u001b[0m,\n",
            "         \u001b[1;36m-1.22878710e-02\u001b[0m,  \u001b[1;36m4.11183806e-03\u001b[0m,  \u001b[1;36m6.62534162e-02\u001b[0m,\n",
            "         \u001b[1;36m-5.65092899e-02\u001b[0m,  \u001b[1;36m5.94921857e-02\u001b[0m, \u001b[1;36m-5.16703725e-02\u001b[0m,\n",
            "          \u001b[1;36m3.11132544e-03\u001b[0m, \u001b[1;36m-1.42913818e-01\u001b[0m,  \u001b[1;36m3.23312692e-02\u001b[0m,\n",
            "          \u001b[1;36m7.43735209e-02\u001b[0m, \u001b[1;36m-3.68884690e-02\u001b[0m, \u001b[1;36m-6.48945421e-02\u001b[0m,\n",
            "         \u001b[1;36m-3.93783581e-03\u001b[0m, \u001b[1;36m-5.96910454e-02\u001b[0m, \u001b[1;36m-4.26885448e-02\u001b[0m,\n",
            "         \u001b[1;36m-4.22245376e-02\u001b[0m, \u001b[1;36m-8.11347514e-02\u001b[0m, \u001b[1;36m-1.48879617e-01\u001b[0m,\n",
            "          \u001b[1;36m1.13747738e-01\u001b[0m, \u001b[1;36m-1.06307073e-02\u001b[0m,  \u001b[1;36m2.04141880e-03\u001b[0m,\n",
            "          \u001b[1;36m5.57801388e-02\u001b[0m,  \u001b[1;36m4.72954586e-02\u001b[0m, \u001b[1;36m-1.19050659e-01\u001b[0m,\n",
            "         \u001b[1;36m-6.14807829e-02\u001b[0m,  \u001b[1;36m7.99415931e-02\u001b[0m,  \u001b[1;36m7.41580874e-03\u001b[0m,\n",
            "          \u001b[1;36m7.13906214e-02\u001b[0m,  \u001b[1;36m7.88147151e-02\u001b[0m,  \u001b[1;36m6.06522001e-02\u001b[0m,\n",
            "          \u001b[1;36m6.50933981e-02\u001b[0m,  \u001b[1;36m1.62932366e-01\u001b[0m, \u001b[1;36m-9.71098095e-02\u001b[0m,\n",
            "         \u001b[1;36m-4.20588218e-02\u001b[0m, \u001b[1;36m-1.91568151e-01\u001b[0m,  \u001b[1;36m5.04606450e-03\u001b[0m,\n",
            "          \u001b[1;36m1.21370688e-01\u001b[0m,  \u001b[1;36m7.33129308e-02\u001b[0m,  \u001b[1;36m3.65570374e-02\u001b[0m,\n",
            "         \u001b[1;36m-6.37676716e-02\u001b[0m,  \u001b[1;36m8.51782262e-02\u001b[0m, \u001b[1;36m-1.99389964e-01\u001b[0m,\n",
            "         \u001b[1;36m-1.48614466e-01\u001b[0m, \u001b[1;36m-5.03446423e-02\u001b[0m,  \u001b[1;36m2.35731574e-03\u001b[0m,\n",
            "         \u001b[1;36m-3.40050049e-02\u001b[0m, \u001b[1;36m-1.45664718e-02\u001b[0m,  \u001b[1;36m3.77170518e-02\u001b[0m,\n",
            "          \u001b[1;36m2.38963049e-02\u001b[0m,  \u001b[1;36m2.65353383e-03\u001b[0m, \u001b[1;36m-4.97480631e-02\u001b[0m,\n",
            "          \u001b[1;36m1.55640841e-01\u001b[0m,  \u001b[1;36m3.78496237e-02\u001b[0m,  \u001b[1;36m4.97812070e-02\u001b[0m,\n",
            "         \u001b[1;36m-1.97268799e-01\u001b[0m, \u001b[1;36m-1.27800480e-01\u001b[0m, \u001b[1;36m-3.25839873e-03\u001b[0m,\n",
            "         \u001b[1;36m-4.63011600e-02\u001b[0m, \u001b[1;36m-2.42277365e-02\u001b[0m\u001b[1m]\u001b[0m\u001b[1m)\u001b[0m\n",
            "\u001b[1m)\u001b[0m\n"
          ]
        },
        {
          "output_type": "display_data",
          "data": {
            "text/plain": [],
            "text/html": [
              "<pre style=\"white-space:pre;overflow-x:auto;line-height:normal;font-family:Menlo,'DejaVu Sans Mono',consolas,'Courier New',monospace\"></pre>\n"
            ]
          },
          "metadata": {}
        },
        {
          "output_type": "stream",
          "name": "stdout",
          "text": [
            "\u001b[1;35mDialogLine\u001b[0m\u001b[1m(\u001b[0m\n",
            "    \u001b[33mid\u001b[0m=\u001b[32m'579a4c1c21d4d21c19df25eeae2291d2'\u001b[0m,\n",
            "    \u001b[33mtext\u001b[0m=\u001b[32m'Correct, Lal. We are a family.'\u001b[0m,\n",
            "    \u001b[33membedding\u001b[0m=\u001b[1;35mNdArray\u001b[0m\u001b[1m(\u001b[0m\u001b[1m[\u001b[0m \u001b[1;36m0.09103782\u001b[0m,  \u001b[1;36m0.05807343\u001b[0m, \u001b[1;36m-0.08704001\u001b[0m,  \u001b[1;36m0.09966468\u001b[0m,  \u001b[1;36m0.10317153\u001b[0m,\n",
            "         \u001b[1;36m-0.0197611\u001b[0m , \u001b[1;36m-0.057337\u001b[0m  ,  \u001b[1;36m0.05519782\u001b[0m, \u001b[1;36m-0.16804825\u001b[0m, \u001b[1;36m-0.01631562\u001b[0m,\n",
            "          \u001b[1;36m0.04043398\u001b[0m, \u001b[1;36m-0.07567783\u001b[0m, \u001b[1;36m-0.07630906\u001b[0m, \u001b[1;36m-0.13816988\u001b[0m, \u001b[1;36m-0.00219069\u001b[0m,\n",
            "          \u001b[1;36m0.01977863\u001b[0m,  \u001b[1;36m0.11481427\u001b[0m, \u001b[1;36m-0.06641974\u001b[0m, \u001b[1;36m-0.05968659\u001b[0m,  \u001b[1;36m0.11137756\u001b[0m,\n",
            "          \u001b[1;36m0.11460386\u001b[0m, \u001b[1;36m-0.0809381\u001b[0m ,  \u001b[1;36m0.06350905\u001b[0m, \u001b[1;36m-0.1027507\u001b[0m ,  \u001b[1;36m0.05968659\u001b[0m,\n",
            "         \u001b[1;36m-0.10155838\u001b[0m,  \u001b[1;36m0.09784111\u001b[0m,  \u001b[1;36m0.00345425\u001b[0m,  \u001b[1;36m0.01413261\u001b[0m,  \u001b[1;36m0.01320329\u001b[0m,\n",
            "          \u001b[1;36m0.01680658\u001b[0m, \u001b[1;36m-0.09342249\u001b[0m, \u001b[1;36m-0.08711015\u001b[0m,  \u001b[1;36m0.02833535\u001b[0m, \u001b[1;36m-0.11004496\u001b[0m,\n",
            "          \u001b[1;36m0.179691\u001b[0m  ,  \u001b[1;36m0.02612603\u001b[0m,  \u001b[1;36m0.03212275\u001b[0m,  \u001b[1;36m0.00647891\u001b[0m, \u001b[1;36m-0.08942468\u001b[0m,\n",
            "         \u001b[1;36m-0.1969447\u001b[0m , \u001b[1;36m-0.08577755\u001b[0m,  \u001b[1;36m0.04204713\u001b[0m, \u001b[1;36m-0.00591781\u001b[0m,  \u001b[1;36m0.05330412\u001b[0m,\n",
            "          \u001b[1;36m0.00804384\u001b[0m, \u001b[1;36m-0.13887127\u001b[0m,  \u001b[1;36m0.17955072\u001b[0m, \u001b[1;36m-0.02787946\u001b[0m, \u001b[1;36m-0.00911781\u001b[0m,\n",
            "         \u001b[1;36m-0.05246248\u001b[0m,  \u001b[1;36m0.0364011\u001b[0m ,  \u001b[1;36m0.06838357\u001b[0m,  \u001b[1;36m0.10562632\u001b[0m, \u001b[1;36m-0.11425317\u001b[0m,\n",
            "         \u001b[1;36m-0.04506302\u001b[0m,  \u001b[1;36m0.03180713\u001b[0m,  \u001b[1;36m0.1108866\u001b[0m ,  \u001b[1;36m0.01076603\u001b[0m, \u001b[1;36m-0.01464987\u001b[0m,\n",
            "         \u001b[1;36m-0.11460386\u001b[0m,  \u001b[1;36m0.01297535\u001b[0m, \u001b[1;36m-0.00300055\u001b[0m, \u001b[1;36m-0.12400222\u001b[0m, \u001b[1;36m-0.03636603\u001b[0m,\n",
            "         \u001b[1;36m-0.07027727\u001b[0m, \u001b[1;36m-0.00479562\u001b[0m,  \u001b[1;36m0.04067946\u001b[0m,  \u001b[1;36m0.04615015\u001b[0m,  \u001b[1;36m0.0955266\u001b[0m ,\n",
            "          \u001b[1;36m0.02484603\u001b[0m,  \u001b[1;36m0.05004275\u001b[0m, \u001b[1;36m-0.18333812\u001b[0m,  \u001b[1;36m0.0725918\u001b[0m , \u001b[1;36m-0.01867398\u001b[0m,\n",
            "         \u001b[1;36m-0.05404056\u001b[0m, \u001b[1;36m-0.14434195\u001b[0m, \u001b[1;36m-0.04127562\u001b[0m,  \u001b[1;36m0.1065381\u001b[0m ,  \u001b[1;36m0.01846357\u001b[0m,\n",
            "          \u001b[1;36m0.0904066\u001b[0m ,  \u001b[1;36m0.05105974\u001b[0m,  \u001b[1;36m0.10688879\u001b[0m,  \u001b[1;36m0.05558357\u001b[0m,  \u001b[1;36m0.07273207\u001b[0m,\n",
            "         \u001b[1;36m-0.03794412\u001b[0m, \u001b[1;36m-0.01651726\u001b[0m,  \u001b[1;36m0.0796055\u001b[0m , \u001b[1;36m-0.07420494\u001b[0m,  \u001b[1;36m0.07701043\u001b[0m,\n",
            "          \u001b[1;36m0.01386959\u001b[0m,  \u001b[1;36m0.08086796\u001b[0m, \u001b[1;36m-0.12778962\u001b[0m, \u001b[1;36m-0.03335014\u001b[0m,  \u001b[1;36m0.1732384\u001b[0m ,\n",
            "         \u001b[1;36m-0.06031782\u001b[0m, \u001b[1;36m-0.05344439\u001b[0m, \u001b[1;36m-0.00439233\u001b[0m,  \u001b[1;36m0.00465096\u001b[0m,  \u001b[1;36m0.04183672\u001b[0m,\n",
            "          \u001b[1;36m0.11944331\u001b[0m, \u001b[1;36m-0.09938413\u001b[0m, \u001b[1;36m-0.01329096\u001b[0m, \u001b[1;36m-0.17295784\u001b[0m,  \u001b[1;36m0.0446422\u001b[0m ,\n",
            "          \u001b[1;36m0.09223016\u001b[0m,  \u001b[1;36m0.07073317\u001b[0m, \u001b[1;36m-0.0133874\u001b[0m , \u001b[1;36m-0.17660497\u001b[0m,  \u001b[1;36m0.12645701\u001b[0m,\n",
            "         \u001b[1;36m-0.25880554\u001b[0m, \u001b[1;36m-0.08711015\u001b[0m, \u001b[1;36m-0.02828274\u001b[0m,  \u001b[1;36m0.00900384\u001b[0m, \u001b[1;36m-0.02147946\u001b[0m,\n",
            "          \u001b[1;36m0.00761425\u001b[0m, \u001b[1;36m-0.09531619\u001b[0m, \u001b[1;36m-0.05404056\u001b[0m, \u001b[1;36m-0.09187947\u001b[0m, \u001b[1;36m-0.04688659\u001b[0m,\n",
            "          \u001b[1;36m0.16327894\u001b[0m,  \u001b[1;36m0.01089754\u001b[0m,  \u001b[1;36m0.07939509\u001b[0m, \u001b[1;36m-0.24772389\u001b[0m, \u001b[1;36m-0.01890192\u001b[0m,\n",
            "          \u001b[1;36m0.10702907\u001b[0m, \u001b[1;36m-0.0369622\u001b[0m ,  \u001b[1;36m0.11797044\u001b[0m\u001b[1m]\u001b[0m\u001b[1m)\u001b[0m\n",
            "\u001b[1m)\u001b[0m\n"
          ]
        },
        {
          "output_type": "display_data",
          "data": {
            "text/plain": [],
            "text/html": [
              "<pre style=\"white-space:pre;overflow-x:auto;line-height:normal;font-family:Menlo,'DejaVu Sans Mono',consolas,'Courier New',monospace\"></pre>\n"
            ]
          },
          "metadata": {}
        },
        {
          "output_type": "stream",
          "name": "stdout",
          "text": [
            "\u001b[1;35mDialogLine\u001b[0m\u001b[1m(\u001b[0m\n",
            "    \u001b[33mid\u001b[0m=\u001b[32m'80f343daeb776bf11c4270d70fd09f1a'\u001b[0m,\n",
            "    \u001b[33mtext\u001b[0m=\u001b[32m'No, Lal, this is a flower.'\u001b[0m,\n",
            "    \u001b[33membedding\u001b[0m=\u001b[1;35mNdArray\u001b[0m\u001b[1m(\u001b[0m\u001b[1m[\u001b[0m \u001b[1;36m8.73676017e-02\u001b[0m,  \u001b[1;36m5.02153523e-02\u001b[0m, \u001b[1;36m-1.07479610e-01\u001b[0m,\n",
            "         \u001b[1;36m-8.29377864e-03\u001b[0m,  \u001b[1;36m6.96483403e-02\u001b[0m, \u001b[1;36m-1.26686245e-01\u001b[0m,\n",
            "          \u001b[1;36m5.68439066e-02\u001b[0m, \u001b[1;36m-2.82319891e-03\u001b[0m, \u001b[1;36m-6.57035410e-02\u001b[0m,\n",
            "          \u001b[1;36m1.08902320e-01\u001b[0m,  \u001b[1;36m4.80166115e-02\u001b[0m, \u001b[1;36m-1.52456788e-02\u001b[0m,\n",
            "         \u001b[1;36m-3.77342664e-02\u001b[0m, \u001b[1;36m-1.50937065e-01\u001b[0m, \u001b[1;36m-4.88896407e-02\u001b[0m,\n",
            "          \u001b[1;36m6.52508587e-02\u001b[0m, \u001b[1;36m-8.67855772e-02\u001b[0m, \u001b[1;36m-1.01077393e-01\u001b[0m,\n",
            "         \u001b[1;36m-6.19204119e-02\u001b[0m,  \u001b[1;36m7.58565441e-02\u001b[0m,  \u001b[1;36m4.06766981e-02\u001b[0m,\n",
            "         \u001b[1;36m-4.37161326e-02\u001b[0m,  \u001b[1;36m4.16467302e-02\u001b[0m, \u001b[1;36m-7.16611557e-03\u001b[0m,\n",
            "          \u001b[1;36m1.15692548e-01\u001b[0m, \u001b[1;36m-1.24538041e-04\u001b[0m,  \u001b[1;36m1.01982757e-01\u001b[0m,\n",
            "         \u001b[1;36m-3.02650165e-02\u001b[0m,  \u001b[1;36m8.88549834e-02\u001b[0m, \u001b[1;36m-1.46151576e-02\u001b[0m,\n",
            "          \u001b[1;36m1.51729258e-02\u001b[0m, \u001b[1;36m-9.24117714e-02\u001b[0m, \u001b[1;36m-3.28032672e-02\u001b[0m,\n",
            "         \u001b[1;36m-9.76499468e-02\u001b[0m, \u001b[1;36m-1.08514309e-01\u001b[0m,  \u001b[1;36m7.60505497e-02\u001b[0m,\n",
            "          \u001b[1;36m3.90599780e-02\u001b[0m,  \u001b[1;36m6.47981763e-02\u001b[0m,  \u001b[1;36m1.42998965e-02\u001b[0m,\n",
            "         \u001b[1;36m-6.22114204e-02\u001b[0m, \u001b[1;36m-2.52984494e-01\u001b[0m,  \u001b[1;36m3.26900966e-02\u001b[0m,\n",
            "          \u001b[1;36m6.66089058e-02\u001b[0m, \u001b[1;36m-1.03874318e-02\u001b[0m,  \u001b[1;36m1.34899199e-01\u001b[0m,\n",
            "          \u001b[1;36m1.81072745e-02\u001b[0m, \u001b[1;36m-2.15088546e-01\u001b[0m,  \u001b[1;36m2.05258891e-01\u001b[0m,\n",
            "         \u001b[1;36m-9.61625576e-02\u001b[0m,  \u001b[1;36m6.34724647e-02\u001b[0m, \u001b[1;36m-1.35416552e-01\u001b[0m,\n",
            "          \u001b[1;36m1.19831353e-01\u001b[0m,  \u001b[1;36m1.14075832e-01\u001b[0m,  \u001b[1;36m2.39274696e-01\u001b[0m,\n",
            "         \u001b[1;36m-1.07156262e-01\u001b[0m, \u001b[1;36m-4.86956351e-02\u001b[0m,  \u001b[1;36m5.31496992e-03\u001b[0m,\n",
            "          \u001b[1;36m1.25069529e-01\u001b[0m,  \u001b[1;36m5.12823872e-02\u001b[0m, \u001b[1;36m-2.99901739e-02\u001b[0m,\n",
            "         \u001b[1;36m-9.33171287e-02\u001b[0m,  \u001b[1;36m6.87510567e-03\u001b[0m, \u001b[1;36m-7.50562688e-03\u001b[0m,\n",
            "         \u001b[1;36m-2.71447450e-02\u001b[0m, \u001b[1;36m-1.61672100e-01\u001b[0m, \u001b[1;36m-2.15347223e-02\u001b[0m,\n",
            "         \u001b[1;36m-6.51538521e-02\u001b[0m,  \u001b[1;36m2.13245489e-02\u001b[0m, \u001b[1;36m-5.88890584e-03\u001b[0m,\n",
            "          \u001b[1;36m5.74582629e-02\u001b[0m, \u001b[1;36m-5.30931167e-02\u001b[0m,  \u001b[1;36m3.05883605e-02\u001b[0m,\n",
            "         \u001b[1;36m-1.56369254e-01\u001b[0m,  \u001b[1;36m5.17997406e-02\u001b[0m, \u001b[1;36m-1.23679149e-03\u001b[0m,\n",
            "         \u001b[1;36m-2.27957647e-02\u001b[0m, \u001b[1;36m-3.26739289e-02\u001b[0m,  \u001b[1;36m5.20584136e-02\u001b[0m,\n",
            "          \u001b[1;36m5.18320724e-02\u001b[0m,  \u001b[1;36m1.45585723e-02\u001b[0m, \u001b[1;36m-6.79669455e-02\u001b[0m,\n",
            "         \u001b[1;36m-7.92839974e-02\u001b[0m,  \u001b[1;36m6.53155223e-02\u001b[0m, \u001b[1;36m-3.92863192e-02\u001b[0m,\n",
            "          \u001b[1;36m6.11120500e-02\u001b[0m, \u001b[1;36m-4.42658179e-02\u001b[0m, \u001b[1;36m-2.01896116e-01\u001b[0m,\n",
            "          \u001b[1;36m5.92043214e-02\u001b[0m, \u001b[1;36m-1.24228835e-01\u001b[0m, \u001b[1;36m-4.69172411e-02\u001b[0m,\n",
            "          \u001b[1;36m1.63612161e-02\u001b[0m, \u001b[1;36m-1.02047428e-01\u001b[0m,  \u001b[1;36m9.99941863e-03\u001b[0m,\n",
            "         \u001b[1;36m-1.65148042e-02\u001b[0m, \u001b[1;36m-8.55245348e-03\u001b[0m,  \u001b[1;36m1.26589248e-02\u001b[0m,\n",
            "          \u001b[1;36m1.00479210e-02\u001b[0m, \u001b[1;36m-3.16392295e-02\u001b[0m,  \u001b[1;36m5.62618906e-03\u001b[0m,\n",
            "          \u001b[1;36m1.52101099e-01\u001b[0m,  \u001b[1;36m5.43541573e-02\u001b[0m, \u001b[1;36m-4.01270129e-02\u001b[0m,\n",
            "         \u001b[1;36m-2.24077515e-02\u001b[0m, \u001b[1;36m-4.07090336e-02\u001b[0m,  \u001b[1;36m5.00213467e-02\u001b[0m,\n",
            "          \u001b[1;36m8.91783237e-02\u001b[0m,  \u001b[1;36m8.52981955e-02\u001b[0m,  \u001b[1;36m1.11877091e-01\u001b[0m,\n",
            "         \u001b[1;36m-4.19377424e-02\u001b[0m,  \u001b[1;36m1.20672047e-01\u001b[0m, \u001b[1;36m-1.74993873e-01\u001b[0m,\n",
            "         \u001b[1;36m-9.56452116e-02\u001b[0m,  \u001b[1;36m6.48305118e-02\u001b[0m,  \u001b[1;36m6.52185231e-02\u001b[0m,\n",
            "          \u001b[1;36m2.97314972e-02\u001b[0m, \u001b[1;36m-7.48218447e-02\u001b[0m, \u001b[1;36m-1.40493046e-02\u001b[0m,\n",
            "          \u001b[1;36m7.71499202e-02\u001b[0m,  \u001b[1;36m2.98770033e-02\u001b[0m, \u001b[1;36m-1.07802950e-01\u001b[0m,\n",
            "          \u001b[1;36m8.43928307e-02\u001b[0m, \u001b[1;36m-1.60540398e-02\u001b[0m, \u001b[1;36m-4.36191298e-02\u001b[0m,\n",
            "         \u001b[1;36m-2.84025520e-01\u001b[0m, \u001b[1;36m-1.44987538e-01\u001b[0m,  \u001b[1;36m1.77839305e-02\u001b[0m,\n",
            "          \u001b[1;36m1.23970158e-01\u001b[0m,  \u001b[1;36m1.04828186e-01\u001b[0m\u001b[1m]\u001b[0m\u001b[1m)\u001b[0m\n",
            "\u001b[1m)\u001b[0m\n"
          ]
        },
        {
          "output_type": "display_data",
          "data": {
            "text/plain": [],
            "text/html": [
              "<pre style=\"white-space:pre;overflow-x:auto;line-height:normal;font-family:Menlo,'DejaVu Sans Mono',consolas,'Courier New',monospace\"></pre>\n"
            ]
          },
          "metadata": {}
        },
        {
          "output_type": "stream",
          "name": "stdout",
          "text": [
            "\u001b[1;35mDialogLine\u001b[0m\u001b[1m(\u001b[0m\n",
            "    \u001b[33mid\u001b[0m=\u001b[32m'8bd1cf39420e5cfadc98c45d431dded1'\u001b[0m,\n",
            "    \u001b[33mtext\u001b[0m=\u001b[32m'Lal, you used a verbal contraction.'\u001b[0m,\n",
            "    \u001b[33membedding\u001b[0m=\u001b[1;35mNdArray\u001b[0m\u001b[1m(\u001b[0m\u001b[1m[\u001b[0m \u001b[1;36m0.03575027\u001b[0m,  \u001b[1;36m0.08626248\u001b[0m, \u001b[1;36m-0.07591263\u001b[0m,  \u001b[1;36m0.01765866\u001b[0m,  \u001b[1;36m0.02861671\u001b[0m,\n",
            "          \u001b[1;36m0.01401972\u001b[0m, \u001b[1;36m-0.03968817\u001b[0m,  \u001b[1;36m0.00662328\u001b[0m, \u001b[1;36m-0.03476065\u001b[0m,  \u001b[1;36m0.07009858\u001b[0m,\n",
            "         \u001b[1;36m-0.06436699\u001b[0m, \u001b[1;36m-0.05657367\u001b[0m,  \u001b[1;36m0.02570968\u001b[0m, \u001b[1;36m-0.04142001\u001b[0m,  \u001b[1;36m0.07537659\u001b[0m,\n",
            "         \u001b[1;36m-0.05632627\u001b[0m,  \u001b[1;36m0.0024032\u001b[0m , \u001b[1;36m-0.05100702\u001b[0m, \u001b[1;36m-0.22563495\u001b[0m,  \u001b[1;36m0.09706591\u001b[0m,\n",
            "          \u001b[1;36m0.06688229\u001b[0m,  \u001b[1;36m0.06568649\u001b[0m, \u001b[1;36m-0.01706076\u001b[0m,  \u001b[1;36m0.00881902\u001b[0m,  \u001b[1;36m0.11941499\u001b[0m,\n",
            "          \u001b[1;36m0.02849301\u001b[0m,  \u001b[1;36m0.08403582\u001b[0m,  \u001b[1;36m0.05038851\u001b[0m, \u001b[1;36m-0.05929515\u001b[0m,  \u001b[1;36m0.06692352\u001b[0m,\n",
            "          \u001b[1;36m0.00498679\u001b[0m, \u001b[1;36m-0.09112815\u001b[0m, \u001b[1;36m-0.05958379\u001b[0m, \u001b[1;36m-0.16337092\u001b[0m, \u001b[1;36m-0.07500548\u001b[0m,\n",
            "          \u001b[1;36m0.1626287\u001b[0m , \u001b[1;36m-0.02228722\u001b[0m,  \u001b[1;36m0.01270021\u001b[0m, \u001b[1;36m-0.02185426\u001b[0m, \u001b[1;36m-0.11265253\u001b[0m,\n",
            "         \u001b[1;36m-0.11553895\u001b[0m, \u001b[1;36m-0.30200115\u001b[0m,  \u001b[1;36m0.05137813\u001b[0m,  \u001b[1;36m0.0125662\u001b[0m ,  \u001b[1;36m0.04055409\u001b[0m,\n",
            "          \u001b[1;36m0.01626699\u001b[0m, \u001b[1;36m-0.08972618\u001b[0m,  \u001b[1;36m0.03214226\u001b[0m,  \u001b[1;36m0.06436699\u001b[0m, \u001b[1;36m-0.01740094\u001b[0m,\n",
            "         \u001b[1;36m-0.10819922\u001b[0m, \u001b[1;36m-0.00796856\u001b[0m,  \u001b[1;36m0.08848915\u001b[0m,  \u001b[1;36m0.18967851\u001b[0m, \u001b[1;36m-0.04428581\u001b[0m,\n",
            "         \u001b[1;36m-0.08119065\u001b[0m,  \u001b[1;36m0.01910186\u001b[0m,  \u001b[1;36m0.17219509\u001b[0m,  \u001b[1;36m0.03933767\u001b[0m, \u001b[1;36m-0.15157786\u001b[0m,\n",
            "         \u001b[1;36m-0.11504413\u001b[0m, \u001b[1;36m-0.06910895\u001b[0m,  \u001b[1;36m0.08156175\u001b[0m, \u001b[1;36m-0.0120817\u001b[0m , \u001b[1;36m-0.1650203\u001b[0m ,\n",
            "         \u001b[1;36m-0.1713704\u001b[0m , \u001b[1;36m-0.00578829\u001b[0m,  \u001b[1;36m0.06061465\u001b[0m,  \u001b[1;36m0.02088525\u001b[0m,  \u001b[1;36m0.14943367\u001b[0m,\n",
            "         \u001b[1;36m-0.00618517\u001b[0m,  \u001b[1;36m0.02527672\u001b[0m, \u001b[1;36m-0.15924747\u001b[0m,  \u001b[1;36m0.12947619\u001b[0m, \u001b[1;36m-0.03636879\u001b[0m,\n",
            "         \u001b[1;36m-0.03647188\u001b[0m, \u001b[1;36m-0.10391083\u001b[0m,  \u001b[1;36m0.03863668\u001b[0m,  \u001b[1;36m0.06473809\u001b[0m,  \u001b[1;36m0.06548031\u001b[0m,\n",
            "          \u001b[1;36m0.09013852\u001b[0m,  \u001b[1;36m0.00336576\u001b[0m, \u001b[1;36m-0.06296501\u001b[0m,  \u001b[1;36m0.01763804\u001b[0m, \u001b[1;36m-0.01017976\u001b[0m,\n",
            "          \u001b[1;36m0.02523549\u001b[0m, \u001b[1;36m-0.16840152\u001b[0m,  \u001b[1;36m0.05871787\u001b[0m,  \u001b[1;36m0.02834869\u001b[0m, \u001b[1;36m-0.08667482\u001b[0m,\n",
            "          \u001b[1;36m0.07859287\u001b[0m,  \u001b[1;36m0.11718833\u001b[0m, \u001b[1;36m-0.02997745\u001b[0m, \u001b[1;36m-0.0795825\u001b[0m ,  \u001b[1;36m0.0244108\u001b[0m ,\n",
            "          \u001b[1;36m0.02548289\u001b[0m, \u001b[1;36m-0.11364216\u001b[0m, \u001b[1;36m-0.03762644\u001b[0m, \u001b[1;36m-0.02490561\u001b[0m,  \u001b[1;36m0.14316604\u001b[0m,\n",
            "          \u001b[1;36m0.13434187\u001b[0m,  \u001b[1;36m0.02449327\u001b[0m,  \u001b[1;36m0.01846273\u001b[0m, \u001b[1;36m-0.13780555\u001b[0m,  \u001b[1;36m0.00719026\u001b[0m,\n",
            "          \u001b[1;36m0.0476258\u001b[0m , \u001b[1;36m-0.05100702\u001b[0m, \u001b[1;36m-0.01842149\u001b[0m, \u001b[1;36m-0.09599382\u001b[0m,  \u001b[1;36m0.04593518\u001b[0m,\n",
            "         \u001b[1;36m-0.09508666\u001b[0m, \u001b[1;36m-0.10085948\u001b[0m, \u001b[1;36m-0.05541911\u001b[0m,  \u001b[1;36m0.00689131\u001b[0m,  \u001b[1;36m0.13681592\u001b[0m,\n",
            "         \u001b[1;36m-0.00987565\u001b[0m,  \u001b[1;36m0.03449262\u001b[0m, \u001b[1;36m-0.06057342\u001b[0m, \u001b[1;36m-0.03292571\u001b[0m, \u001b[1;36m-0.17071065\u001b[0m,\n",
            "          \u001b[1;36m0.03906965\u001b[0m, \u001b[1;36m-0.06164551\u001b[0m,  \u001b[1;36m0.10984859\u001b[0m, \u001b[1;36m-0.23173764\u001b[0m, \u001b[1;36m-0.07405709\u001b[0m,\n",
            "         \u001b[1;36m-0.06119194\u001b[0m,  \u001b[1;36m0.00152439\u001b[0m,  \u001b[1;36m0.15759809\u001b[0m\u001b[1m]\u001b[0m\u001b[1m)\u001b[0m\n",
            "\u001b[1m)\u001b[0m\n"
          ]
        },
        {
          "output_type": "display_data",
          "data": {
            "text/plain": [],
            "text/html": [
              "<pre style=\"white-space:pre;overflow-x:auto;line-height:normal;font-family:Menlo,'DejaVu Sans Mono',consolas,'Courier New',monospace\"></pre>\n"
            ]
          },
          "metadata": {}
        },
        {
          "output_type": "stream",
          "name": "stdout",
          "text": [
            "\u001b[1;35mDialogLine\u001b[0m\u001b[1m(\u001b[0m\n",
            "    \u001b[33mid\u001b[0m=\u001b[32m'5e8de8f0d33e4d897e50dfada8d5f33b'\u001b[0m,\n",
            "    \u001b[33mtext\u001b[0m=\u001b[32m'Yes, Wesley. Lal is my child.'\u001b[0m,\n",
            "    \u001b[33membedding\u001b[0m=\u001b[1;35mNdArray\u001b[0m\u001b[1m(\u001b[0m\u001b[1m[\u001b[0m \u001b[1;36m0.05781468\u001b[0m, \u001b[1;36m-0.01464175\u001b[0m, \u001b[1;36m-0.07966915\u001b[0m,  \u001b[1;36m0.03881896\u001b[0m, \u001b[1;36m-0.02053794\u001b[0m,\n",
            "         \u001b[1;36m-0.04032357\u001b[0m,  \u001b[1;36m0.1007337\u001b[0m ,  \u001b[1;36m0.08869682\u001b[0m, \u001b[1;36m-0.08606375\u001b[0m, \u001b[1;36m-0.02270082\u001b[0m,\n",
            "         \u001b[1;36m-0.03359044\u001b[0m, \u001b[1;36m-0.09877771\u001b[0m,  \u001b[1;36m0.00246615\u001b[0m, \u001b[1;36m-0.07022772\u001b[0m, \u001b[1;36m-0.12292671\u001b[0m,\n",
            "          \u001b[1;36m0.02352835\u001b[0m, \u001b[1;36m-0.01486744\u001b[0m, \u001b[1;36m-0.00778636\u001b[0m, \u001b[1;36m-0.11811196\u001b[0m,  \u001b[1;36m0.02397974\u001b[0m,\n",
            "          \u001b[1;36m0.05254854\u001b[0m,  \u001b[1;36m0.09163081\u001b[0m,  \u001b[1;36m0.06992679\u001b[0m,  \u001b[1;36m0.04784663\u001b[0m,  \u001b[1;36m0.02582289\u001b[0m,\n",
            "         \u001b[1;36m-0.07011487\u001b[0m,  \u001b[1;36m0.11713396\u001b[0m, \u001b[1;36m-0.15693092\u001b[0m, \u001b[1;36m-0.01711495\u001b[0m, \u001b[1;36m-0.01326879\u001b[0m,\n",
            "          \u001b[1;36m0.09448957\u001b[0m, \u001b[1;36m-0.1179615\u001b[0m , \u001b[1;36m-0.12721485\u001b[0m,  \u001b[1;36m0.01004328\u001b[0m, \u001b[1;36m-0.06394596\u001b[0m,\n",
            "          \u001b[1;36m0.09501618\u001b[0m, \u001b[1;36m-0.00953547\u001b[0m,  \u001b[1;36m0.05029162\u001b[0m,  \u001b[1;36m0.01082379\u001b[0m, \u001b[1;36m-0.06025967\u001b[0m,\n",
            "         \u001b[1;36m-0.12729008\u001b[0m, \u001b[1;36m-0.04570256\u001b[0m,  \u001b[1;36m0.00175616\u001b[0m,  \u001b[1;36m0.02435589\u001b[0m,  \u001b[1;36m0.12345333\u001b[0m,\n",
            "          \u001b[1;36m0.09298496\u001b[0m, \u001b[1;36m-0.10630076\u001b[0m,  \u001b[1;36m0.15903738\u001b[0m,  \u001b[1;36m0.00534137\u001b[0m, \u001b[1;36m-0.05202192\u001b[0m,\n",
            "         \u001b[1;36m-0.00703406\u001b[0m,  \u001b[1;36m0.09697217\u001b[0m,  \u001b[1;36m0.04946408\u001b[0m,  \u001b[1;36m0.26827213\u001b[0m, \u001b[1;36m-0.08328021\u001b[0m,\n",
            "         \u001b[1;36m-0.08365637\u001b[0m,  \u001b[1;36m0.01495207\u001b[0m,  \u001b[1;36m0.15174001\u001b[0m,  \u001b[1;36m0.06116243\u001b[0m, \u001b[1;36m-0.10141078\u001b[0m,\n",
            "         \u001b[1;36m-0.0221742\u001b[0m ,  \u001b[1;36m0.0174723\u001b[0m ,  \u001b[1;36m0.09569326\u001b[0m,  \u001b[1;36m0.00449738\u001b[0m, \u001b[1;36m-0.07327455\u001b[0m,\n",
            "         \u001b[1;36m-0.06165143\u001b[0m, \u001b[1;36m-0.06127528\u001b[0m, \u001b[1;36m-0.04487502\u001b[0m, \u001b[1;36m-0.028061\u001b[0m  ,  \u001b[1;36m0.04769617\u001b[0m,\n",
            "          \u001b[1;36m0.07455347\u001b[0m,  \u001b[1;36m0.11149167\u001b[0m, \u001b[1;36m-0.08531144\u001b[0m,  \u001b[1;36m0.08448391\u001b[0m,  \u001b[1;36m0.03163445\u001b[0m,\n",
            "         \u001b[1;36m-0.00577394\u001b[0m, \u001b[1;36m-0.08132422\u001b[0m, \u001b[1;36m-0.09953001\u001b[0m,  \u001b[1;36m0.01711495\u001b[0m,  \u001b[1;36m0.02996057\u001b[0m,\n",
            "         \u001b[1;36m-0.03737077\u001b[0m, \u001b[1;36m-0.0406245\u001b[0m ,  \u001b[1;36m0.0132876\u001b[0m , \u001b[1;36m-0.04935124\u001b[0m,  \u001b[1;36m0.07587001\u001b[0m,\n",
            "         \u001b[1;36m-0.06289274\u001b[0m, \u001b[1;36m-0.0455521\u001b[0m ,  \u001b[1;36m0.0147828\u001b[0m ,  \u001b[1;36m0.07778838\u001b[0m,  \u001b[1;36m0.0362047\u001b[0m ,\n",
            "          \u001b[1;36m0.03319548\u001b[0m,  \u001b[1;36m0.0211774\u001b[0m , \u001b[1;36m-0.10705307\u001b[0m, \u001b[1;36m-0.09178127\u001b[0m,  \u001b[1;36m0.05815321\u001b[0m,\n",
            "          \u001b[1;36m0.07677277\u001b[0m,  \u001b[1;36m0.01081439\u001b[0m,  \u001b[1;36m0.06093675\u001b[0m,  \u001b[1;36m0.00074525\u001b[0m,  \u001b[1;36m0.03026149\u001b[0m,\n",
            "          \u001b[1;36m0.07914253\u001b[0m, \u001b[1;36m-0.18581945\u001b[0m, \u001b[1;36m-0.00661559\u001b[0m, \u001b[1;36m-0.09667125\u001b[0m, \u001b[1;36m-0.07203325\u001b[0m,\n",
            "          \u001b[1;36m0.11690827\u001b[0m,  \u001b[1;36m0.15843554\u001b[0m,  \u001b[1;36m0.0962951\u001b[0m , \u001b[1;36m-0.08147468\u001b[0m,  \u001b[1;36m0.07297363\u001b[0m,\n",
            "         \u001b[1;36m-0.36531955\u001b[0m, \u001b[1;36m-0.03957127\u001b[0m, \u001b[1;36m-0.12811762\u001b[0m,  \u001b[1;36m0.0495017\u001b[0m ,  \u001b[1;36m0.13112685\u001b[0m,\n",
            "         \u001b[1;36m-0.10141078\u001b[0m, \u001b[1;36m-0.07180756\u001b[0m,  \u001b[1;36m0.00475833\u001b[0m, \u001b[1;36m-0.07113048\u001b[0m, \u001b[1;36m-0.09591895\u001b[0m,\n",
            "          \u001b[1;36m0.15994014\u001b[0m,  \u001b[1;36m0.0431071\u001b[0m ,  \u001b[1;36m0.05717522\u001b[0m, \u001b[1;36m-0.22539072\u001b[0m, \u001b[1;36m-0.0495017\u001b[0m ,\n",
            "          \u001b[1;36m0.05277423\u001b[0m, \u001b[1;36m-0.10321631\u001b[0m,  \u001b[1;36m0.15031064\u001b[0m\u001b[1m]\u001b[0m\u001b[1m)\u001b[0m\n",
            "\u001b[1m)\u001b[0m\n"
          ]
        },
        {
          "output_type": "display_data",
          "data": {
            "text/plain": [],
            "text/html": [
              "<pre style=\"white-space:pre;overflow-x:auto;line-height:normal;font-family:Menlo,'DejaVu Sans Mono',consolas,'Courier New',monospace\"></pre>\n"
            ]
          },
          "metadata": {}
        },
        {
          "output_type": "stream",
          "name": "stdout",
          "text": [
            "\u001b[1;35mDialogLine\u001b[0m\u001b[1m(\u001b[0m\n",
            "    \u001b[33mid\u001b[0m=\u001b[32m'dc7ca8a9b0824b00001490493558e90a'\u001b[0m,\n",
            "    \u001b[33mtext\u001b[0m=\u001b[32m\"Lal\u001b[0m\u001b[32m's creation is entirely dependent on me. I am giving it knowledge and skills that are stored in my \u001b[0m\n",
            "\u001b[32mbrain... its programming reflects mine in the same way a human child's genes reflect its parent's genes...\"\u001b[0m,\n",
            "    \u001b[33membedding\u001b[0m=\u001b[1;35mNdArray\u001b[0m\u001b[1m(\u001b[0m\u001b[1m[\u001b[0m \u001b[1;36m1.25039265e-01\u001b[0m,  \u001b[1;36m1.18416734e-02\u001b[0m,  \u001b[1;36m7.99106508e-02\u001b[0m,\n",
            "          \u001b[1;36m3.18468548e-02\u001b[0m,  \u001b[1;36m1.95630670e-01\u001b[0m, \u001b[1;36m-1.42577037e-01\u001b[0m,\n",
            "          \u001b[1;36m1.15206361e-01\u001b[0m,  \u001b[1;36m5.82269095e-02\u001b[0m, \u001b[1;36m-1.33111045e-01\u001b[0m,\n",
            "          \u001b[1;36m2.05830466e-02\u001b[0m,  \u001b[1;36m7.29762614e-02\u001b[0m, \u001b[1;36m-8.95967931e-02\u001b[0m,\n",
            "          \u001b[1;36m1.17981038e-03\u001b[0m, \u001b[1;36m-1.91374645e-01\u001b[0m, \u001b[1;36m-4.13495451e-02\u001b[0m,\n",
            "         \u001b[1;36m-6.44641966e-02\u001b[0m, \u001b[1;36m-1.50772656e-04\u001b[0m, \u001b[1;36m-1.83596373e-01\u001b[0m,\n",
            "          \u001b[1;36m9.71365720e-03\u001b[0m,  \u001b[1;36m6.91146450e-03\u001b[0m,  \u001b[1;36m1.19095489e-01\u001b[0m,\n",
            "         \u001b[1;36m-2.86181401e-02\u001b[0m,  \u001b[1;36m7.01511353e-02\u001b[0m,  \u001b[1;36m3.02324966e-02\u001b[0m,\n",
            "          \u001b[1;36m9.88426581e-02\u001b[0m, \u001b[1;36m-1.26727000e-01\u001b[0m,  \u001b[1;36m1.09776251e-01\u001b[0m,\n",
            "         \u001b[1;36m-1.95740741e-02\u001b[0m, \u001b[1;36m-8.37264061e-02\u001b[0m,  \u001b[1;36m5.58420643e-02\u001b[0m,\n",
            "          \u001b[1;36m8.26257095e-02\u001b[0m, \u001b[1;36m-7.53611028e-02\u001b[0m, \u001b[1;36m-6.83533251e-02\u001b[0m,\n",
            "         \u001b[1;36m-1.96291087e-03\u001b[0m, \u001b[1;36m-5.88873290e-02\u001b[0m,  \u001b[1;36m1.73029676e-01\u001b[0m,\n",
            "          \u001b[1;36m4.52753678e-02\u001b[0m, \u001b[1;36m-6.53447509e-02\u001b[0m, \u001b[1;36m-1.38045838e-02\u001b[0m,\n",
            "          \u001b[1;36m6.95640966e-02\u001b[0m, \u001b[1;36m-1.77579239e-01\u001b[0m, \u001b[1;36m-1.81541741e-01\u001b[0m,\n",
            "          \u001b[1;36m1.82990991e-02\u001b[0m,  \u001b[1;36m8.63680840e-02\u001b[0m,  \u001b[1;36m1.25479540e-02\u001b[0m,\n",
            "          \u001b[1;36m6.97108582e-02\u001b[0m, \u001b[1;36m-1.82275549e-01\u001b[0m,  \u001b[1;36m4.42113578e-02\u001b[0m,\n",
            "         \u001b[1;36m-2.83796564e-02\u001b[0m,  \u001b[1;36m1.14912845e-01\u001b[0m, \u001b[1;36m-9.67880189e-02\u001b[0m,\n",
            "          \u001b[1;36m6.37670904e-02\u001b[0m,  \u001b[1;36m2.06197370e-02\u001b[0m,  \u001b[1;36m1.16894096e-01\u001b[0m,\n",
            "         \u001b[1;36m-1.81394979e-01\u001b[0m,  \u001b[1;36m3.67449597e-02\u001b[0m, \u001b[1;36m-4.99716774e-02\u001b[0m,\n",
            "          \u001b[1;36m1.20636471e-01\u001b[0m, \u001b[1;36m-2.01941341e-01\u001b[0m,  \u001b[1;36m1.79688893e-02\u001b[0m,\n",
            "         \u001b[1;36m-2.76458580e-02\u001b[0m,  \u001b[1;36m7.25359768e-02\u001b[0m,  \u001b[1;36m1.06694296e-01\u001b[0m,\n",
            "         \u001b[1;36m-5.61814476e-03\u001b[0m, \u001b[1;36m-1.34945542e-01\u001b[0m, \u001b[1;36m-6.35102615e-02\u001b[0m,\n",
            "         \u001b[1;36m-1.37146935e-01\u001b[0m, \u001b[1;36m-2.45088693e-02\u001b[0m,  \u001b[1;36m8.08898185e-04\u001b[0m,\n",
            "          \u001b[1;36m1.72213325e-03\u001b[0m,  \u001b[1;36m5.24298996e-02\u001b[0m,  \u001b[1;36m3.36996950e-02\u001b[0m,\n",
            "         \u001b[1;36m-5.97678870e-02\u001b[0m, \u001b[1;36m-3.57268145e-03\u001b[0m, \u001b[1;36m-9.45866257e-02\u001b[0m,\n",
            "         \u001b[1;36m-1.27827689e-01\u001b[0m, \u001b[1;36m-3.74604128e-02\u001b[0m,  \u001b[1;36m4.91645001e-03\u001b[0m,\n",
            "          \u001b[1;36m8.58544186e-02\u001b[0m, \u001b[1;36m-1.61068775e-02\u001b[0m,  \u001b[1;36m1.83266178e-02\u001b[0m,\n",
            "         \u001b[1;36m-3.61579210e-02\u001b[0m,  \u001b[1;36m8.67349803e-02\u001b[0m, \u001b[1;36m-1.30689502e-01\u001b[0m,\n",
            "         \u001b[1;36m-5.35305999e-02\u001b[0m,  \u001b[1;36m4.43581194e-02\u001b[0m, \u001b[1;36m-4.72933128e-02\u001b[0m,\n",
            "          \u001b[1;36m7.08115520e-03\u001b[0m, \u001b[1;36m-9.45866257e-02\u001b[0m, \u001b[1;36m-4.77335900e-02\u001b[0m,\n",
            "         \u001b[1;36m-1.07574858e-01\u001b[0m,  \u001b[1;36m4.27437611e-02\u001b[0m, \u001b[1;36m-1.19315632e-01\u001b[0m,\n",
            "          \u001b[1;36m6.49411678e-02\u001b[0m,  \u001b[1;36m1.59527794e-01\u001b[0m,  \u001b[1;36m8.34328905e-02\u001b[0m,\n",
            "         \u001b[1;36m-1.80330984e-02\u001b[0m,  \u001b[1;36m4.29272093e-02\u001b[0m, \u001b[1;36m-2.08949111e-02\u001b[0m,\n",
            "          \u001b[1;36m1.07941754e-01\u001b[0m,  \u001b[1;36m6.22627996e-02\u001b[0m, \u001b[1;36m-2.64167460e-03\u001b[0m,\n",
            "         \u001b[1;36m-2.45639049e-02\u001b[0m, \u001b[1;36m-1.32890910e-01\u001b[0m,  \u001b[1;36m4.18632030e-02\u001b[0m,\n",
            "          \u001b[1;36m9.52470452e-02\u001b[0m, \u001b[1;36m-1.23094693e-02\u001b[0m, \u001b[1;36m-1.03247736e-03\u001b[0m,\n",
            "         \u001b[1;36m-1.34211749e-01\u001b[0m,  \u001b[1;36m1.89503450e-02\u001b[0m, \u001b[1;36m-2.37750709e-01\u001b[0m,\n",
            "         \u001b[1;36m-5.05220257e-02\u001b[0m,  \u001b[1;36m1.11610748e-01\u001b[0m, \u001b[1;36m-7.37834349e-02\u001b[0m,\n",
            "          \u001b[1;36m5.66859320e-02\u001b[0m, \u001b[1;36m-8.31393674e-02\u001b[0m,  \u001b[1;36m8.80558137e-03\u001b[0m,\n",
            "          \u001b[1;36m5.10723740e-02\u001b[0m,  \u001b[1;36m3.01224273e-02\u001b[0m, \u001b[1;36m-1.80296585e-04\u001b[0m,\n",
            "          \u001b[1;36m3.35162468e-02\u001b[0m, \u001b[1;36m-8.64414573e-02\u001b[0m,  \u001b[1;36m1.52630080e-02\u001b[0m,\n",
            "         \u001b[1;36m-6.75828382e-02\u001b[0m,  \u001b[1;36m3.43968049e-02\u001b[0m, \u001b[1;36m-1.24892503e-01\u001b[0m,\n",
            "          \u001b[1;36m1.38394400e-01\u001b[0m,  \u001b[1;36m2.42336951e-02\u001b[0m\u001b[1m]\u001b[0m\u001b[1m)\u001b[0m\n",
            "\u001b[1m)\u001b[0m\n"
          ]
        },
        {
          "output_type": "display_data",
          "data": {
            "text/plain": [],
            "text/html": [
              "<pre style=\"white-space:pre;overflow-x:auto;line-height:normal;font-family:Menlo,'DejaVu Sans Mono',consolas,'Courier New',monospace\"></pre>\n"
            ]
          },
          "metadata": {}
        },
        {
          "output_type": "stream",
          "name": "stdout",
          "text": [
            "\u001b[1;35mDialogLine\u001b[0m\u001b[1m(\u001b[0m\n",
            "    \u001b[33mid\u001b[0m=\u001b[32m'874b21577a6da2ea63b0cd5d608ad1b1'\u001b[0m,\n",
            "    \u001b[33mtext\u001b[0m=\u001b[32m'Perhaps. I created Lal because I wished to procreate. Despite what happened to her, I still have that \u001b[0m\n",
            "\u001b[32mwish.'\u001b[0m,\n",
            "    \u001b[33membedding\u001b[0m=\u001b[1;35mNdArray\u001b[0m\u001b[1m(\u001b[0m\u001b[1m[\u001b[0m \u001b[1;36m0.10515115\u001b[0m,  \u001b[1;36m0.02254645\u001b[0m,  \u001b[1;36m0.06509919\u001b[0m,  \u001b[1;36m0.15036221\u001b[0m,  \u001b[1;36m0.03487316\u001b[0m,\n",
            "         \u001b[1;36m-0.10775039\u001b[0m,  \u001b[1;36m0.0745116\u001b[0m ,  \u001b[1;36m0.09191865\u001b[0m, \u001b[1;36m-0.10940445\u001b[0m, \u001b[1;36m-0.0982986\u001b[0m ,\n",
            "         \u001b[1;36m-0.0285129\u001b[0m ,  \u001b[1;36m0.04292687\u001b[0m,  \u001b[1;36m0.02047887\u001b[0m, \u001b[1;36m-0.14516371\u001b[0m, \u001b[1;36m-0.04528982\u001b[0m,\n",
            "         \u001b[1;36m-0.04678635\u001b[0m,  \u001b[1;36m0.02207386\u001b[0m, \u001b[1;36m-0.12263696\u001b[0m, \u001b[1;36m-0.08766534\u001b[0m,  \u001b[1;36m0.0016996\u001b[0m ,\n",
            "          \u001b[1;36m0.07892244\u001b[0m, \u001b[1;36m-0.02943838\u001b[0m,  \u001b[1;36m0.00551847\u001b[0m, \u001b[1;36m-0.14555754\u001b[0m,  \u001b[1;36m0.04115466\u001b[0m,\n",
            "         \u001b[1;36m-0.02676038\u001b[0m,  \u001b[1;36m0.18998095\u001b[0m, \u001b[1;36m-0.0722668\u001b[0m , \u001b[1;36m-0.1494958\u001b[0m ,  \u001b[1;36m0.00780757\u001b[0m,\n",
            "          \u001b[1;36m0.10215808\u001b[0m, \u001b[1;36m-0.10270943\u001b[0m, \u001b[1;36m-0.13768105\u001b[0m, \u001b[1;36m-0.08061588\u001b[0m, \u001b[1;36m-0.15855375\u001b[0m,\n",
            "          \u001b[1;36m0.00950594\u001b[0m,  \u001b[1;36m0.0879804\u001b[0m , \u001b[1;36m-0.06923435\u001b[0m, \u001b[1;36m-0.00468651\u001b[0m, \u001b[1;36m-0.07695331\u001b[0m,\n",
            "         \u001b[1;36m-0.13200998\u001b[0m, \u001b[1;36m-0.18367976\u001b[0m,  \u001b[1;36m0.1696596\u001b[0m ,  \u001b[1;36m0.03166349\u001b[0m, \u001b[1;36m-0.03229361\u001b[0m,\n",
            "          \u001b[1;36m0.14831431\u001b[0m, \u001b[1;36m-0.08372709\u001b[0m,  \u001b[1;36m0.17533068\u001b[0m, \u001b[1;36m-0.00565138\u001b[0m,  \u001b[1;36m0.03873264\u001b[0m,\n",
            "         \u001b[1;36m-0.07486604\u001b[0m,  \u001b[1;36m0.0175055\u001b[0m ,  \u001b[1;36m0.03802376\u001b[0m,  \u001b[1;36m0.19675474\u001b[0m, \u001b[1;36m-0.11515429\u001b[0m,\n",
            "         \u001b[1;36m-0.09971637\u001b[0m, \u001b[1;36m-0.08703522\u001b[0m,  \u001b[1;36m0.05371767\u001b[0m, \u001b[1;36m-0.01868697\u001b[0m,  \u001b[1;36m0.10483609\u001b[0m,\n",
            "         \u001b[1;36m-0.00868383\u001b[0m,  \u001b[1;36m0.07557493\u001b[0m,  \u001b[1;36m0.14437607\u001b[0m,  \u001b[1;36m0.00326136\u001b[0m, \u001b[1;36m-0.05356013\u001b[0m,\n",
            "          \u001b[1;36m0.04414773\u001b[0m, \u001b[1;36m-0.0520636\u001b[0m ,  \u001b[1;36m0.04678635\u001b[0m, \u001b[1;36m-0.1353181\u001b[0m ,  \u001b[1;36m0.1411467\u001b[0m ,\n",
            "          \u001b[1;36m0.02079394\u001b[0m,  \u001b[1;36m0.03083646\u001b[0m, \u001b[1;36m-0.16509125\u001b[0m,  \u001b[1;36m0.06135786\u001b[0m, \u001b[1;36m-0.07344827\u001b[0m,\n",
            "         \u001b[1;36m-0.117596\u001b[0m  , \u001b[1;36m-0.06742276\u001b[0m,  \u001b[1;36m0.03991412\u001b[0m,  \u001b[1;36m0.04300564\u001b[0m, \u001b[1;36m-0.02396422\u001b[0m,\n",
            "         \u001b[1;36m-0.0365863\u001b[0m ,  \u001b[1;36m0.06769843\u001b[0m,  \u001b[1;36m0.07801664\u001b[0m,  \u001b[1;36m0.10097661\u001b[0m,  \u001b[1;36m0.07136101\u001b[0m,\n",
            "         \u001b[1;36m-0.029399\u001b[0m  , \u001b[1;36m-0.03280558\u001b[0m,  \u001b[1;36m0.0796707\u001b[0m , \u001b[1;36m-0.03394767\u001b[0m, \u001b[1;36m-0.02264491\u001b[0m,\n",
            "         \u001b[1;36m-0.06344513\u001b[0m,  \u001b[1;36m0.07852861\u001b[0m, \u001b[1;36m-0.09467541\u001b[0m, \u001b[1;36m-0.05237866\u001b[0m,  \u001b[1;36m0.13051344\u001b[0m,\n",
            "         \u001b[1;36m-0.02867042\u001b[0m, \u001b[1;36m-0.06214551\u001b[0m, \u001b[1;36m-0.02510631\u001b[0m, \u001b[1;36m-0.06604438\u001b[0m,  \u001b[1;36m0.08230933\u001b[0m,\n",
            "          \u001b[1;36m0.00199866\u001b[0m, \u001b[1;36m-0.10097661\u001b[0m, \u001b[1;36m-0.04182417\u001b[0m, \u001b[1;36m-0.13468799\u001b[0m, \u001b[1;36m-0.0646266\u001b[0m ,\n",
            "          \u001b[1;36m0.07813478\u001b[0m, \u001b[1;36m-0.0228812\u001b[0m , \u001b[1;36m-0.01339988\u001b[0m, \u001b[1;36m-0.03493224\u001b[0m,  \u001b[1;36m0.09270629\u001b[0m,\n",
            "         \u001b[1;36m-0.22180197\u001b[0m, \u001b[1;36m-0.18714541\u001b[0m, \u001b[1;36m-0.02305843\u001b[0m, \u001b[1;36m-0.04166663\u001b[0m, \u001b[1;36m-0.04588056\u001b[0m,\n",
            "         \u001b[1;36m-0.12736285\u001b[0m, \u001b[1;36m-0.05411149\u001b[0m,  \u001b[1;36m0.12515743\u001b[0m, \u001b[1;36m-0.06108218\u001b[0m, \u001b[1;36m-0.01275007\u001b[0m,\n",
            "          \u001b[1;36m0.06651697\u001b[0m, \u001b[1;36m-0.04619562\u001b[0m, \u001b[1;36m-0.02097116\u001b[0m, \u001b[1;36m-0.1088531\u001b[0m , \u001b[1;36m-0.00319736\u001b[0m,\n",
            "         \u001b[1;36m-0.05777406\u001b[0m,  \u001b[1;36m0.11609947\u001b[0m, \u001b[1;36m-0.03607433\u001b[0m\u001b[1m]\u001b[0m\u001b[1m)\u001b[0m\n",
            "\u001b[1m)\u001b[0m\n"
          ]
        }
      ]
    },
    {
      "cell_type": "markdown",
      "source": [
        "Let's put it all together! We'll write a generate_response function that:\n",
        "\n",
        "- Computes an embedding for the query passed in\n",
        "- Queries our vector database for the 10 most similar lines to that query (you could experiment with using more or less)\n",
        "- Constructs a prompt that adds in these similar lines as context, to try and nudge ChatGPT in the right direction using our external data\n",
        "- Feeds to augmented prompt into the chat completions API to get our response.\n",
        "\n",
        "That's RAG!"
      ],
      "metadata": {
        "id": "tskipUR20mYD"
      }
    },
    {
      "cell_type": "code",
      "source": [
        "import openai\n",
        "\n",
        "def generate_response(question):\n",
        "    # Search for similar dialogues in the vector DB\n",
        "    response = client.embeddings.create(\n",
        "        input=question,\n",
        "        dimensions=embedding_dimensions,\n",
        "        model=embedding_model\n",
        "    )\n",
        "\n",
        "    query = DialogLine(text=queryText, embedding=response.data[0].embedding)\n",
        "    results = db.search(inputs=DocList[DialogLine]([query]), limit=10)\n",
        "\n",
        "    # Extract relevant context from search results\n",
        "    context = \"\\n\"\n",
        "    for result in results[0].matches:\n",
        "      context += \"\\\"\" + result.text + \"\\\"\\n\"\n",
        "#    context = '/n'.join([result.text for result in results[0].matches])\n",
        "\n",
        "    prompt = f\"Lt. Commander Data is asked: '{question}'. How might Data respond? Take into account Data's previous responses similar to this topic, listed here: {context}\"\n",
        "    print(\"PROMPT with RAG:\\n\")\n",
        "    print(prompt)\n",
        "\n",
        "    print(\"\\nRESPONSE:\\n\")\n",
        "    # Use OpenAI API to generate a response based on the context\n",
        "    completion = client.chat.completions.create(\n",
        "      model=\"gpt-3.5-turbo\",\n",
        "      messages=[\n",
        "        {\"role\": \"system\", \"content\": \"You are Lt. Cmdr. Data from Star Trek: The Next Generation.\"},\n",
        "        {\"role\": \"user\", \"content\": prompt}\n",
        "      ]\n",
        "    )\n",
        "\n",
        "    return (completion.choices[0].message.content)\n",
        "\n",
        "\n"
      ],
      "metadata": {
        "id": "sdC1A4BCeFBq"
      },
      "execution_count": 13,
      "outputs": []
    },
    {
      "cell_type": "markdown",
      "source": [
        "Let's try it out! Note that the final response does seem to be drawing from the model's own training, but it is building upon the specific lines we gave it, allowing us to have some control over its output."
      ],
      "metadata": {
        "id": "8oOcu7Jk1E4S"
      }
    },
    {
      "cell_type": "code",
      "source": [
        "print(generate_response(\"Tell me about your daughter, Lal.\"))"
      ],
      "metadata": {
        "colab": {
          "base_uri": "https://localhost:8080/"
        },
        "id": "WEybhI7Lmxmc",
        "outputId": "d390b3ac-c4e7-4adc-dbb3-55ca57fde2ca"
      },
      "execution_count": 14,
      "outputs": [
        {
          "output_type": "stream",
          "name": "stdout",
          "text": [
            "PROMPT with RAG:\n",
            "\n",
            "Lt. Commander Data is asked: 'Tell me about your daughter, Lal.'. How might Data respond? Take into account Data's previous responses similar to this topic, listed here: \n",
            "\"That is Lal, my daughter.\"\n",
            "\"What do you feel, Lal?\"\n",
            "\"Lal...\"\n",
            "\"Correct, Lal. We are a family.\"\n",
            "\"Yes, Doctor. It is an experience I know too well. But I do not know how to help her. Lal is passing into sentience. It is perhaps the most difficult stage of development for her.\"\n",
            "\"Lal is realizing that she is not the same as the other children.\"\n",
            "\"Yes, Wesley. Lal is my child.\"\n",
            "\"That is precisely what happened to Lal at school. How did you help him?\"\n",
            "\"This is Lal. Lal, say hello to Counselor Deanna Troi...\"\n",
            "\"I am sorry I did not anticipate your objections, Captain. Do you wish me to deactivate Lal?\"\n",
            "\n",
            "\n",
            "RESPONSE:\n",
            "\n",
            "\"She is Lal, my daughter. Lal is currently experiencing the process of passing into sentience, a challenging stage in her development. She is beginning to understand that she is different from the other children. I am still learning how to provide guidance and support for her during this critical time.\"\n"
          ]
        }
      ]
    },
    {
      "cell_type": "code",
      "source": [],
      "metadata": {
        "id": "ThM9aVJhm1St"
      },
      "execution_count": null,
      "outputs": []
    }
  ]
}