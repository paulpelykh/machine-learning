{
  "cells": [
    {
      "cell_type": "markdown",
      "metadata": {
        "id": "GrjR2Djyu8z2"
      },
      "source": [
        "# Reinforcement Learning\n",
        "\n",
        "Let's describe the \"taxi problem\". We want to build a self-driving taxi that can pick up passengers at one of a set of fixed locations, drop them off at another location, and get there in the quickest amount of time while avoiding obstacles.\n",
        "\n",
        "The AI Gym lets us create this environment quickly:"
      ]
    },
    {
      "cell_type": "code",
      "source": [
        "!pip install gym==0.15.3"
      ],
      "metadata": {
        "colab": {
          "base_uri": "https://localhost:8080/",
          "height": 740
        },
        "id": "LfkJ9m2evMn4",
        "outputId": "74f68101-fc77-4448-ad48-36b956d54563"
      },
      "execution_count": 2,
      "outputs": [
        {
          "output_type": "stream",
          "name": "stdout",
          "text": [
            "Collecting gym==0.15.3\n",
            "  Downloading gym-0.15.3.tar.gz (1.6 MB)\n",
            "\u001b[2K     \u001b[90m━━━━━━━━━━━━━━━━━━━━━━━━━━━━━━━━━━━━━━━━\u001b[0m \u001b[32m1.6/1.6 MB\u001b[0m \u001b[31m15.8 MB/s\u001b[0m eta \u001b[36m0:00:00\u001b[0m\n",
            "\u001b[?25h  Preparing metadata (setup.py) ... \u001b[?25l\u001b[?25hdone\n",
            "Requirement already satisfied: scipy in /usr/local/lib/python3.10/dist-packages (from gym==0.15.3) (1.13.1)\n",
            "Requirement already satisfied: numpy>=1.10.4 in /usr/local/lib/python3.10/dist-packages (from gym==0.15.3) (1.26.4)\n",
            "Requirement already satisfied: six in /usr/local/lib/python3.10/dist-packages (from gym==0.15.3) (1.16.0)\n",
            "Collecting pyglet<=1.3.2,>=1.2.0 (from gym==0.15.3)\n",
            "  Downloading pyglet-1.3.2-py2.py3-none-any.whl.metadata (1.4 kB)\n",
            "Collecting cloudpickle~=1.2.0 (from gym==0.15.3)\n",
            "  Downloading cloudpickle-1.2.2-py2.py3-none-any.whl.metadata (4.7 kB)\n",
            "Requirement already satisfied: future in /usr/local/lib/python3.10/dist-packages (from pyglet<=1.3.2,>=1.2.0->gym==0.15.3) (1.0.0)\n",
            "Downloading cloudpickle-1.2.2-py2.py3-none-any.whl (25 kB)\n",
            "Downloading pyglet-1.3.2-py2.py3-none-any.whl (1.0 MB)\n",
            "\u001b[2K   \u001b[90m━━━━━━━━━━━━━━━━━━━━━━━━━━━━━━━━━━━━━━━━\u001b[0m \u001b[32m1.0/1.0 MB\u001b[0m \u001b[31m39.5 MB/s\u001b[0m eta \u001b[36m0:00:00\u001b[0m\n",
            "\u001b[?25hBuilding wheels for collected packages: gym\n",
            "  Building wheel for gym (setup.py) ... \u001b[?25l\u001b[?25hdone\n",
            "  Created wheel for gym: filename=gym-0.15.3-py3-none-any.whl size=1644928 sha256=40e40e52fee76025104c6914ec00b3e86ea8606b87575df891fcbdd561531b19\n",
            "  Stored in directory: /root/.cache/pip/wheels/dc/4c/1c/25048a3f2e8540c60bbba0c25d8400f959205db1048431873a\n",
            "Successfully built gym\n",
            "Installing collected packages: cloudpickle, pyglet, gym\n",
            "  Attempting uninstall: cloudpickle\n",
            "    Found existing installation: cloudpickle 2.2.1\n",
            "    Uninstalling cloudpickle-2.2.1:\n",
            "      Successfully uninstalled cloudpickle-2.2.1\n",
            "  Attempting uninstall: gym\n",
            "    Found existing installation: gym 0.25.2\n",
            "    Uninstalling gym-0.25.2:\n",
            "      Successfully uninstalled gym-0.25.2\n",
            "\u001b[31mERROR: pip's dependency resolver does not currently take into account all the packages that are installed. This behaviour is the source of the following dependency conflicts.\n",
            "bigframes 1.18.0 requires cloudpickle>=2.0.0, but you have cloudpickle 1.2.2 which is incompatible.\n",
            "dask 2024.8.0 requires cloudpickle>=1.5.0, but you have cloudpickle 1.2.2 which is incompatible.\n",
            "distributed 2024.8.0 requires cloudpickle>=1.5.0, but you have cloudpickle 1.2.2 which is incompatible.\n",
            "tensorflow-probability 0.24.0 requires cloudpickle>=1.3, but you have cloudpickle 1.2.2 which is incompatible.\u001b[0m\u001b[31m\n",
            "\u001b[0mSuccessfully installed cloudpickle-1.2.2 gym-0.15.3 pyglet-1.3.2\n"
          ]
        },
        {
          "output_type": "display_data",
          "data": {
            "application/vnd.colab-display-data+json": {
              "pip_warning": {
                "packages": [
                  "gym"
                ]
              },
              "id": "73eee26996b34c71ac4d2bb39ab954a4"
            }
          },
          "metadata": {}
        }
      ]
    },
    {
      "cell_type": "code",
      "execution_count": 1,
      "metadata": {
        "id": "YLUiV57xu8z5",
        "outputId": "1cf10a57-a169-42fa-8ad4-aa787dd29981",
        "colab": {
          "base_uri": "https://localhost:8080/"
        }
      },
      "outputs": [
        {
          "output_type": "stream",
          "name": "stdout",
          "text": [
            "+---------+\n",
            "|\u001b[34;1mR\u001b[0m: | : :\u001b[35mG\u001b[0m|\n",
            "| : | : : |\n",
            "| : : : : |\n",
            "| | : | : |\n",
            "|\u001b[43mY\u001b[0m| : |B: |\n",
            "+---------+\n",
            "\n"
          ]
        }
      ],
      "source": [
        "import gym\n",
        "import random\n",
        "\n",
        "random.seed(1234)\n",
        "\n",
        "streets = gym.make(\"Taxi-v3\").env #New versions keep getting released; if -v3 doesn't work, try -v2 or -v4\n",
        "streets.render()"
      ]
    },
    {
      "cell_type": "markdown",
      "metadata": {
        "id": "URkjWCb4u8z9"
      },
      "source": [
        "Let's break down what we're seeing here:\n",
        "\n",
        "-  R, G, B, and Y are pickup or dropoff locations.\n",
        "-  The BLUE letter indicates where we need to pick someone up from.\n",
        "-  The MAGENTA letter indicates where that passenger wants to go to.\n",
        "-  The solid lines represent walls that the taxi cannot cross.\n",
        "-  The filled rectangle represents the taxi itself - it's yellow when empty, and green when carrying a passenger."
      ]
    },
    {
      "cell_type": "markdown",
      "metadata": {
        "id": "ui6pW5sJu8z9"
      },
      "source": [
        "Our little world here, which we've called \"streets\", is a 5x5 grid. The state of this world at any time can be defined by:\n",
        "\n",
        "-  Where the taxi is (one of 5x5 = 25 locations)\n",
        "-  What the current destination is (4 possibilities)\n",
        "-  Where the passenger is (5 possibilities: at one of the destinations, or inside the taxi)\n",
        "\n",
        "So there are a total of 25 x 4 x 5 = 500 possible states that describe our world.\n",
        "\n",
        "For each state, there are six possible actions:\n",
        "\n",
        "-  Move South, East, North, or West\n",
        "-  Pickup a passenger\n",
        "-  Drop off a passenger\n",
        "\n",
        "Q-Learning will take place using the following rewards and penalties at each state:\n",
        "\n",
        "-  A successfull drop-off yields +20 points\n",
        "-  Every time step taken while driving a passenger yields a -1 point penalty\n",
        "-  Picking up or dropping off at an illegal location yields a -10 point penalty\n",
        "\n",
        "Moving across a wall just isn't allowed at all.\n",
        "\n",
        "Let's define an initial state, with the taxi at location (2, 3), the passenger at pickup location 2, and the destination at location 0:"
      ]
    },
    {
      "cell_type": "code",
      "execution_count": 2,
      "metadata": {
        "id": "xw2t-eeeu8z-",
        "outputId": "cec3f257-0702-4f3f-c023-4954c12d198b",
        "colab": {
          "base_uri": "https://localhost:8080/"
        }
      },
      "outputs": [
        {
          "output_type": "stream",
          "name": "stdout",
          "text": [
            "+---------+\n",
            "|\u001b[35mR\u001b[0m: | : :G|\n",
            "| : | : : |\n",
            "| : : :\u001b[43m \u001b[0m: |\n",
            "| | : | : |\n",
            "|\u001b[34;1mY\u001b[0m| : |B: |\n",
            "+---------+\n",
            "\n"
          ]
        }
      ],
      "source": [
        "initial_state = streets.encode(2, 3, 2, 0)\n",
        "\n",
        "streets.s = initial_state\n",
        "\n",
        "streets.render()"
      ]
    },
    {
      "cell_type": "markdown",
      "metadata": {
        "id": "_vCwsx-au8z-"
      },
      "source": [
        "Let's examine the reward table for this initial state:"
      ]
    },
    {
      "cell_type": "code",
      "execution_count": 3,
      "metadata": {
        "id": "kXK287KLu8z_",
        "outputId": "9c41c2aa-304d-4d88-c456-f2d6547dbfff",
        "colab": {
          "base_uri": "https://localhost:8080/"
        }
      },
      "outputs": [
        {
          "output_type": "execute_result",
          "data": {
            "text/plain": [
              "{0: [(1.0, 368, -1, False)],\n",
              " 1: [(1.0, 168, -1, False)],\n",
              " 2: [(1.0, 288, -1, False)],\n",
              " 3: [(1.0, 248, -1, False)],\n",
              " 4: [(1.0, 268, -10, False)],\n",
              " 5: [(1.0, 268, -10, False)]}"
            ]
          },
          "metadata": {},
          "execution_count": 3
        }
      ],
      "source": [
        "streets.P[initial_state]"
      ]
    },
    {
      "cell_type": "markdown",
      "metadata": {
        "id": "NRxlt0qhu8z_"
      },
      "source": [
        "Here's how to interpret this - each row corresponds to a potential action at this state: move South, North, East, or West, pickup, or dropoff. The four values in each row are the probability assigned to that action, the next state that results from that action, the reward for that action, and whether that action indicates a successful dropoff took place.\n",
        "\n",
        "So for example, moving North from this state would put us into state number 368, incur a penalty of -1 for taking up time, and does not result in a successful dropoff.\n",
        "\n",
        "So, let's do Q-learning! First we need to train our model. At a high level, we'll train over 10,000 simulated taxi runs. For each run, we'll step through time, with a 10% chance at each step of making a random, exploratory step instead of using the learned Q values to guide our actions."
      ]
    },
    {
      "cell_type": "code",
      "execution_count": 29,
      "metadata": {
        "id": "jqbSBoFDu8z_"
      },
      "outputs": [],
      "source": [
        "import numpy as np\n",
        "\n",
        "q_table = np.zeros([streets.observation_space.n, streets.action_space.n])\n",
        "\n",
        "learning_rate = 0.1\n",
        "discount_factor = 0.6\n",
        "exploration = 0.1\n",
        "epochs = 10000\n",
        "\n",
        "for taxi_run in range(epochs):\n",
        "    state = streets.reset()\n",
        "    done = False\n",
        "\n",
        "    while not done:\n",
        "        random_value = random.uniform(0, 1)\n",
        "        if (random_value < exploration):\n",
        "            action = streets.action_space.sample() # Explore a random action\n",
        "        else:\n",
        "            action = np.argmax(q_table[state]) # Use the action with the highest q-value\n",
        "\n",
        "        next_state, reward, done, info = streets.step(action)\n",
        "\n",
        "        prev_q = q_table[state, action]\n",
        "        next_max_q = np.max(q_table[next_state])\n",
        "        new_q = (1 - learning_rate) * prev_q + learning_rate * (reward + discount_factor * next_max_q)\n",
        "        q_table[state, action] = new_q\n",
        "\n",
        "        state = next_state\n",
        "\n"
      ]
    },
    {
      "cell_type": "markdown",
      "metadata": {
        "id": "azQzj3_ku80A"
      },
      "source": [
        "So now we have a table of Q-values that can be quickly used to determine the optimal next step for any given state! Let's check the table for our initial state above:"
      ]
    },
    {
      "cell_type": "code",
      "execution_count": 5,
      "metadata": {
        "id": "rF-vaWiFu80B",
        "outputId": "8dcd0ceb-fd1f-4eaf-965f-a9a82be82303",
        "colab": {
          "base_uri": "https://localhost:8080/"
        }
      },
      "outputs": [
        {
          "output_type": "execute_result",
          "data": {
            "text/plain": [
              "array([-2.39549097, -2.39350263, -2.40120113, -2.3639511 , -5.1447167 ,\n",
              "       -7.68428893])"
            ]
          },
          "metadata": {},
          "execution_count": 5
        }
      ],
      "source": [
        "q_table[initial_state]"
      ]
    },
    {
      "cell_type": "markdown",
      "metadata": {
        "id": "tVrGX45mu80B"
      },
      "source": [
        "The lowest q-value here corresponds to the action \"go West\", which makes sense - that's the most direct route toward our destination from that point. It seems to work! Let's see it in action!"
      ]
    },
    {
      "cell_type": "code",
      "execution_count": 7,
      "metadata": {
        "id": "Tnj2d61Ku80C",
        "outputId": "e4268c6c-0eff-449f-951c-744865755490",
        "colab": {
          "base_uri": "https://localhost:8080/"
        }
      },
      "outputs": [
        {
          "output_type": "stream",
          "name": "stdout",
          "text": [
            "Trip number 10 Step 8\n",
            "+---------+\n",
            "|\u001b[35m\u001b[34;1m\u001b[43mR\u001b[0m\u001b[0m\u001b[0m: | : :G|\n",
            "| : | : : |\n",
            "| : : : : |\n",
            "| | : | : |\n",
            "|Y| : |B: |\n",
            "+---------+\n",
            "  (Dropoff)\n",
            "\n"
          ]
        }
      ],
      "source": [
        "from IPython.display import clear_output\n",
        "from time import sleep\n",
        "\n",
        "for tripnum in range(1, 11):\n",
        "    state = streets.reset()\n",
        "\n",
        "    done = False\n",
        "    trip_length = 0\n",
        "\n",
        "    while not done and trip_length < 25:\n",
        "        action = np.argmax(q_table[state])\n",
        "        next_state, reward, done, info = streets.step(action)\n",
        "        clear_output(wait=True)\n",
        "        print(\"Trip number \" + str(tripnum) + \" Step \" + str(trip_length))\n",
        "        print(streets.render(mode='ansi'))\n",
        "        sleep(.5)\n",
        "        state = next_state\n",
        "        trip_length += 1\n",
        "\n",
        "    sleep(2)\n"
      ]
    },
    {
      "cell_type": "markdown",
      "metadata": {
        "id": "MmF9ljBpu80C"
      },
      "source": [
        "## Your Challenge\n",
        "\n",
        "Modify the block above to keep track of the total time steps, and use that as a metric as to how good our Q-learning system is. You might want to increase the number of simulated trips, and remove the sleep() calls to allow you to run over more samples.\n",
        "\n",
        "Now, try experimenting with the hyperparameters. How low can the number of epochs go before our model starts to suffer? Can you come up with better learning rates, discount factors, or exploration factors to make the training more efficient? The exploration vs. exploitation rate in particular is interesting to experiment with."
      ]
    },
    {
      "cell_type": "markdown",
      "source": [
        "### Displaying total steps for 10 examples using current model"
      ],
      "metadata": {
        "id": "yQZ2zbc7y5N4"
      }
    },
    {
      "cell_type": "code",
      "source": [
        "# returns tolal steps and avg steps to complete task\n",
        "def test_model(q_table, times, animate=False):\n",
        "    total_steps = 0\n",
        "\n",
        "    for tripnum in range(1, times + 1):\n",
        "        state = streets.reset()\n",
        "\n",
        "        done = False\n",
        "        trip_length = 0\n",
        "\n",
        "        while not done and trip_length < 25:\n",
        "            action = np.argmax(q_table[state])\n",
        "            next_state, reward, done, info = streets.step(action)\n",
        "            clear_output(wait=True)\n",
        "            print(\"Trip number \" + str(tripnum) + \" Step \" + str(trip_length))\n",
        "            print(streets.render(mode=\"ansi\"))\n",
        "            if animate:\n",
        "              sleep(.5)\n",
        "            state = next_state\n",
        "            trip_length += 1\n",
        "\n",
        "        total_steps += trip_length\n",
        "        if animate:\n",
        "          sleep(2)\n",
        "\n",
        "    return (total_steps, total_steps / times)"
      ],
      "metadata": {
        "id": "_Ik5leuezmlJ"
      },
      "execution_count": 38,
      "outputs": []
    },
    {
      "cell_type": "markdown",
      "source": [
        "### Changing epochs to see changes"
      ],
      "metadata": {
        "id": "yuBWJZYxzCY_"
      }
    },
    {
      "cell_type": "code",
      "source": [
        "q_table_2 = np.zeros([streets.observation_space.n, streets.action_space.n])\n",
        "\n",
        "learning_rate = 0.1\n",
        "discount_factor = 0.6\n",
        "exploration = 0.1\n",
        "epochs = 100\n",
        "\n",
        "for taxi_run in range(epochs):\n",
        "    state = streets.reset()\n",
        "    done = False\n",
        "\n",
        "    while not done:\n",
        "        random_value = random.uniform(0, 1)\n",
        "        if (random_value < exploration):\n",
        "            action = streets.action_space.sample() # Explore a random action\n",
        "        else:\n",
        "            action = np.argmax(q_table[state]) # Use the action with the highest q-value\n",
        "\n",
        "        next_state, reward, done, info = streets.step(action)\n",
        "\n",
        "        prev_q = q_table[state, action]\n",
        "        next_max_q = np.max(q_table[next_state])\n",
        "        new_q = (1 - learning_rate) * prev_q + learning_rate * (reward + discount_factor * next_max_q)\n",
        "        q_table[state, action] = new_q\n",
        "\n",
        "        state = next_state"
      ],
      "metadata": {
        "id": "eO3OeFV7yz7p"
      },
      "execution_count": 40,
      "outputs": []
    },
    {
      "cell_type": "code",
      "source": [
        "test_1 = test_model(q_table, 10)\n",
        "test_2 = test_model(q_table_2, 10)\n",
        "print(test_1, test_2)"
      ],
      "metadata": {
        "colab": {
          "base_uri": "https://localhost:8080/"
        },
        "id": "T9Yde-ZMzQZx",
        "outputId": "cd9029e0-7a6b-4a78-d14d-ba8992b30970"
      },
      "execution_count": 42,
      "outputs": [
        {
          "output_type": "stream",
          "name": "stdout",
          "text": [
            "Trip number 10 Step 24\n",
            "+---------+\n",
            "|R: | : :\u001b[35mG\u001b[0m|\n",
            "| : | : : |\n",
            "| : : : : |\n",
            "| | : | : |\n",
            "|\u001b[34;1mY\u001b[0m| :\u001b[43m \u001b[0m|B: |\n",
            "+---------+\n",
            "  (South)\n",
            "\n",
            "(116, 11.6) (250, 25.0)\n"
          ]
        }
      ]
    },
    {
      "cell_type": "markdown",
      "source": [
        "Wit lower epochs mode is taking more steps 250 vs 116"
      ],
      "metadata": {
        "id": "P2ODpAFW3CPu"
      }
    },
    {
      "cell_type": "code",
      "source": [
        "q_table_3 = np.zeros([streets.observation_space.n, streets.action_space.n])\n",
        "\n",
        "learning_rate = 0.1\n",
        "discount_factor = 0.6\n",
        "exploration = 0.1\n",
        "epochs = 1000000\n",
        "\n",
        "for taxi_run in range(epochs):\n",
        "    state = streets.reset()\n",
        "    done = False\n",
        "\n",
        "    while not done:\n",
        "        random_value = random.uniform(0, 1)\n",
        "        if (random_value < exploration):\n",
        "            action = streets.action_space.sample() # Explore a random action\n",
        "        else:\n",
        "            action = np.argmax(q_table[state]) # Use the action with the highest q-value\n",
        "\n",
        "        next_state, reward, done, info = streets.step(action)\n",
        "\n",
        "        prev_q = q_table[state, action]\n",
        "        next_max_q = np.max(q_table[next_state])\n",
        "        new_q = (1 - learning_rate) * prev_q + learning_rate * (reward + discount_factor * next_max_q)\n",
        "        q_table[state, action] = new_q\n",
        "\n",
        "        state = next_state\n"
      ],
      "metadata": {
        "id": "QKqPIzO932Vo"
      },
      "execution_count": 60,
      "outputs": []
    },
    {
      "cell_type": "code",
      "source": [
        "test_model(q_table, 10)"
      ],
      "metadata": {
        "colab": {
          "base_uri": "https://localhost:8080/"
        },
        "id": "cJ3ng-kk39ry",
        "outputId": "c173ac07-1511-49d2-a15c-c763d0270910"
      },
      "execution_count": 65,
      "outputs": [
        {
          "output_type": "stream",
          "name": "stdout",
          "text": [
            "Trip number 10 Step 11\n",
            "+---------+\n",
            "|R: | : :G|\n",
            "| : | : : |\n",
            "| : : : : |\n",
            "| | : | : |\n",
            "|\u001b[35m\u001b[34;1m\u001b[43mY\u001b[0m\u001b[0m\u001b[0m| : |B: |\n",
            "+---------+\n",
            "  (Dropoff)\n",
            "\n"
          ]
        },
        {
          "output_type": "execute_result",
          "data": {
            "text/plain": [
              "(143, 14.3)"
            ]
          },
          "metadata": {},
          "execution_count": 65
        }
      ]
    }
  ],
  "metadata": {
    "kernelspec": {
      "display_name": "Python 3",
      "language": "python",
      "name": "python3"
    },
    "language_info": {
      "codemirror_mode": {
        "name": "ipython",
        "version": 3
      },
      "file_extension": ".py",
      "mimetype": "text/x-python",
      "name": "python",
      "nbconvert_exporter": "python",
      "pygments_lexer": "ipython3",
      "version": "3.7.3"
    },
    "colab": {
      "provenance": []
    }
  },
  "nbformat": 4,
  "nbformat_minor": 0
}