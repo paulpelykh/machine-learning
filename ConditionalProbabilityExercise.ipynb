{
  "cells": [
    {
      "cell_type": "markdown",
      "metadata": {
        "id": "4aFyKCqo3ubu"
      },
      "source": [
        "# Conditional Probability Activity & Exercise"
      ]
    },
    {
      "cell_type": "markdown",
      "metadata": {
        "id": "cipQFv1N3ubw"
      },
      "source": [
        "Below is some code to create some fake data on how much stuff people purchase given their age range.\n",
        "\n",
        "It generates 100,000 random \"people\" and randomly assigns them as being in their 20's, 30's, 40's, 50's, 60's, or 70's.\n",
        "\n",
        "It then assigns a lower probability for young people to buy stuff.\n",
        "\n",
        "In the end, we have two Python dictionaries:\n",
        "\n",
        "\"totals\" contains the total number of people in each age group.\n",
        "\"purchases\" contains the total number of things purchased by people in each age group.\n",
        "The grand total of purchases is in totalPurchases, and we know the total number of people is 100,000.\n",
        "\n",
        "Let's run it and have a look:"
      ]
    },
    {
      "cell_type": "code",
      "execution_count": null,
      "metadata": {
        "id": "iUIJPmV63ubw"
      },
      "outputs": [],
      "source": [
        "from numpy import random\n",
        "random.seed(0)\n",
        "\n",
        "totals = {20:0, 30:0, 40:0, 50:0, 60:0, 70:0}\n",
        "purchases = {20:0, 30:0, 40:0, 50:0, 60:0, 70:0}\n",
        "totalPurchases = 0\n",
        "for _ in range(100000):\n",
        "    ageDecade = random.choice([20, 30, 40, 50, 60, 70])\n",
        "    purchaseProbability = float(ageDecade) / 100.0\n",
        "    totals[ageDecade] += 1\n",
        "    if (random.random() < purchaseProbability):\n",
        "        totalPurchases += 1\n",
        "        purchases[ageDecade] += 1"
      ]
    },
    {
      "cell_type": "code",
      "execution_count": null,
      "metadata": {
        "colab": {
          "base_uri": "https://localhost:8080/"
        },
        "id": "vMJgGqgb3uby",
        "outputId": "e189d7bc-0b50-41d7-c70b-4bbea748339d"
      },
      "outputs": [
        {
          "data": {
            "text/plain": [
              "{20: 16576, 30: 16619, 40: 16632, 50: 16805, 60: 16664, 70: 16704}"
            ]
          },
          "execution_count": 2,
          "metadata": {},
          "output_type": "execute_result"
        }
      ],
      "source": [
        "totals"
      ]
    },
    {
      "cell_type": "code",
      "execution_count": null,
      "metadata": {
        "colab": {
          "base_uri": "https://localhost:8080/"
        },
        "id": "xQR36DYS3ub0",
        "outputId": "b0ffcc07-b2ba-4a46-bb31-0d45e70ac34c"
      },
      "outputs": [
        {
          "data": {
            "text/plain": [
              "{20: 3392, 30: 4974, 40: 6670, 50: 8319, 60: 9944, 70: 11713}"
            ]
          },
          "execution_count": 3,
          "metadata": {},
          "output_type": "execute_result"
        }
      ],
      "source": [
        "purchases"
      ]
    },
    {
      "cell_type": "code",
      "execution_count": null,
      "metadata": {
        "colab": {
          "base_uri": "https://localhost:8080/"
        },
        "id": "Ow9Pr7ec3ub0",
        "outputId": "6788d46a-f1cf-4642-b924-850fe69db84b"
      },
      "outputs": [
        {
          "data": {
            "text/plain": [
              "45012"
            ]
          },
          "execution_count": 4,
          "metadata": {},
          "output_type": "execute_result"
        }
      ],
      "source": [
        "totalPurchases"
      ]
    },
    {
      "cell_type": "markdown",
      "metadata": {
        "id": "4BSjjisH3ub0"
      },
      "source": [
        "Let's play with conditional probability.\n",
        "\n",
        "First let's compute P(E|F), where E is \"purchase\" and F is \"you're in your 30's\". The probability of someone in their 30's buying something is just the percentage of how many 30-year-olds bought something:"
      ]
    },
    {
      "cell_type": "code",
      "execution_count": null,
      "metadata": {
        "colab": {
          "background_save": true,
          "base_uri": "https://localhost:8080/"
        },
        "id": "BRnc4t8p3ub1",
        "outputId": "f5f64a2f-7a4d-4bae-8df2-09b8c04b1a74"
      },
      "outputs": [
        {
          "name": "stdout",
          "output_type": "stream",
          "text": [
            "P(purchase | 30s): 0.29929598652145134\n"
          ]
        }
      ],
      "source": [
        "PEF = float(purchases[30]) / float(totals[30])\n",
        "print('P(purchase | 30s): ' + str(PEF))"
      ]
    },
    {
      "cell_type": "markdown",
      "metadata": {
        "id": "eFzx9u_R3ub2"
      },
      "source": [
        "P(F) is just the probability of being 30 in this data set:"
      ]
    },
    {
      "cell_type": "code",
      "execution_count": 6,
      "metadata": {
        "id": "OnMfUsWG3ub2",
        "outputId": "39a418a5-636a-4b65-ff29-75e9506bad45",
        "colab": {
          "base_uri": "https://localhost:8080/"
        }
      },
      "outputs": [
        {
          "output_type": "stream",
          "name": "stdout",
          "text": [
            "P(30's): 0.16619\n"
          ]
        }
      ],
      "source": [
        "PF = float(totals[30]) / 100000.0\n",
        "print(\"P(30's): \" +  str(PF))"
      ]
    },
    {
      "cell_type": "markdown",
      "metadata": {
        "id": "kxhCE-DT3ub3"
      },
      "source": [
        "And P(E) is the overall probability of buying something, regardless of your age:"
      ]
    },
    {
      "cell_type": "code",
      "execution_count": 7,
      "metadata": {
        "id": "8YncXATf3ub3",
        "outputId": "cee7473b-f0c0-4117-e229-ad7703d6c893",
        "colab": {
          "base_uri": "https://localhost:8080/"
        }
      },
      "outputs": [
        {
          "output_type": "stream",
          "name": "stdout",
          "text": [
            "P(Purchase):0.45012\n"
          ]
        }
      ],
      "source": [
        "PE = float(totalPurchases) / 100000.0\n",
        "print(\"P(Purchase):\" + str(PE))"
      ]
    },
    {
      "cell_type": "markdown",
      "metadata": {
        "id": "2h5uVoJc3ub3"
      },
      "source": [
        "If E and F were independent, then we would expect P(E | F) to be about the same as P(E). But they're not; P(E) is 0.45, and P(E|F) is 0.3. So, that tells us that E and F are dependent (which we know they are in this example.)"
      ]
    },
    {
      "cell_type": "markdown",
      "metadata": {
        "id": "DdXZazfs3ub3"
      },
      "source": [
        "P(E,F) is different from P(E|F). P(E,F) would be the probability of both being in your 30's and buying something, out of the total population - not just the population of people in their 30's:"
      ]
    },
    {
      "cell_type": "code",
      "execution_count": 8,
      "metadata": {
        "id": "rvY2I5h83ub4",
        "outputId": "6532c2f5-0a94-4883-9704-99497e8f6602",
        "scrolled": true,
        "colab": {
          "base_uri": "https://localhost:8080/"
        }
      },
      "outputs": [
        {
          "output_type": "stream",
          "name": "stdout",
          "text": [
            "P(30's, Purchase)0.04974\n"
          ]
        }
      ],
      "source": [
        "print(\"P(30's, Purchase)\" + str(float(purchases[30]) / 100000.0))"
      ]
    },
    {
      "cell_type": "markdown",
      "metadata": {
        "id": "u9Ce1wwu3ub4"
      },
      "source": [
        "Let's also compute the product of P(E) and P(F), P(E)P(F):"
      ]
    },
    {
      "cell_type": "code",
      "execution_count": 9,
      "metadata": {
        "id": "_gVx3NxB3ub4",
        "outputId": "8246ccad-6f61-495e-b8ce-51939272100b",
        "colab": {
          "base_uri": "https://localhost:8080/"
        }
      },
      "outputs": [
        {
          "output_type": "stream",
          "name": "stdout",
          "text": [
            "P(30's)P(Purchase)0.07480544280000001\n"
          ]
        }
      ],
      "source": [
        "print(\"P(30's)P(Purchase)\" + str(PE * PF))"
      ]
    },
    {
      "cell_type": "markdown",
      "metadata": {
        "id": "A_mmRAxT3ub5"
      },
      "source": [
        "Something you may learn in stats is that P(E,F) = P(E)P(F), but this assumes E and F are independent. We've found here that P(E,F) is about 0.05, while P(E)P(F) is about 0.075. So when E and F are dependent - and we have a conditional probability going on - we can't just say that P(E,F) = P(E)P(F).\n",
        "\n",
        "We can also check that P(E|F) = P(E,F)/P(F), which is the relationship we showed in the slides - and sure enough, it is:"
      ]
    },
    {
      "cell_type": "code",
      "execution_count": 10,
      "metadata": {
        "id": "Tz9qk6H43ub5",
        "outputId": "02f193cb-b81e-489a-c7f5-2d81d2fa722a",
        "colab": {
          "base_uri": "https://localhost:8080/"
        }
      },
      "outputs": [
        {
          "output_type": "stream",
          "name": "stdout",
          "text": [
            "0.29929598652145134\n"
          ]
        }
      ],
      "source": [
        "print((purchases[30] / 100000.0) / PF)"
      ]
    },
    {
      "cell_type": "markdown",
      "metadata": {
        "id": "bQcR5qC33ub5"
      },
      "source": [
        "## Your Assignment"
      ]
    },
    {
      "cell_type": "markdown",
      "metadata": {
        "id": "MEkbykV53ub5"
      },
      "source": [
        "Modify the code above such that the purchase probability does NOT vary with age, making E and F actually independent.\n",
        "\n",
        "Then, confirm that P(E|F) is about the same as P(E), showing that the conditional probability of purchase for a given age is not any different than the a-priori probability of purchase regardless of age.\n"
      ]
    },
    {
      "cell_type": "code",
      "execution_count": 40,
      "metadata": {
        "id": "eGvTafdW3ub6"
      },
      "outputs": [],
      "source": [
        "totals = {20:0, 30:0, 40:0, 50:0, 60:0, 70:0}\n",
        "purchases = {20:0, 30:0, 40:0, 50:0, 60:0, 70:0}\n",
        "totalPurchases = 0\n",
        "for _ in range(100000):\n",
        "    ageDecade = random.choice([20, 30, 40, 50, 60, 70])\n",
        "    purchaseProbability = random.random()\n",
        "    totals[ageDecade] += 1\n",
        "    if (random.random() < purchaseProbability):\n",
        "        totalPurchases += 1\n",
        "        purchases[ageDecade] += 1"
      ]
    },
    {
      "cell_type": "code",
      "source": [
        "totals"
      ],
      "metadata": {
        "colab": {
          "base_uri": "https://localhost:8080/"
        },
        "id": "i8qezTxJSkeJ",
        "outputId": "d6946b3a-e44a-4958-f94b-c76e97d0b45c"
      },
      "execution_count": 41,
      "outputs": [
        {
          "output_type": "execute_result",
          "data": {
            "text/plain": [
              "{20: 16520, 30: 16749, 40: 16737, 50: 16647, 60: 16498, 70: 16849}"
            ]
          },
          "metadata": {},
          "execution_count": 41
        }
      ]
    },
    {
      "cell_type": "code",
      "source": [
        "purchases"
      ],
      "metadata": {
        "colab": {
          "base_uri": "https://localhost:8080/"
        },
        "id": "dKZIDRaCS_Da",
        "outputId": "d63e251b-5e87-4218-ca9b-dcdcfeb7b65a"
      },
      "execution_count": 42,
      "outputs": [
        {
          "output_type": "execute_result",
          "data": {
            "text/plain": [
              "{20: 8289, 30: 8291, 40: 8434, 50: 8349, 60: 8402, 70: 8527}"
            ]
          },
          "metadata": {},
          "execution_count": 42
        }
      ]
    },
    {
      "cell_type": "code",
      "source": [
        "totalPurchases"
      ],
      "metadata": {
        "colab": {
          "base_uri": "https://localhost:8080/"
        },
        "id": "W_rtrUg8TD-G",
        "outputId": "360095eb-95e7-4cd6-fb60-c1c117502536"
      },
      "execution_count": 43,
      "outputs": [
        {
          "output_type": "execute_result",
          "data": {
            "text/plain": [
              "50292"
            ]
          },
          "metadata": {},
          "execution_count": 43
        }
      ]
    },
    {
      "cell_type": "code",
      "source": [
        "PEF = float(purchases[30]) / float(totals[30])\n",
        "print('P(purchase | 30s): ' + str(PEF))"
      ],
      "metadata": {
        "colab": {
          "base_uri": "https://localhost:8080/"
        },
        "id": "93qJSf1ATHvZ",
        "outputId": "788f237e-febd-4e83-f718-d58dc703aaf1"
      },
      "execution_count": 44,
      "outputs": [
        {
          "output_type": "stream",
          "name": "stdout",
          "text": [
            "P(purchase | 30s): 0.4950146277389695\n"
          ]
        }
      ]
    },
    {
      "cell_type": "code",
      "source": [
        "PF = float(totals[30]) / 100000.0\n",
        "print(\"P(30's): \" +  str(PF))"
      ],
      "metadata": {
        "colab": {
          "base_uri": "https://localhost:8080/"
        },
        "id": "ro6tK0uMTPSw",
        "outputId": "c003ad99-6607-4c34-b7ec-e3adb0d70cbb"
      },
      "execution_count": 45,
      "outputs": [
        {
          "output_type": "stream",
          "name": "stdout",
          "text": [
            "P(30's): 0.16749\n"
          ]
        }
      ]
    },
    {
      "cell_type": "code",
      "source": [
        "PE = float(totalPurchases) / 100000.0\n",
        "print(\"P(Purchase):\" + str(PE))"
      ],
      "metadata": {
        "colab": {
          "base_uri": "https://localhost:8080/"
        },
        "id": "YhPkE41PTU8i",
        "outputId": "b1478c25-4cea-4be5-8181-17199f959f95"
      },
      "execution_count": 46,
      "outputs": [
        {
          "output_type": "stream",
          "name": "stdout",
          "text": [
            "P(Purchase):0.50292\n"
          ]
        }
      ]
    },
    {
      "cell_type": "code",
      "source": [
        "print(\"P(30's, Purchase)\" + str(float(purchases[30]) / 100000.0))"
      ],
      "metadata": {
        "colab": {
          "base_uri": "https://localhost:8080/"
        },
        "id": "ACPuptjHUIMC",
        "outputId": "9e82ca89-72f4-4852-e33a-2053a044395d"
      },
      "execution_count": 47,
      "outputs": [
        {
          "output_type": "stream",
          "name": "stdout",
          "text": [
            "P(30's, Purchase)0.08291\n"
          ]
        }
      ]
    },
    {
      "cell_type": "code",
      "source": [
        "print(\"P(30's)P(Purchase)\" + str(PE * PF))"
      ],
      "metadata": {
        "colab": {
          "base_uri": "https://localhost:8080/"
        },
        "id": "Ux1agScTULNX",
        "outputId": "84ca530c-f00f-45ad-eed9-fb7cc09bf0ed"
      },
      "execution_count": 48,
      "outputs": [
        {
          "output_type": "stream",
          "name": "stdout",
          "text": [
            "P(30's)P(Purchase)0.0842340708\n"
          ]
        }
      ]
    },
    {
      "cell_type": "markdown",
      "source": [
        "P(E, F) is equal to P(E)P(F) becuase it's independed"
      ],
      "metadata": {
        "id": "laCWWrB_XZHk"
      }
    },
    {
      "cell_type": "code",
      "source": [
        "print((purchases[30] / 100000.0) / PF)"
      ],
      "metadata": {
        "colab": {
          "base_uri": "https://localhost:8080/"
        },
        "id": "JqkTSoxDUUIM",
        "outputId": "fd2716ce-d378-4733-ad67-e12b8ad91048"
      },
      "execution_count": 49,
      "outputs": [
        {
          "output_type": "stream",
          "name": "stdout",
          "text": [
            "0.4950146277389695\n"
          ]
        }
      ]
    }
  ],
  "metadata": {
    "colab": {
      "provenance": []
    },
    "kernelspec": {
      "display_name": "Python 3",
      "language": "python",
      "name": "python3"
    },
    "language_info": {
      "codemirror_mode": {
        "name": "ipython",
        "version": 3
      },
      "file_extension": ".py",
      "mimetype": "text/x-python",
      "name": "python",
      "nbconvert_exporter": "python",
      "pygments_lexer": "ipython3",
      "version": "3.7.3"
    }
  },
  "nbformat": 4,
  "nbformat_minor": 0
}